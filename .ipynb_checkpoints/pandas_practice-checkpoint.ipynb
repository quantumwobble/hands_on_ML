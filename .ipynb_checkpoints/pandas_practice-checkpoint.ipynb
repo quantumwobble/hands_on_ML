{
 "cells": [
  {
   "cell_type": "code",
   "execution_count": 1,
   "id": "c671b37c",
   "metadata": {},
   "outputs": [],
   "source": [
    "import numpy as np"
   ]
  },
  {
   "cell_type": "code",
   "execution_count": 2,
   "id": "3940e8f4",
   "metadata": {},
   "outputs": [],
   "source": [
    "import pandas as pd"
   ]
  },
  {
   "cell_type": "markdown",
   "id": "9160fd43",
   "metadata": {},
   "source": [
    "#### The biggest difference between NumPy and Pandas is that pandas is designed for working with tabular or heterogeneous data. *NumPy, as we know, is best suited for working with homogeneously typed numerical array data.* "
   ]
  },
  {
   "cell_type": "code",
   "execution_count": 3,
   "id": "eeae32dd",
   "metadata": {},
   "outputs": [],
   "source": [
    "from pandas import Series, DataFrame"
   ]
  },
  {
   "cell_type": "markdown",
   "id": "6f49d039",
   "metadata": {},
   "source": [
    "### Series:"
   ]
  },
  {
   "cell_type": "markdown",
   "id": "682cd4b5",
   "metadata": {},
   "source": [
    "#### A Series is a one-dimensional array-like object containing a sequence of values(of similar types to NumPy types) of the same type and an associated array of data labels, called its index."
   ]
  },
  {
   "cell_type": "code",
   "execution_count": 4,
   "id": "4579d0b6",
   "metadata": {},
   "outputs": [],
   "source": [
    "obj = pd.Series([4, 7, -5, 3])"
   ]
  },
  {
   "cell_type": "code",
   "execution_count": 5,
   "id": "86e82dfc",
   "metadata": {},
   "outputs": [
    {
     "data": {
      "text/plain": [
       "0    4\n",
       "1    7\n",
       "2   -5\n",
       "3    3\n",
       "dtype: int64"
      ]
     },
     "execution_count": 5,
     "metadata": {},
     "output_type": "execute_result"
    }
   ],
   "source": [
    "obj"
   ]
  },
  {
   "cell_type": "code",
   "execution_count": 6,
   "id": "db81ac37",
   "metadata": {},
   "outputs": [
    {
     "data": {
      "text/plain": [
       "<PandasArray>\n",
       "[4, 7, -5, 3]\n",
       "Length: 4, dtype: int64"
      ]
     },
     "execution_count": 6,
     "metadata": {},
     "output_type": "execute_result"
    }
   ],
   "source": [
    "obj.array"
   ]
  },
  {
   "cell_type": "code",
   "execution_count": 7,
   "id": "64e27ad3",
   "metadata": {},
   "outputs": [
    {
     "data": {
      "text/plain": [
       "RangeIndex(start=0, stop=4, step=1)"
      ]
     },
     "execution_count": 7,
     "metadata": {},
     "output_type": "execute_result"
    }
   ],
   "source": [
    "obj.index"
   ]
  },
  {
   "cell_type": "code",
   "execution_count": 8,
   "id": "2d8adac2",
   "metadata": {},
   "outputs": [],
   "source": [
    "obj2 = pd.Series([4, 7, -5, 3], index = [\"d\", \"a\", \"b\", \"c\"])"
   ]
  },
  {
   "cell_type": "code",
   "execution_count": 9,
   "id": "c2e22054",
   "metadata": {},
   "outputs": [
    {
     "data": {
      "text/plain": [
       "<PandasArray>\n",
       "[4, 7, -5, 3]\n",
       "Length: 4, dtype: int64"
      ]
     },
     "execution_count": 9,
     "metadata": {},
     "output_type": "execute_result"
    }
   ],
   "source": [
    "obj2.array"
   ]
  },
  {
   "cell_type": "code",
   "execution_count": 10,
   "id": "4de6f4ec",
   "metadata": {},
   "outputs": [
    {
     "data": {
      "text/plain": [
       "Index(['d', 'a', 'b', 'c'], dtype='object')"
      ]
     },
     "execution_count": 10,
     "metadata": {},
     "output_type": "execute_result"
    }
   ],
   "source": [
    "obj2.index"
   ]
  },
  {
   "cell_type": "code",
   "execution_count": 11,
   "id": "07a1fe37",
   "metadata": {},
   "outputs": [
    {
     "data": {
      "text/plain": [
       "7"
      ]
     },
     "execution_count": 11,
     "metadata": {},
     "output_type": "execute_result"
    }
   ],
   "source": [
    "obj2[\"a\"]"
   ]
  },
  {
   "cell_type": "markdown",
   "id": "2b7e25e2",
   "metadata": {},
   "source": [
    "#### Another way to think about a Series is as a fixed-length, ordered dictionary, as it is a mapping of index values to data values. It can be used in many contexts where you might use a dictionary."
   ]
  },
  {
   "cell_type": "markdown",
   "id": "78054c9b",
   "metadata": {},
   "source": [
    "#### If we have data in a Python dictionary, we can create a Series from it by passing the dictionary"
   ]
  },
  {
   "cell_type": "code",
   "execution_count": 12,
   "id": "2886e2ba",
   "metadata": {},
   "outputs": [],
   "source": [
    "sdata = {\"Ohio\": 35000, \"Texas\": 71000, \"Oregon\": 16000, \"Utah\": 5000}"
   ]
  },
  {
   "cell_type": "code",
   "execution_count": 13,
   "id": "ff0ab215",
   "metadata": {},
   "outputs": [],
   "source": [
    "obj3 = pd.Series(sdata)"
   ]
  },
  {
   "cell_type": "code",
   "execution_count": 14,
   "id": "b93f6213",
   "metadata": {},
   "outputs": [
    {
     "data": {
      "text/plain": [
       "Ohio      35000\n",
       "Texas     71000\n",
       "Oregon    16000\n",
       "Utah       5000\n",
       "dtype: int64"
      ]
     },
     "execution_count": 14,
     "metadata": {},
     "output_type": "execute_result"
    }
   ],
   "source": [
    "obj3"
   ]
  },
  {
   "cell_type": "markdown",
   "id": "07c4c558",
   "metadata": {},
   "source": [
    "#### When you are only passing a dictionary, the index in the resulting Series will respect the order of the keys according to the dictionary's keys method, which depends on the key insertion order. You can override this by passing an index with the dictionary keys in the order you want them to appear."
   ]
  },
  {
   "cell_type": "code",
   "execution_count": 15,
   "id": "2fd8fe4b",
   "metadata": {},
   "outputs": [],
   "source": [
    "states = [\"California\", \"Ohio\", \"Oregon\", \"Texas\"]"
   ]
  },
  {
   "cell_type": "code",
   "execution_count": 16,
   "id": "ed7ab3a5",
   "metadata": {},
   "outputs": [],
   "source": [
    "obj4 = pd.Series(sdata, index=states)"
   ]
  },
  {
   "cell_type": "code",
   "execution_count": 17,
   "id": "53d55d4b",
   "metadata": {},
   "outputs": [
    {
     "data": {
      "text/plain": [
       "California        NaN\n",
       "Ohio          35000.0\n",
       "Oregon        16000.0\n",
       "Texas         71000.0\n",
       "dtype: float64"
      ]
     },
     "execution_count": 17,
     "metadata": {},
     "output_type": "execute_result"
    }
   ],
   "source": [
    "obj4"
   ]
  },
  {
   "cell_type": "markdown",
   "id": "89d90345",
   "metadata": {},
   "source": [
    "### DataFrame"
   ]
  },
  {
   "cell_type": "markdown",
   "id": "14bc2f8a",
   "metadata": {},
   "source": [
    "#### A DataFrame represents a rectangular table of data and contains an ordered, named collection of columns, each of which can be a different value type(numeric, string, Boolean, etc.). The DataFrame has both a row and column index; it can be thought of as a dictionary of Series all sharing the same index."
   ]
  },
  {
   "cell_type": "code",
   "execution_count": 18,
   "id": "a4746470",
   "metadata": {},
   "outputs": [],
   "source": [
    "data = {\"state\": [\"Ohio\", \"Ohio\", \"Ohio\", \"Nevada\", \"Nevada\", \"Nevada\"],\n",
    "       \"year\": [2000, 2001, 2002, 2001, 2002, 2003],\n",
    "       \"pop\": [1.5, 1.7, 3.6, 2.4, 2.9, 3.2]}"
   ]
  },
  {
   "cell_type": "code",
   "execution_count": 19,
   "id": "181f5a64",
   "metadata": {},
   "outputs": [],
   "source": [
    "frame = pd.DataFrame(data)"
   ]
  },
  {
   "cell_type": "code",
   "execution_count": 20,
   "id": "768f4d1e",
   "metadata": {},
   "outputs": [
    {
     "data": {
      "text/html": [
       "<div>\n",
       "<style scoped>\n",
       "    .dataframe tbody tr th:only-of-type {\n",
       "        vertical-align: middle;\n",
       "    }\n",
       "\n",
       "    .dataframe tbody tr th {\n",
       "        vertical-align: top;\n",
       "    }\n",
       "\n",
       "    .dataframe thead th {\n",
       "        text-align: right;\n",
       "    }\n",
       "</style>\n",
       "<table border=\"1\" class=\"dataframe\">\n",
       "  <thead>\n",
       "    <tr style=\"text-align: right;\">\n",
       "      <th></th>\n",
       "      <th>state</th>\n",
       "      <th>year</th>\n",
       "      <th>pop</th>\n",
       "    </tr>\n",
       "  </thead>\n",
       "  <tbody>\n",
       "    <tr>\n",
       "      <th>0</th>\n",
       "      <td>Ohio</td>\n",
       "      <td>2000</td>\n",
       "      <td>1.5</td>\n",
       "    </tr>\n",
       "    <tr>\n",
       "      <th>1</th>\n",
       "      <td>Ohio</td>\n",
       "      <td>2001</td>\n",
       "      <td>1.7</td>\n",
       "    </tr>\n",
       "    <tr>\n",
       "      <th>2</th>\n",
       "      <td>Ohio</td>\n",
       "      <td>2002</td>\n",
       "      <td>3.6</td>\n",
       "    </tr>\n",
       "    <tr>\n",
       "      <th>3</th>\n",
       "      <td>Nevada</td>\n",
       "      <td>2001</td>\n",
       "      <td>2.4</td>\n",
       "    </tr>\n",
       "    <tr>\n",
       "      <th>4</th>\n",
       "      <td>Nevada</td>\n",
       "      <td>2002</td>\n",
       "      <td>2.9</td>\n",
       "    </tr>\n",
       "    <tr>\n",
       "      <th>5</th>\n",
       "      <td>Nevada</td>\n",
       "      <td>2003</td>\n",
       "      <td>3.2</td>\n",
       "    </tr>\n",
       "  </tbody>\n",
       "</table>\n",
       "</div>"
      ],
      "text/plain": [
       "    state  year  pop\n",
       "0    Ohio  2000  1.5\n",
       "1    Ohio  2001  1.7\n",
       "2    Ohio  2002  3.6\n",
       "3  Nevada  2001  2.4\n",
       "4  Nevada  2002  2.9\n",
       "5  Nevada  2003  3.2"
      ]
     },
     "execution_count": 20,
     "metadata": {},
     "output_type": "execute_result"
    }
   ],
   "source": [
    "frame"
   ]
  },
  {
   "cell_type": "code",
   "execution_count": 21,
   "id": "1ed19d77",
   "metadata": {},
   "outputs": [
    {
     "data": {
      "text/html": [
       "<div>\n",
       "<style scoped>\n",
       "    .dataframe tbody tr th:only-of-type {\n",
       "        vertical-align: middle;\n",
       "    }\n",
       "\n",
       "    .dataframe tbody tr th {\n",
       "        vertical-align: top;\n",
       "    }\n",
       "\n",
       "    .dataframe thead th {\n",
       "        text-align: right;\n",
       "    }\n",
       "</style>\n",
       "<table border=\"1\" class=\"dataframe\">\n",
       "  <thead>\n",
       "    <tr style=\"text-align: right;\">\n",
       "      <th></th>\n",
       "      <th>state</th>\n",
       "      <th>year</th>\n",
       "      <th>pop</th>\n",
       "    </tr>\n",
       "  </thead>\n",
       "  <tbody>\n",
       "    <tr>\n",
       "      <th>0</th>\n",
       "      <td>Ohio</td>\n",
       "      <td>2000</td>\n",
       "      <td>1.5</td>\n",
       "    </tr>\n",
       "    <tr>\n",
       "      <th>1</th>\n",
       "      <td>Ohio</td>\n",
       "      <td>2001</td>\n",
       "      <td>1.7</td>\n",
       "    </tr>\n",
       "    <tr>\n",
       "      <th>2</th>\n",
       "      <td>Ohio</td>\n",
       "      <td>2002</td>\n",
       "      <td>3.6</td>\n",
       "    </tr>\n",
       "    <tr>\n",
       "      <th>3</th>\n",
       "      <td>Nevada</td>\n",
       "      <td>2001</td>\n",
       "      <td>2.4</td>\n",
       "    </tr>\n",
       "    <tr>\n",
       "      <th>4</th>\n",
       "      <td>Nevada</td>\n",
       "      <td>2002</td>\n",
       "      <td>2.9</td>\n",
       "    </tr>\n",
       "  </tbody>\n",
       "</table>\n",
       "</div>"
      ],
      "text/plain": [
       "    state  year  pop\n",
       "0    Ohio  2000  1.5\n",
       "1    Ohio  2001  1.7\n",
       "2    Ohio  2002  3.6\n",
       "3  Nevada  2001  2.4\n",
       "4  Nevada  2002  2.9"
      ]
     },
     "execution_count": 21,
     "metadata": {},
     "output_type": "execute_result"
    }
   ],
   "source": [
    "frame.head()"
   ]
  },
  {
   "cell_type": "code",
   "execution_count": 22,
   "id": "696d7013",
   "metadata": {},
   "outputs": [
    {
     "data": {
      "text/html": [
       "<div>\n",
       "<style scoped>\n",
       "    .dataframe tbody tr th:only-of-type {\n",
       "        vertical-align: middle;\n",
       "    }\n",
       "\n",
       "    .dataframe tbody tr th {\n",
       "        vertical-align: top;\n",
       "    }\n",
       "\n",
       "    .dataframe thead th {\n",
       "        text-align: right;\n",
       "    }\n",
       "</style>\n",
       "<table border=\"1\" class=\"dataframe\">\n",
       "  <thead>\n",
       "    <tr style=\"text-align: right;\">\n",
       "      <th></th>\n",
       "      <th>state</th>\n",
       "      <th>year</th>\n",
       "      <th>pop</th>\n",
       "    </tr>\n",
       "  </thead>\n",
       "  <tbody>\n",
       "    <tr>\n",
       "      <th>1</th>\n",
       "      <td>Ohio</td>\n",
       "      <td>2001</td>\n",
       "      <td>1.7</td>\n",
       "    </tr>\n",
       "    <tr>\n",
       "      <th>2</th>\n",
       "      <td>Ohio</td>\n",
       "      <td>2002</td>\n",
       "      <td>3.6</td>\n",
       "    </tr>\n",
       "    <tr>\n",
       "      <th>3</th>\n",
       "      <td>Nevada</td>\n",
       "      <td>2001</td>\n",
       "      <td>2.4</td>\n",
       "    </tr>\n",
       "    <tr>\n",
       "      <th>4</th>\n",
       "      <td>Nevada</td>\n",
       "      <td>2002</td>\n",
       "      <td>2.9</td>\n",
       "    </tr>\n",
       "    <tr>\n",
       "      <th>5</th>\n",
       "      <td>Nevada</td>\n",
       "      <td>2003</td>\n",
       "      <td>3.2</td>\n",
       "    </tr>\n",
       "  </tbody>\n",
       "</table>\n",
       "</div>"
      ],
      "text/plain": [
       "    state  year  pop\n",
       "1    Ohio  2001  1.7\n",
       "2    Ohio  2002  3.6\n",
       "3  Nevada  2001  2.4\n",
       "4  Nevada  2002  2.9\n",
       "5  Nevada  2003  3.2"
      ]
     },
     "execution_count": 22,
     "metadata": {},
     "output_type": "execute_result"
    }
   ],
   "source": [
    "frame.tail()"
   ]
  },
  {
   "cell_type": "code",
   "execution_count": 23,
   "id": "b00aab9f",
   "metadata": {},
   "outputs": [
    {
     "data": {
      "text/html": [
       "<div>\n",
       "<style scoped>\n",
       "    .dataframe tbody tr th:only-of-type {\n",
       "        vertical-align: middle;\n",
       "    }\n",
       "\n",
       "    .dataframe tbody tr th {\n",
       "        vertical-align: top;\n",
       "    }\n",
       "\n",
       "    .dataframe thead th {\n",
       "        text-align: right;\n",
       "    }\n",
       "</style>\n",
       "<table border=\"1\" class=\"dataframe\">\n",
       "  <thead>\n",
       "    <tr style=\"text-align: right;\">\n",
       "      <th></th>\n",
       "      <th>year</th>\n",
       "      <th>state</th>\n",
       "      <th>pop</th>\n",
       "    </tr>\n",
       "  </thead>\n",
       "  <tbody>\n",
       "    <tr>\n",
       "      <th>0</th>\n",
       "      <td>2000</td>\n",
       "      <td>Ohio</td>\n",
       "      <td>1.5</td>\n",
       "    </tr>\n",
       "    <tr>\n",
       "      <th>1</th>\n",
       "      <td>2001</td>\n",
       "      <td>Ohio</td>\n",
       "      <td>1.7</td>\n",
       "    </tr>\n",
       "    <tr>\n",
       "      <th>2</th>\n",
       "      <td>2002</td>\n",
       "      <td>Ohio</td>\n",
       "      <td>3.6</td>\n",
       "    </tr>\n",
       "    <tr>\n",
       "      <th>3</th>\n",
       "      <td>2001</td>\n",
       "      <td>Nevada</td>\n",
       "      <td>2.4</td>\n",
       "    </tr>\n",
       "    <tr>\n",
       "      <th>4</th>\n",
       "      <td>2002</td>\n",
       "      <td>Nevada</td>\n",
       "      <td>2.9</td>\n",
       "    </tr>\n",
       "    <tr>\n",
       "      <th>5</th>\n",
       "      <td>2003</td>\n",
       "      <td>Nevada</td>\n",
       "      <td>3.2</td>\n",
       "    </tr>\n",
       "  </tbody>\n",
       "</table>\n",
       "</div>"
      ],
      "text/plain": [
       "   year   state  pop\n",
       "0  2000    Ohio  1.5\n",
       "1  2001    Ohio  1.7\n",
       "2  2002    Ohio  3.6\n",
       "3  2001  Nevada  2.4\n",
       "4  2002  Nevada  2.9\n",
       "5  2003  Nevada  3.2"
      ]
     },
     "execution_count": 23,
     "metadata": {},
     "output_type": "execute_result"
    }
   ],
   "source": [
    "pd.DataFrame(data, columns=[\"year\", \"state\", \"pop\"])"
   ]
  },
  {
   "cell_type": "code",
   "execution_count": 24,
   "id": "1c477be7",
   "metadata": {},
   "outputs": [],
   "source": [
    "frame2 = pd.DataFrame(data, columns = [\"year\", \"state\", \"pop\", \"debt\"])"
   ]
  },
  {
   "cell_type": "code",
   "execution_count": 25,
   "id": "121a7113",
   "metadata": {},
   "outputs": [
    {
     "data": {
      "text/html": [
       "<div>\n",
       "<style scoped>\n",
       "    .dataframe tbody tr th:only-of-type {\n",
       "        vertical-align: middle;\n",
       "    }\n",
       "\n",
       "    .dataframe tbody tr th {\n",
       "        vertical-align: top;\n",
       "    }\n",
       "\n",
       "    .dataframe thead th {\n",
       "        text-align: right;\n",
       "    }\n",
       "</style>\n",
       "<table border=\"1\" class=\"dataframe\">\n",
       "  <thead>\n",
       "    <tr style=\"text-align: right;\">\n",
       "      <th></th>\n",
       "      <th>year</th>\n",
       "      <th>state</th>\n",
       "      <th>pop</th>\n",
       "      <th>debt</th>\n",
       "    </tr>\n",
       "  </thead>\n",
       "  <tbody>\n",
       "    <tr>\n",
       "      <th>0</th>\n",
       "      <td>2000</td>\n",
       "      <td>Ohio</td>\n",
       "      <td>1.5</td>\n",
       "      <td>NaN</td>\n",
       "    </tr>\n",
       "    <tr>\n",
       "      <th>1</th>\n",
       "      <td>2001</td>\n",
       "      <td>Ohio</td>\n",
       "      <td>1.7</td>\n",
       "      <td>NaN</td>\n",
       "    </tr>\n",
       "    <tr>\n",
       "      <th>2</th>\n",
       "      <td>2002</td>\n",
       "      <td>Ohio</td>\n",
       "      <td>3.6</td>\n",
       "      <td>NaN</td>\n",
       "    </tr>\n",
       "    <tr>\n",
       "      <th>3</th>\n",
       "      <td>2001</td>\n",
       "      <td>Nevada</td>\n",
       "      <td>2.4</td>\n",
       "      <td>NaN</td>\n",
       "    </tr>\n",
       "    <tr>\n",
       "      <th>4</th>\n",
       "      <td>2002</td>\n",
       "      <td>Nevada</td>\n",
       "      <td>2.9</td>\n",
       "      <td>NaN</td>\n",
       "    </tr>\n",
       "    <tr>\n",
       "      <th>5</th>\n",
       "      <td>2003</td>\n",
       "      <td>Nevada</td>\n",
       "      <td>3.2</td>\n",
       "      <td>NaN</td>\n",
       "    </tr>\n",
       "  </tbody>\n",
       "</table>\n",
       "</div>"
      ],
      "text/plain": [
       "   year   state  pop debt\n",
       "0  2000    Ohio  1.5  NaN\n",
       "1  2001    Ohio  1.7  NaN\n",
       "2  2002    Ohio  3.6  NaN\n",
       "3  2001  Nevada  2.4  NaN\n",
       "4  2002  Nevada  2.9  NaN\n",
       "5  2003  Nevada  3.2  NaN"
      ]
     },
     "execution_count": 25,
     "metadata": {},
     "output_type": "execute_result"
    }
   ],
   "source": [
    "frame2"
   ]
  },
  {
   "cell_type": "code",
   "execution_count": 26,
   "id": "7242e016",
   "metadata": {},
   "outputs": [
    {
     "data": {
      "text/plain": [
       "Index(['year', 'state', 'pop', 'debt'], dtype='object')"
      ]
     },
     "execution_count": 26,
     "metadata": {},
     "output_type": "execute_result"
    }
   ],
   "source": [
    "frame2.columns"
   ]
  },
  {
   "cell_type": "code",
   "execution_count": 27,
   "id": "bee5a4c6",
   "metadata": {},
   "outputs": [
    {
     "data": {
      "text/plain": [
       "Index(['state', 'year', 'pop'], dtype='object')"
      ]
     },
     "execution_count": 27,
     "metadata": {},
     "output_type": "execute_result"
    }
   ],
   "source": [
    "frame.columns"
   ]
  },
  {
   "cell_type": "code",
   "execution_count": 28,
   "id": "262162dd",
   "metadata": {},
   "outputs": [
    {
     "data": {
      "text/plain": [
       "0    2000\n",
       "1    2001\n",
       "2    2002\n",
       "3    2001\n",
       "4    2002\n",
       "5    2003\n",
       "Name: year, dtype: int64"
      ]
     },
     "execution_count": 28,
     "metadata": {},
     "output_type": "execute_result"
    }
   ],
   "source": [
    "frame2.year"
   ]
  },
  {
   "cell_type": "code",
   "execution_count": 29,
   "id": "82af41c7",
   "metadata": {},
   "outputs": [
    {
     "data": {
      "text/plain": [
       "0    2000\n",
       "1    2001\n",
       "2    2002\n",
       "3    2001\n",
       "4    2002\n",
       "5    2003\n",
       "Name: year, dtype: int64"
      ]
     },
     "execution_count": 29,
     "metadata": {},
     "output_type": "execute_result"
    }
   ],
   "source": [
    "frame2[\"year\"]"
   ]
  },
  {
   "cell_type": "markdown",
   "id": "bfb8c94d",
   "metadata": {},
   "source": [
    "#### Rows can be retrieved by position or name with the special *iloc* and *loc* attributes"
   ]
  },
  {
   "cell_type": "code",
   "execution_count": 30,
   "id": "20e107d7",
   "metadata": {},
   "outputs": [
    {
     "data": {
      "text/plain": [
       "year     2001\n",
       "state    Ohio\n",
       "pop       1.7\n",
       "debt      NaN\n",
       "Name: 1, dtype: object"
      ]
     },
     "execution_count": 30,
     "metadata": {},
     "output_type": "execute_result"
    }
   ],
   "source": [
    "frame2.loc[1]"
   ]
  },
  {
   "cell_type": "code",
   "execution_count": 31,
   "id": "f4de595c",
   "metadata": {},
   "outputs": [
    {
     "data": {
      "text/plain": [
       "year     2002\n",
       "state    Ohio\n",
       "pop       3.6\n",
       "debt      NaN\n",
       "Name: 2, dtype: object"
      ]
     },
     "execution_count": 31,
     "metadata": {},
     "output_type": "execute_result"
    }
   ],
   "source": [
    "frame2.iloc[2]"
   ]
  },
  {
   "cell_type": "code",
   "execution_count": 32,
   "id": "467a6e30",
   "metadata": {},
   "outputs": [],
   "source": [
    "frame2.debt =np.arange(6.)"
   ]
  },
  {
   "cell_type": "code",
   "execution_count": 33,
   "id": "1d0f7d85",
   "metadata": {},
   "outputs": [
    {
     "data": {
      "text/html": [
       "<div>\n",
       "<style scoped>\n",
       "    .dataframe tbody tr th:only-of-type {\n",
       "        vertical-align: middle;\n",
       "    }\n",
       "\n",
       "    .dataframe tbody tr th {\n",
       "        vertical-align: top;\n",
       "    }\n",
       "\n",
       "    .dataframe thead th {\n",
       "        text-align: right;\n",
       "    }\n",
       "</style>\n",
       "<table border=\"1\" class=\"dataframe\">\n",
       "  <thead>\n",
       "    <tr style=\"text-align: right;\">\n",
       "      <th></th>\n",
       "      <th>year</th>\n",
       "      <th>state</th>\n",
       "      <th>pop</th>\n",
       "      <th>debt</th>\n",
       "    </tr>\n",
       "  </thead>\n",
       "  <tbody>\n",
       "    <tr>\n",
       "      <th>0</th>\n",
       "      <td>2000</td>\n",
       "      <td>Ohio</td>\n",
       "      <td>1.5</td>\n",
       "      <td>0.0</td>\n",
       "    </tr>\n",
       "    <tr>\n",
       "      <th>1</th>\n",
       "      <td>2001</td>\n",
       "      <td>Ohio</td>\n",
       "      <td>1.7</td>\n",
       "      <td>1.0</td>\n",
       "    </tr>\n",
       "    <tr>\n",
       "      <th>2</th>\n",
       "      <td>2002</td>\n",
       "      <td>Ohio</td>\n",
       "      <td>3.6</td>\n",
       "      <td>2.0</td>\n",
       "    </tr>\n",
       "    <tr>\n",
       "      <th>3</th>\n",
       "      <td>2001</td>\n",
       "      <td>Nevada</td>\n",
       "      <td>2.4</td>\n",
       "      <td>3.0</td>\n",
       "    </tr>\n",
       "    <tr>\n",
       "      <th>4</th>\n",
       "      <td>2002</td>\n",
       "      <td>Nevada</td>\n",
       "      <td>2.9</td>\n",
       "      <td>4.0</td>\n",
       "    </tr>\n",
       "    <tr>\n",
       "      <th>5</th>\n",
       "      <td>2003</td>\n",
       "      <td>Nevada</td>\n",
       "      <td>3.2</td>\n",
       "      <td>5.0</td>\n",
       "    </tr>\n",
       "  </tbody>\n",
       "</table>\n",
       "</div>"
      ],
      "text/plain": [
       "   year   state  pop  debt\n",
       "0  2000    Ohio  1.5   0.0\n",
       "1  2001    Ohio  1.7   1.0\n",
       "2  2002    Ohio  3.6   2.0\n",
       "3  2001  Nevada  2.4   3.0\n",
       "4  2002  Nevada  2.9   4.0\n",
       "5  2003  Nevada  3.2   5.0"
      ]
     },
     "execution_count": 33,
     "metadata": {},
     "output_type": "execute_result"
    }
   ],
   "source": [
    "frame2"
   ]
  },
  {
   "cell_type": "markdown",
   "id": "24a05551",
   "metadata": {},
   "source": [
    "#### The column returned from indexing a DataFrame is a view on the underlying data, not a copy. Thus, any in-place modifications to the series will be reflected in the DataFrame. The column can be explicitly copied with the Series's copy method."
   ]
  },
  {
   "cell_type": "markdown",
   "id": "7554d4b2",
   "metadata": {},
   "source": [
    "### Another common form of data is a nested dictionary of dictionaries"
   ]
  },
  {
   "cell_type": "code",
   "execution_count": 34,
   "id": "3e7c3575",
   "metadata": {},
   "outputs": [],
   "source": [
    "populations = {\"Ohio\": {2000: 1.5, 2001: 1.7, 2002: 3.6},\n",
    "              \"Nevada\": {2001: 2.4, 2002: 2.9}}"
   ]
  },
  {
   "cell_type": "code",
   "execution_count": 35,
   "id": "23abc8a2",
   "metadata": {},
   "outputs": [],
   "source": [
    "frame3 = pd.DataFrame(populations)"
   ]
  },
  {
   "cell_type": "markdown",
   "id": "90987ed6",
   "metadata": {},
   "source": [
    "#### If the nested dictionary is passed to the DataFrame, pandas will interpret the outer dictionary keys as the columns, and the inner keys as the row indices"
   ]
  },
  {
   "cell_type": "code",
   "execution_count": 36,
   "id": "2e5a1c37",
   "metadata": {},
   "outputs": [
    {
     "data": {
      "text/html": [
       "<div>\n",
       "<style scoped>\n",
       "    .dataframe tbody tr th:only-of-type {\n",
       "        vertical-align: middle;\n",
       "    }\n",
       "\n",
       "    .dataframe tbody tr th {\n",
       "        vertical-align: top;\n",
       "    }\n",
       "\n",
       "    .dataframe thead th {\n",
       "        text-align: right;\n",
       "    }\n",
       "</style>\n",
       "<table border=\"1\" class=\"dataframe\">\n",
       "  <thead>\n",
       "    <tr style=\"text-align: right;\">\n",
       "      <th></th>\n",
       "      <th>Ohio</th>\n",
       "      <th>Nevada</th>\n",
       "    </tr>\n",
       "  </thead>\n",
       "  <tbody>\n",
       "    <tr>\n",
       "      <th>2000</th>\n",
       "      <td>1.5</td>\n",
       "      <td>NaN</td>\n",
       "    </tr>\n",
       "    <tr>\n",
       "      <th>2001</th>\n",
       "      <td>1.7</td>\n",
       "      <td>2.4</td>\n",
       "    </tr>\n",
       "    <tr>\n",
       "      <th>2002</th>\n",
       "      <td>3.6</td>\n",
       "      <td>2.9</td>\n",
       "    </tr>\n",
       "  </tbody>\n",
       "</table>\n",
       "</div>"
      ],
      "text/plain": [
       "      Ohio  Nevada\n",
       "2000   1.5     NaN\n",
       "2001   1.7     2.4\n",
       "2002   3.6     2.9"
      ]
     },
     "execution_count": 36,
     "metadata": {},
     "output_type": "execute_result"
    }
   ],
   "source": [
    "frame3"
   ]
  },
  {
   "cell_type": "code",
   "execution_count": 37,
   "id": "e0f90d0b",
   "metadata": {},
   "outputs": [
    {
     "data": {
      "text/html": [
       "<div>\n",
       "<style scoped>\n",
       "    .dataframe tbody tr th:only-of-type {\n",
       "        vertical-align: middle;\n",
       "    }\n",
       "\n",
       "    .dataframe tbody tr th {\n",
       "        vertical-align: top;\n",
       "    }\n",
       "\n",
       "    .dataframe thead th {\n",
       "        text-align: right;\n",
       "    }\n",
       "</style>\n",
       "<table border=\"1\" class=\"dataframe\">\n",
       "  <thead>\n",
       "    <tr style=\"text-align: right;\">\n",
       "      <th></th>\n",
       "      <th>2000</th>\n",
       "      <th>2001</th>\n",
       "      <th>2002</th>\n",
       "    </tr>\n",
       "  </thead>\n",
       "  <tbody>\n",
       "    <tr>\n",
       "      <th>Ohio</th>\n",
       "      <td>1.5</td>\n",
       "      <td>1.7</td>\n",
       "      <td>3.6</td>\n",
       "    </tr>\n",
       "    <tr>\n",
       "      <th>Nevada</th>\n",
       "      <td>NaN</td>\n",
       "      <td>2.4</td>\n",
       "      <td>2.9</td>\n",
       "    </tr>\n",
       "  </tbody>\n",
       "</table>\n",
       "</div>"
      ],
      "text/plain": [
       "        2000  2001  2002\n",
       "Ohio     1.5   1.7   3.6\n",
       "Nevada   NaN   2.4   2.9"
      ]
     },
     "execution_count": 37,
     "metadata": {},
     "output_type": "execute_result"
    }
   ],
   "source": [
    "frame3.T #Similar to numPy array"
   ]
  },
  {
   "cell_type": "code",
   "execution_count": 38,
   "id": "10b873d6",
   "metadata": {},
   "outputs": [],
   "source": [
    "pandas_object = pd.Series(np.arange(3), index = [\"a\", \"b\", \"c\"])"
   ]
  },
  {
   "cell_type": "code",
   "execution_count": 39,
   "id": "b373d990",
   "metadata": {},
   "outputs": [],
   "source": [
    "index = obj.index"
   ]
  },
  {
   "cell_type": "code",
   "execution_count": 40,
   "id": "e25497e4",
   "metadata": {},
   "outputs": [
    {
     "data": {
      "text/plain": [
       "RangeIndex(start=0, stop=4, step=1)"
      ]
     },
     "execution_count": 40,
     "metadata": {},
     "output_type": "execute_result"
    }
   ],
   "source": [
    "index"
   ]
  },
  {
   "cell_type": "code",
   "execution_count": 41,
   "id": "42b6e6e6",
   "metadata": {},
   "outputs": [
    {
     "data": {
      "text/plain": [
       "RangeIndex(start=1, stop=4, step=1)"
      ]
     },
     "execution_count": 41,
     "metadata": {},
     "output_type": "execute_result"
    }
   ],
   "source": [
    "index[1:]"
   ]
  },
  {
   "cell_type": "markdown",
   "id": "d1fc0ad0",
   "metadata": {},
   "source": [
    "#### Index objects are immutable and thus can't be modified by the user. Immutability makes it safer to share Index objects among data structures."
   ]
  },
  {
   "cell_type": "code",
   "execution_count": 42,
   "id": "04352f98",
   "metadata": {},
   "outputs": [],
   "source": [
    "labels = pd.Index(np.arange(3))"
   ]
  },
  {
   "cell_type": "code",
   "execution_count": 43,
   "id": "45e1ed88",
   "metadata": {},
   "outputs": [
    {
     "data": {
      "text/plain": [
       "Int64Index([0, 1, 2], dtype='int64')"
      ]
     },
     "execution_count": 43,
     "metadata": {},
     "output_type": "execute_result"
    }
   ],
   "source": [
    "labels"
   ]
  },
  {
   "cell_type": "code",
   "execution_count": 44,
   "id": "3d6df9bd",
   "metadata": {},
   "outputs": [],
   "source": [
    "another_pandas_object = pd.Series([1.5, -2.5, 0], index=labels)"
   ]
  },
  {
   "cell_type": "code",
   "execution_count": 45,
   "id": "ea75dec9",
   "metadata": {},
   "outputs": [
    {
     "data": {
      "text/plain": [
       "0    1.5\n",
       "1   -2.5\n",
       "2    0.0\n",
       "dtype: float64"
      ]
     },
     "execution_count": 45,
     "metadata": {},
     "output_type": "execute_result"
    }
   ],
   "source": [
    "another_pandas_object"
   ]
  },
  {
   "cell_type": "code",
   "execution_count": 46,
   "id": "061c8ff9",
   "metadata": {},
   "outputs": [
    {
     "data": {
      "text/html": [
       "<div>\n",
       "<style scoped>\n",
       "    .dataframe tbody tr th:only-of-type {\n",
       "        vertical-align: middle;\n",
       "    }\n",
       "\n",
       "    .dataframe tbody tr th {\n",
       "        vertical-align: top;\n",
       "    }\n",
       "\n",
       "    .dataframe thead th {\n",
       "        text-align: right;\n",
       "    }\n",
       "</style>\n",
       "<table border=\"1\" class=\"dataframe\">\n",
       "  <thead>\n",
       "    <tr style=\"text-align: right;\">\n",
       "      <th></th>\n",
       "      <th>Ohio</th>\n",
       "      <th>Nevada</th>\n",
       "    </tr>\n",
       "  </thead>\n",
       "  <tbody>\n",
       "    <tr>\n",
       "      <th>2000</th>\n",
       "      <td>1.5</td>\n",
       "      <td>NaN</td>\n",
       "    </tr>\n",
       "    <tr>\n",
       "      <th>2001</th>\n",
       "      <td>1.7</td>\n",
       "      <td>2.4</td>\n",
       "    </tr>\n",
       "    <tr>\n",
       "      <th>2002</th>\n",
       "      <td>3.6</td>\n",
       "      <td>2.9</td>\n",
       "    </tr>\n",
       "  </tbody>\n",
       "</table>\n",
       "</div>"
      ],
      "text/plain": [
       "      Ohio  Nevada\n",
       "2000   1.5     NaN\n",
       "2001   1.7     2.4\n",
       "2002   3.6     2.9"
      ]
     },
     "execution_count": 46,
     "metadata": {},
     "output_type": "execute_result"
    }
   ],
   "source": [
    "frame3"
   ]
  },
  {
   "cell_type": "code",
   "execution_count": 47,
   "id": "aabdb080",
   "metadata": {},
   "outputs": [
    {
     "data": {
      "text/plain": [
       "Index(['Ohio', 'Nevada'], dtype='object')"
      ]
     },
     "execution_count": 47,
     "metadata": {},
     "output_type": "execute_result"
    }
   ],
   "source": [
    "frame3.columns"
   ]
  },
  {
   "cell_type": "code",
   "execution_count": 48,
   "id": "29d5255a",
   "metadata": {},
   "outputs": [
    {
     "data": {
      "text/plain": [
       "True"
      ]
     },
     "execution_count": 48,
     "metadata": {},
     "output_type": "execute_result"
    }
   ],
   "source": [
    "\"Ohio\" in frame3.columns"
   ]
  },
  {
   "cell_type": "code",
   "execution_count": 49,
   "id": "103bcd9f",
   "metadata": {},
   "outputs": [
    {
     "data": {
      "text/plain": [
       "False"
      ]
     },
     "execution_count": 49,
     "metadata": {},
     "output_type": "execute_result"
    }
   ],
   "source": [
    "2003 in frame3.columns"
   ]
  },
  {
   "cell_type": "code",
   "execution_count": 50,
   "id": "6e6b85ff",
   "metadata": {},
   "outputs": [
    {
     "data": {
      "text/plain": [
       "Int64Index([2000, 2001, 2002], dtype='int64')"
      ]
     },
     "execution_count": 50,
     "metadata": {},
     "output_type": "execute_result"
    }
   ],
   "source": [
    "frame3.index"
   ]
  },
  {
   "cell_type": "code",
   "execution_count": 51,
   "id": "2f9f8dee",
   "metadata": {},
   "outputs": [
    {
     "data": {
      "text/plain": [
       "False"
      ]
     },
     "execution_count": 51,
     "metadata": {},
     "output_type": "execute_result"
    }
   ],
   "source": [
    "2003 in frame3.index"
   ]
  },
  {
   "cell_type": "markdown",
   "id": "a5b45f8a",
   "metadata": {},
   "source": [
    "#### *Unlike Python sets, a pandas Index can contain duplicate labels*"
   ]
  },
  {
   "cell_type": "markdown",
   "id": "68c8aac1",
   "metadata": {},
   "source": [
    "### Reindexing"
   ]
  },
  {
   "cell_type": "markdown",
   "id": "fb3025f4",
   "metadata": {},
   "source": [
    "#### An important method on pandas objects is reindex, which means to create a new object with the values rearranged to align the new index."
   ]
  },
  {
   "cell_type": "code",
   "execution_count": 52,
   "id": "416af4f2",
   "metadata": {},
   "outputs": [],
   "source": [
    "sample_pandas_object = pd.Series([4.5, 7.2, -5.3, 3.6], index = [\"d\", \"b\", \"c\", \"a\"])"
   ]
  },
  {
   "cell_type": "code",
   "execution_count": 53,
   "id": "fadb3821",
   "metadata": {},
   "outputs": [],
   "source": [
    "reindexed_pandas_object = sample_pandas_object.reindex([\"a\", \"b\", \"c\", \"d\", \"e\"])"
   ]
  },
  {
   "cell_type": "code",
   "execution_count": 54,
   "id": "2ec048ce",
   "metadata": {},
   "outputs": [
    {
     "data": {
      "text/plain": [
       "d    4.5\n",
       "b    7.2\n",
       "c   -5.3\n",
       "a    3.6\n",
       "dtype: float64"
      ]
     },
     "execution_count": 54,
     "metadata": {},
     "output_type": "execute_result"
    }
   ],
   "source": [
    "sample_pandas_object"
   ]
  },
  {
   "cell_type": "code",
   "execution_count": 55,
   "id": "53add428",
   "metadata": {},
   "outputs": [
    {
     "data": {
      "text/plain": [
       "a    3.6\n",
       "b    7.2\n",
       "c   -5.3\n",
       "d    4.5\n",
       "e    NaN\n",
       "dtype: float64"
      ]
     },
     "execution_count": 55,
     "metadata": {},
     "output_type": "execute_result"
    }
   ],
   "source": [
    "reindexed_pandas_object"
   ]
  },
  {
   "cell_type": "markdown",
   "id": "0b220ec9",
   "metadata": {},
   "source": [
    "#### *For ordered data like time series, you may want to do some interpolation or filling of values when reindexing. The method option allows us to do this, using a method such as ffill, which forward-fills the values*"
   ]
  },
  {
   "cell_type": "code",
   "execution_count": 56,
   "id": "5a921cd7",
   "metadata": {},
   "outputs": [],
   "source": [
    "yet_another_pandas_object = pd.Series([\"blue\", \"purple\", \"yellow\"], index=[0, 2, 4])"
   ]
  },
  {
   "cell_type": "code",
   "execution_count": 57,
   "id": "2df7b396",
   "metadata": {},
   "outputs": [
    {
     "data": {
      "text/plain": [
       "0      blue\n",
       "2    purple\n",
       "4    yellow\n",
       "dtype: object"
      ]
     },
     "execution_count": 57,
     "metadata": {},
     "output_type": "execute_result"
    }
   ],
   "source": [
    "yet_another_pandas_object"
   ]
  },
  {
   "cell_type": "code",
   "execution_count": 58,
   "id": "3d9424ee",
   "metadata": {},
   "outputs": [
    {
     "data": {
      "text/plain": [
       "0      blue\n",
       "1      blue\n",
       "2    purple\n",
       "3    purple\n",
       "4    yellow\n",
       "5    yellow\n",
       "dtype: object"
      ]
     },
     "execution_count": 58,
     "metadata": {},
     "output_type": "execute_result"
    }
   ],
   "source": [
    "yet_another_pandas_object.reindex(np.arange(6), method='ffill')"
   ]
  },
  {
   "cell_type": "code",
   "execution_count": 59,
   "id": "08daa416",
   "metadata": {},
   "outputs": [],
   "source": [
    "again_pandas_object = pd.DataFrame(np.arange(9).reshape(3, 3), index=[\"a\", \"c\", \"d\"], columns=[\"Ohio\", \"Texas\", \"California\"])"
   ]
  },
  {
   "cell_type": "code",
   "execution_count": 60,
   "id": "3e4d10ef",
   "metadata": {},
   "outputs": [
    {
     "data": {
      "text/html": [
       "<div>\n",
       "<style scoped>\n",
       "    .dataframe tbody tr th:only-of-type {\n",
       "        vertical-align: middle;\n",
       "    }\n",
       "\n",
       "    .dataframe tbody tr th {\n",
       "        vertical-align: top;\n",
       "    }\n",
       "\n",
       "    .dataframe thead th {\n",
       "        text-align: right;\n",
       "    }\n",
       "</style>\n",
       "<table border=\"1\" class=\"dataframe\">\n",
       "  <thead>\n",
       "    <tr style=\"text-align: right;\">\n",
       "      <th></th>\n",
       "      <th>Ohio</th>\n",
       "      <th>Texas</th>\n",
       "      <th>California</th>\n",
       "    </tr>\n",
       "  </thead>\n",
       "  <tbody>\n",
       "    <tr>\n",
       "      <th>a</th>\n",
       "      <td>0</td>\n",
       "      <td>1</td>\n",
       "      <td>2</td>\n",
       "    </tr>\n",
       "    <tr>\n",
       "      <th>c</th>\n",
       "      <td>3</td>\n",
       "      <td>4</td>\n",
       "      <td>5</td>\n",
       "    </tr>\n",
       "    <tr>\n",
       "      <th>d</th>\n",
       "      <td>6</td>\n",
       "      <td>7</td>\n",
       "      <td>8</td>\n",
       "    </tr>\n",
       "  </tbody>\n",
       "</table>\n",
       "</div>"
      ],
      "text/plain": [
       "   Ohio  Texas  California\n",
       "a     0      1           2\n",
       "c     3      4           5\n",
       "d     6      7           8"
      ]
     },
     "execution_count": 60,
     "metadata": {},
     "output_type": "execute_result"
    }
   ],
   "source": [
    "again_pandas_object"
   ]
  },
  {
   "cell_type": "code",
   "execution_count": 61,
   "id": "4680f002",
   "metadata": {},
   "outputs": [],
   "source": [
    "again_pandas_object_reindex = again_pandas_object.reindex(index = [\"a\", \"b\", \"c\", \"d\"])"
   ]
  },
  {
   "cell_type": "code",
   "execution_count": 62,
   "id": "213e1537",
   "metadata": {},
   "outputs": [
    {
     "data": {
      "text/html": [
       "<div>\n",
       "<style scoped>\n",
       "    .dataframe tbody tr th:only-of-type {\n",
       "        vertical-align: middle;\n",
       "    }\n",
       "\n",
       "    .dataframe tbody tr th {\n",
       "        vertical-align: top;\n",
       "    }\n",
       "\n",
       "    .dataframe thead th {\n",
       "        text-align: right;\n",
       "    }\n",
       "</style>\n",
       "<table border=\"1\" class=\"dataframe\">\n",
       "  <thead>\n",
       "    <tr style=\"text-align: right;\">\n",
       "      <th></th>\n",
       "      <th>Ohio</th>\n",
       "      <th>Texas</th>\n",
       "      <th>California</th>\n",
       "    </tr>\n",
       "  </thead>\n",
       "  <tbody>\n",
       "    <tr>\n",
       "      <th>a</th>\n",
       "      <td>0.0</td>\n",
       "      <td>1.0</td>\n",
       "      <td>2.0</td>\n",
       "    </tr>\n",
       "    <tr>\n",
       "      <th>b</th>\n",
       "      <td>NaN</td>\n",
       "      <td>NaN</td>\n",
       "      <td>NaN</td>\n",
       "    </tr>\n",
       "    <tr>\n",
       "      <th>c</th>\n",
       "      <td>3.0</td>\n",
       "      <td>4.0</td>\n",
       "      <td>5.0</td>\n",
       "    </tr>\n",
       "    <tr>\n",
       "      <th>d</th>\n",
       "      <td>6.0</td>\n",
       "      <td>7.0</td>\n",
       "      <td>8.0</td>\n",
       "    </tr>\n",
       "  </tbody>\n",
       "</table>\n",
       "</div>"
      ],
      "text/plain": [
       "   Ohio  Texas  California\n",
       "a   0.0    1.0         2.0\n",
       "b   NaN    NaN         NaN\n",
       "c   3.0    4.0         5.0\n",
       "d   6.0    7.0         8.0"
      ]
     },
     "execution_count": 62,
     "metadata": {},
     "output_type": "execute_result"
    }
   ],
   "source": [
    "again_pandas_object_reindex"
   ]
  },
  {
   "cell_type": "code",
   "execution_count": 63,
   "id": "2850e28d",
   "metadata": {},
   "outputs": [],
   "source": [
    "states_list = [\"Texas\", \"Utah\", \"California\"]"
   ]
  },
  {
   "cell_type": "code",
   "execution_count": 64,
   "id": "25758bf0",
   "metadata": {},
   "outputs": [
    {
     "data": {
      "text/html": [
       "<div>\n",
       "<style scoped>\n",
       "    .dataframe tbody tr th:only-of-type {\n",
       "        vertical-align: middle;\n",
       "    }\n",
       "\n",
       "    .dataframe tbody tr th {\n",
       "        vertical-align: top;\n",
       "    }\n",
       "\n",
       "    .dataframe thead th {\n",
       "        text-align: right;\n",
       "    }\n",
       "</style>\n",
       "<table border=\"1\" class=\"dataframe\">\n",
       "  <thead>\n",
       "    <tr style=\"text-align: right;\">\n",
       "      <th></th>\n",
       "      <th>Texas</th>\n",
       "      <th>Utah</th>\n",
       "      <th>California</th>\n",
       "    </tr>\n",
       "  </thead>\n",
       "  <tbody>\n",
       "    <tr>\n",
       "      <th>a</th>\n",
       "      <td>1.0</td>\n",
       "      <td>NaN</td>\n",
       "      <td>2.0</td>\n",
       "    </tr>\n",
       "    <tr>\n",
       "      <th>b</th>\n",
       "      <td>NaN</td>\n",
       "      <td>NaN</td>\n",
       "      <td>NaN</td>\n",
       "    </tr>\n",
       "    <tr>\n",
       "      <th>c</th>\n",
       "      <td>4.0</td>\n",
       "      <td>NaN</td>\n",
       "      <td>5.0</td>\n",
       "    </tr>\n",
       "    <tr>\n",
       "      <th>d</th>\n",
       "      <td>7.0</td>\n",
       "      <td>NaN</td>\n",
       "      <td>8.0</td>\n",
       "    </tr>\n",
       "  </tbody>\n",
       "</table>\n",
       "</div>"
      ],
      "text/plain": [
       "   Texas  Utah  California\n",
       "a    1.0   NaN         2.0\n",
       "b    NaN   NaN         NaN\n",
       "c    4.0   NaN         5.0\n",
       "d    7.0   NaN         8.0"
      ]
     },
     "execution_count": 64,
     "metadata": {},
     "output_type": "execute_result"
    }
   ],
   "source": [
    "again_pandas_object_reindex.reindex(columns = states_list)"
   ]
  },
  {
   "cell_type": "code",
   "execution_count": 65,
   "id": "7d3fa053",
   "metadata": {},
   "outputs": [
    {
     "data": {
      "text/html": [
       "<div>\n",
       "<style scoped>\n",
       "    .dataframe tbody tr th:only-of-type {\n",
       "        vertical-align: middle;\n",
       "    }\n",
       "\n",
       "    .dataframe tbody tr th {\n",
       "        vertical-align: top;\n",
       "    }\n",
       "\n",
       "    .dataframe thead th {\n",
       "        text-align: right;\n",
       "    }\n",
       "</style>\n",
       "<table border=\"1\" class=\"dataframe\">\n",
       "  <thead>\n",
       "    <tr style=\"text-align: right;\">\n",
       "      <th></th>\n",
       "      <th>Texas</th>\n",
       "      <th>Utah</th>\n",
       "      <th>California</th>\n",
       "    </tr>\n",
       "  </thead>\n",
       "  <tbody>\n",
       "    <tr>\n",
       "      <th>a</th>\n",
       "      <td>1.0</td>\n",
       "      <td>NaN</td>\n",
       "      <td>2.0</td>\n",
       "    </tr>\n",
       "    <tr>\n",
       "      <th>b</th>\n",
       "      <td>NaN</td>\n",
       "      <td>NaN</td>\n",
       "      <td>NaN</td>\n",
       "    </tr>\n",
       "    <tr>\n",
       "      <th>c</th>\n",
       "      <td>4.0</td>\n",
       "      <td>NaN</td>\n",
       "      <td>5.0</td>\n",
       "    </tr>\n",
       "    <tr>\n",
       "      <th>d</th>\n",
       "      <td>7.0</td>\n",
       "      <td>NaN</td>\n",
       "      <td>8.0</td>\n",
       "    </tr>\n",
       "  </tbody>\n",
       "</table>\n",
       "</div>"
      ],
      "text/plain": [
       "   Texas  Utah  California\n",
       "a    1.0   NaN         2.0\n",
       "b    NaN   NaN         NaN\n",
       "c    4.0   NaN         5.0\n",
       "d    7.0   NaN         8.0"
      ]
     },
     "execution_count": 65,
     "metadata": {},
     "output_type": "execute_result"
    }
   ],
   "source": [
    "again_pandas_object_reindex.reindex(states_list, axis=\"columns\")#Similar to the above, only change is the intro of axis keyword"
   ]
  },
  {
   "cell_type": "markdown",
   "id": "5c8dacd4",
   "metadata": {},
   "source": [
    "### Selection on DataFrame with loc and iloc"
   ]
  },
  {
   "cell_type": "code",
   "execution_count": 66,
   "id": "ee6dbbd8",
   "metadata": {},
   "outputs": [
    {
     "data": {
      "text/html": [
       "<div>\n",
       "<style scoped>\n",
       "    .dataframe tbody tr th:only-of-type {\n",
       "        vertical-align: middle;\n",
       "    }\n",
       "\n",
       "    .dataframe tbody tr th {\n",
       "        vertical-align: top;\n",
       "    }\n",
       "\n",
       "    .dataframe thead th {\n",
       "        text-align: right;\n",
       "    }\n",
       "</style>\n",
       "<table border=\"1\" class=\"dataframe\">\n",
       "  <thead>\n",
       "    <tr style=\"text-align: right;\">\n",
       "      <th></th>\n",
       "      <th>California</th>\n",
       "      <th>Texas</th>\n",
       "    </tr>\n",
       "  </thead>\n",
       "  <tbody>\n",
       "    <tr>\n",
       "      <th>a</th>\n",
       "      <td>2.0</td>\n",
       "      <td>1.0</td>\n",
       "    </tr>\n",
       "    <tr>\n",
       "      <th>d</th>\n",
       "      <td>8.0</td>\n",
       "      <td>7.0</td>\n",
       "    </tr>\n",
       "    <tr>\n",
       "      <th>c</th>\n",
       "      <td>5.0</td>\n",
       "      <td>4.0</td>\n",
       "    </tr>\n",
       "  </tbody>\n",
       "</table>\n",
       "</div>"
      ],
      "text/plain": [
       "   California  Texas\n",
       "a         2.0    1.0\n",
       "d         8.0    7.0\n",
       "c         5.0    4.0"
      ]
     },
     "execution_count": 66,
     "metadata": {},
     "output_type": "execute_result"
    }
   ],
   "source": [
    "again_pandas_object_reindex.loc[[\"a\", \"d\", \"c\"], [\"California\", \"Texas\"]]"
   ]
  },
  {
   "cell_type": "markdown",
   "id": "4bdc619d",
   "metadata": {},
   "source": [
    "### Dropping Entries from an Axis"
   ]
  },
  {
   "cell_type": "code",
   "execution_count": 67,
   "id": "127ce140",
   "metadata": {},
   "outputs": [],
   "source": [
    "pandas_obj = pd.Series(np.arange(5.), index = [\"a\", \"b\", \"c\", \"d\", \"e\"])"
   ]
  },
  {
   "cell_type": "code",
   "execution_count": 68,
   "id": "9785d1e3",
   "metadata": {},
   "outputs": [
    {
     "data": {
      "text/plain": [
       "a    0.0\n",
       "b    1.0\n",
       "c    2.0\n",
       "d    3.0\n",
       "e    4.0\n",
       "dtype: float64"
      ]
     },
     "execution_count": 68,
     "metadata": {},
     "output_type": "execute_result"
    }
   ],
   "source": [
    "pandas_obj"
   ]
  },
  {
   "cell_type": "code",
   "execution_count": 69,
   "id": "3402c280",
   "metadata": {},
   "outputs": [],
   "source": [
    "new_pandas_obj = pandas_obj.drop(\"c\")"
   ]
  },
  {
   "cell_type": "code",
   "execution_count": 70,
   "id": "e7b065d9",
   "metadata": {},
   "outputs": [
    {
     "data": {
      "text/plain": [
       "a    0.0\n",
       "b    1.0\n",
       "d    3.0\n",
       "e    4.0\n",
       "dtype: float64"
      ]
     },
     "execution_count": 70,
     "metadata": {},
     "output_type": "execute_result"
    }
   ],
   "source": [
    "new_pandas_obj"
   ]
  },
  {
   "cell_type": "markdown",
   "id": "ebf0badf",
   "metadata": {},
   "source": [
    "#### With DataFrame, index values can be deleted from either exis."
   ]
  },
  {
   "cell_type": "code",
   "execution_count": 71,
   "id": "5b3f11c0",
   "metadata": {},
   "outputs": [],
   "source": [
    "df_object = pd.DataFrame(np.arange(16).reshape(4, 4),\n",
    "                        index = [\"Ohio\", \"Colorado\", \"Utah\", \"New York\"],\n",
    "                        columns = [\"one\", \"two\", \"three\", \"four\"])"
   ]
  },
  {
   "cell_type": "code",
   "execution_count": 72,
   "id": "454f2ce0",
   "metadata": {},
   "outputs": [
    {
     "data": {
      "text/html": [
       "<div>\n",
       "<style scoped>\n",
       "    .dataframe tbody tr th:only-of-type {\n",
       "        vertical-align: middle;\n",
       "    }\n",
       "\n",
       "    .dataframe tbody tr th {\n",
       "        vertical-align: top;\n",
       "    }\n",
       "\n",
       "    .dataframe thead th {\n",
       "        text-align: right;\n",
       "    }\n",
       "</style>\n",
       "<table border=\"1\" class=\"dataframe\">\n",
       "  <thead>\n",
       "    <tr style=\"text-align: right;\">\n",
       "      <th></th>\n",
       "      <th>one</th>\n",
       "      <th>two</th>\n",
       "      <th>three</th>\n",
       "      <th>four</th>\n",
       "    </tr>\n",
       "  </thead>\n",
       "  <tbody>\n",
       "    <tr>\n",
       "      <th>Ohio</th>\n",
       "      <td>0</td>\n",
       "      <td>1</td>\n",
       "      <td>2</td>\n",
       "      <td>3</td>\n",
       "    </tr>\n",
       "    <tr>\n",
       "      <th>Colorado</th>\n",
       "      <td>4</td>\n",
       "      <td>5</td>\n",
       "      <td>6</td>\n",
       "      <td>7</td>\n",
       "    </tr>\n",
       "    <tr>\n",
       "      <th>Utah</th>\n",
       "      <td>8</td>\n",
       "      <td>9</td>\n",
       "      <td>10</td>\n",
       "      <td>11</td>\n",
       "    </tr>\n",
       "    <tr>\n",
       "      <th>New York</th>\n",
       "      <td>12</td>\n",
       "      <td>13</td>\n",
       "      <td>14</td>\n",
       "      <td>15</td>\n",
       "    </tr>\n",
       "  </tbody>\n",
       "</table>\n",
       "</div>"
      ],
      "text/plain": [
       "          one  two  three  four\n",
       "Ohio        0    1      2     3\n",
       "Colorado    4    5      6     7\n",
       "Utah        8    9     10    11\n",
       "New York   12   13     14    15"
      ]
     },
     "execution_count": 72,
     "metadata": {},
     "output_type": "execute_result"
    }
   ],
   "source": [
    "df_object"
   ]
  },
  {
   "cell_type": "code",
   "execution_count": 73,
   "id": "55832e6d",
   "metadata": {},
   "outputs": [
    {
     "data": {
      "text/html": [
       "<div>\n",
       "<style scoped>\n",
       "    .dataframe tbody tr th:only-of-type {\n",
       "        vertical-align: middle;\n",
       "    }\n",
       "\n",
       "    .dataframe tbody tr th {\n",
       "        vertical-align: top;\n",
       "    }\n",
       "\n",
       "    .dataframe thead th {\n",
       "        text-align: right;\n",
       "    }\n",
       "</style>\n",
       "<table border=\"1\" class=\"dataframe\">\n",
       "  <thead>\n",
       "    <tr style=\"text-align: right;\">\n",
       "      <th></th>\n",
       "      <th>one</th>\n",
       "      <th>two</th>\n",
       "      <th>three</th>\n",
       "      <th>four</th>\n",
       "    </tr>\n",
       "  </thead>\n",
       "  <tbody>\n",
       "    <tr>\n",
       "      <th>Utah</th>\n",
       "      <td>8</td>\n",
       "      <td>9</td>\n",
       "      <td>10</td>\n",
       "      <td>11</td>\n",
       "    </tr>\n",
       "    <tr>\n",
       "      <th>New York</th>\n",
       "      <td>12</td>\n",
       "      <td>13</td>\n",
       "      <td>14</td>\n",
       "      <td>15</td>\n",
       "    </tr>\n",
       "  </tbody>\n",
       "</table>\n",
       "</div>"
      ],
      "text/plain": [
       "          one  two  three  four\n",
       "Utah        8    9     10    11\n",
       "New York   12   13     14    15"
      ]
     },
     "execution_count": 73,
     "metadata": {},
     "output_type": "execute_result"
    }
   ],
   "source": [
    "df_object.drop(index=[\"Colorado\", \"Ohio\"])"
   ]
  },
  {
   "cell_type": "code",
   "execution_count": 74,
   "id": "70d1175b",
   "metadata": {},
   "outputs": [
    {
     "data": {
      "text/html": [
       "<div>\n",
       "<style scoped>\n",
       "    .dataframe tbody tr th:only-of-type {\n",
       "        vertical-align: middle;\n",
       "    }\n",
       "\n",
       "    .dataframe tbody tr th {\n",
       "        vertical-align: top;\n",
       "    }\n",
       "\n",
       "    .dataframe thead th {\n",
       "        text-align: right;\n",
       "    }\n",
       "</style>\n",
       "<table border=\"1\" class=\"dataframe\">\n",
       "  <thead>\n",
       "    <tr style=\"text-align: right;\">\n",
       "      <th></th>\n",
       "      <th>one</th>\n",
       "      <th>three</th>\n",
       "      <th>four</th>\n",
       "    </tr>\n",
       "  </thead>\n",
       "  <tbody>\n",
       "    <tr>\n",
       "      <th>Ohio</th>\n",
       "      <td>0</td>\n",
       "      <td>2</td>\n",
       "      <td>3</td>\n",
       "    </tr>\n",
       "    <tr>\n",
       "      <th>Colorado</th>\n",
       "      <td>4</td>\n",
       "      <td>6</td>\n",
       "      <td>7</td>\n",
       "    </tr>\n",
       "    <tr>\n",
       "      <th>Utah</th>\n",
       "      <td>8</td>\n",
       "      <td>10</td>\n",
       "      <td>11</td>\n",
       "    </tr>\n",
       "    <tr>\n",
       "      <th>New York</th>\n",
       "      <td>12</td>\n",
       "      <td>14</td>\n",
       "      <td>15</td>\n",
       "    </tr>\n",
       "  </tbody>\n",
       "</table>\n",
       "</div>"
      ],
      "text/plain": [
       "          one  three  four\n",
       "Ohio        0      2     3\n",
       "Colorado    4      6     7\n",
       "Utah        8     10    11\n",
       "New York   12     14    15"
      ]
     },
     "execution_count": 74,
     "metadata": {},
     "output_type": "execute_result"
    }
   ],
   "source": [
    "df_object.drop(columns=\"two\")"
   ]
  },
  {
   "cell_type": "code",
   "execution_count": 75,
   "id": "edb8d99e",
   "metadata": {},
   "outputs": [
    {
     "data": {
      "text/html": [
       "<div>\n",
       "<style scoped>\n",
       "    .dataframe tbody tr th:only-of-type {\n",
       "        vertical-align: middle;\n",
       "    }\n",
       "\n",
       "    .dataframe tbody tr th {\n",
       "        vertical-align: top;\n",
       "    }\n",
       "\n",
       "    .dataframe thead th {\n",
       "        text-align: right;\n",
       "    }\n",
       "</style>\n",
       "<table border=\"1\" class=\"dataframe\">\n",
       "  <thead>\n",
       "    <tr style=\"text-align: right;\">\n",
       "      <th></th>\n",
       "      <th>one</th>\n",
       "      <th>three</th>\n",
       "      <th>four</th>\n",
       "    </tr>\n",
       "  </thead>\n",
       "  <tbody>\n",
       "    <tr>\n",
       "      <th>Ohio</th>\n",
       "      <td>0</td>\n",
       "      <td>2</td>\n",
       "      <td>3</td>\n",
       "    </tr>\n",
       "    <tr>\n",
       "      <th>Colorado</th>\n",
       "      <td>4</td>\n",
       "      <td>6</td>\n",
       "      <td>7</td>\n",
       "    </tr>\n",
       "    <tr>\n",
       "      <th>Utah</th>\n",
       "      <td>8</td>\n",
       "      <td>10</td>\n",
       "      <td>11</td>\n",
       "    </tr>\n",
       "    <tr>\n",
       "      <th>New York</th>\n",
       "      <td>12</td>\n",
       "      <td>14</td>\n",
       "      <td>15</td>\n",
       "    </tr>\n",
       "  </tbody>\n",
       "</table>\n",
       "</div>"
      ],
      "text/plain": [
       "          one  three  four\n",
       "Ohio        0      2     3\n",
       "Colorado    4      6     7\n",
       "Utah        8     10    11\n",
       "New York   12     14    15"
      ]
     },
     "execution_count": 75,
     "metadata": {},
     "output_type": "execute_result"
    }
   ],
   "source": [
    "df_object.drop(\"two\", axis=1)"
   ]
  },
  {
   "cell_type": "code",
   "execution_count": 76,
   "id": "7d24fef8",
   "metadata": {},
   "outputs": [
    {
     "data": {
      "text/html": [
       "<div>\n",
       "<style scoped>\n",
       "    .dataframe tbody tr th:only-of-type {\n",
       "        vertical-align: middle;\n",
       "    }\n",
       "\n",
       "    .dataframe tbody tr th {\n",
       "        vertical-align: top;\n",
       "    }\n",
       "\n",
       "    .dataframe thead th {\n",
       "        text-align: right;\n",
       "    }\n",
       "</style>\n",
       "<table border=\"1\" class=\"dataframe\">\n",
       "  <thead>\n",
       "    <tr style=\"text-align: right;\">\n",
       "      <th></th>\n",
       "      <th>one</th>\n",
       "      <th>three</th>\n",
       "    </tr>\n",
       "  </thead>\n",
       "  <tbody>\n",
       "    <tr>\n",
       "      <th>Ohio</th>\n",
       "      <td>0</td>\n",
       "      <td>2</td>\n",
       "    </tr>\n",
       "    <tr>\n",
       "      <th>Colorado</th>\n",
       "      <td>4</td>\n",
       "      <td>6</td>\n",
       "    </tr>\n",
       "    <tr>\n",
       "      <th>Utah</th>\n",
       "      <td>8</td>\n",
       "      <td>10</td>\n",
       "    </tr>\n",
       "    <tr>\n",
       "      <th>New York</th>\n",
       "      <td>12</td>\n",
       "      <td>14</td>\n",
       "    </tr>\n",
       "  </tbody>\n",
       "</table>\n",
       "</div>"
      ],
      "text/plain": [
       "          one  three\n",
       "Ohio        0      2\n",
       "Colorado    4      6\n",
       "Utah        8     10\n",
       "New York   12     14"
      ]
     },
     "execution_count": 76,
     "metadata": {},
     "output_type": "execute_result"
    }
   ],
   "source": [
    "df_object.drop([\"two\", \"four\"], axis=1)"
   ]
  },
  {
   "cell_type": "code",
   "execution_count": 77,
   "id": "eaa752cb",
   "metadata": {},
   "outputs": [
    {
     "data": {
      "text/plain": [
       "Ohio         1\n",
       "Colorado     5\n",
       "Utah         9\n",
       "New York    13\n",
       "Name: two, dtype: int64"
      ]
     },
     "execution_count": 77,
     "metadata": {},
     "output_type": "execute_result"
    }
   ],
   "source": [
    "df_object[\"two\"]"
   ]
  },
  {
   "cell_type": "code",
   "execution_count": 78,
   "id": "8e2fc1c2",
   "metadata": {},
   "outputs": [
    {
     "data": {
      "text/html": [
       "<div>\n",
       "<style scoped>\n",
       "    .dataframe tbody tr th:only-of-type {\n",
       "        vertical-align: middle;\n",
       "    }\n",
       "\n",
       "    .dataframe tbody tr th {\n",
       "        vertical-align: top;\n",
       "    }\n",
       "\n",
       "    .dataframe thead th {\n",
       "        text-align: right;\n",
       "    }\n",
       "</style>\n",
       "<table border=\"1\" class=\"dataframe\">\n",
       "  <thead>\n",
       "    <tr style=\"text-align: right;\">\n",
       "      <th></th>\n",
       "      <th>three</th>\n",
       "      <th>one</th>\n",
       "    </tr>\n",
       "  </thead>\n",
       "  <tbody>\n",
       "    <tr>\n",
       "      <th>Ohio</th>\n",
       "      <td>2</td>\n",
       "      <td>0</td>\n",
       "    </tr>\n",
       "    <tr>\n",
       "      <th>Colorado</th>\n",
       "      <td>6</td>\n",
       "      <td>4</td>\n",
       "    </tr>\n",
       "    <tr>\n",
       "      <th>Utah</th>\n",
       "      <td>10</td>\n",
       "      <td>8</td>\n",
       "    </tr>\n",
       "    <tr>\n",
       "      <th>New York</th>\n",
       "      <td>14</td>\n",
       "      <td>12</td>\n",
       "    </tr>\n",
       "  </tbody>\n",
       "</table>\n",
       "</div>"
      ],
      "text/plain": [
       "          three  one\n",
       "Ohio          2    0\n",
       "Colorado      6    4\n",
       "Utah         10    8\n",
       "New York     14   12"
      ]
     },
     "execution_count": 78,
     "metadata": {},
     "output_type": "execute_result"
    }
   ],
   "source": [
    "df_object[[\"three\", \"one\"]]"
   ]
  },
  {
   "cell_type": "code",
   "execution_count": 79,
   "id": "0212c85d",
   "metadata": {},
   "outputs": [
    {
     "data": {
      "text/html": [
       "<div>\n",
       "<style scoped>\n",
       "    .dataframe tbody tr th:only-of-type {\n",
       "        vertical-align: middle;\n",
       "    }\n",
       "\n",
       "    .dataframe tbody tr th {\n",
       "        vertical-align: top;\n",
       "    }\n",
       "\n",
       "    .dataframe thead th {\n",
       "        text-align: right;\n",
       "    }\n",
       "</style>\n",
       "<table border=\"1\" class=\"dataframe\">\n",
       "  <thead>\n",
       "    <tr style=\"text-align: right;\">\n",
       "      <th></th>\n",
       "      <th>one</th>\n",
       "      <th>two</th>\n",
       "      <th>three</th>\n",
       "      <th>four</th>\n",
       "    </tr>\n",
       "  </thead>\n",
       "  <tbody>\n",
       "    <tr>\n",
       "      <th>Ohio</th>\n",
       "      <td>0</td>\n",
       "      <td>1</td>\n",
       "      <td>2</td>\n",
       "      <td>3</td>\n",
       "    </tr>\n",
       "    <tr>\n",
       "      <th>Colorado</th>\n",
       "      <td>4</td>\n",
       "      <td>5</td>\n",
       "      <td>6</td>\n",
       "      <td>7</td>\n",
       "    </tr>\n",
       "  </tbody>\n",
       "</table>\n",
       "</div>"
      ],
      "text/plain": [
       "          one  two  three  four\n",
       "Ohio        0    1      2     3\n",
       "Colorado    4    5      6     7"
      ]
     },
     "execution_count": 79,
     "metadata": {},
     "output_type": "execute_result"
    }
   ],
   "source": [
    "df_object[:2]"
   ]
  },
  {
   "cell_type": "code",
   "execution_count": 80,
   "id": "b7f077f6",
   "metadata": {},
   "outputs": [],
   "source": [
    "covid_sample_data = pd.read_excel(\"/Users/biswajeetparija/Local_Storage/Documents/Covid_sample_dataset_1.xlsx\")"
   ]
  },
  {
   "cell_type": "code",
   "execution_count": 81,
   "id": "bb5e136e",
   "metadata": {},
   "outputs": [
    {
     "data": {
      "text/html": [
       "<div>\n",
       "<style scoped>\n",
       "    .dataframe tbody tr th:only-of-type {\n",
       "        vertical-align: middle;\n",
       "    }\n",
       "\n",
       "    .dataframe tbody tr th {\n",
       "        vertical-align: top;\n",
       "    }\n",
       "\n",
       "    .dataframe thead th {\n",
       "        text-align: right;\n",
       "    }\n",
       "</style>\n",
       "<table border=\"1\" class=\"dataframe\">\n",
       "  <thead>\n",
       "    <tr style=\"text-align: right;\">\n",
       "      <th></th>\n",
       "      <th>S.No</th>\n",
       "      <th>State</th>\n",
       "      <th>District</th>\n",
       "      <th>% Contribution of Testing by RAT</th>\n",
       "      <th>% Contribution of Testing by RTPCR</th>\n",
       "      <th>Positivity</th>\n",
       "    </tr>\n",
       "  </thead>\n",
       "  <tbody>\n",
       "    <tr>\n",
       "      <th>0</th>\n",
       "      <td>1.0</td>\n",
       "      <td>ANDAMAN AND NICOBAR ISLANDS</td>\n",
       "      <td>NORTH AND MIDDLE ANDAMAN</td>\n",
       "      <td>0</td>\n",
       "      <td>100</td>\n",
       "      <td>100.00</td>\n",
       "    </tr>\n",
       "    <tr>\n",
       "      <th>1</th>\n",
       "      <td>2.0</td>\n",
       "      <td>ANDAMAN AND NICOBAR ISLANDS</td>\n",
       "      <td>SOUTH ANDAMANS</td>\n",
       "      <td>14</td>\n",
       "      <td>86</td>\n",
       "      <td>14.29</td>\n",
       "    </tr>\n",
       "    <tr>\n",
       "      <th>2</th>\n",
       "      <td>3.0</td>\n",
       "      <td>ANDHRA PRADESH</td>\n",
       "      <td>EAST GODAVARI</td>\n",
       "      <td>81</td>\n",
       "      <td>19</td>\n",
       "      <td>10.78</td>\n",
       "    </tr>\n",
       "    <tr>\n",
       "      <th>3</th>\n",
       "      <td>4.0</td>\n",
       "      <td>ARUNACHAL PRADESH</td>\n",
       "      <td>PAPUM PARE</td>\n",
       "      <td>33</td>\n",
       "      <td>67</td>\n",
       "      <td>25.00</td>\n",
       "    </tr>\n",
       "    <tr>\n",
       "      <th>4</th>\n",
       "      <td>5.0</td>\n",
       "      <td>ASSAM</td>\n",
       "      <td>LAKHIMPUR</td>\n",
       "      <td>50</td>\n",
       "      <td>50</td>\n",
       "      <td>100.00</td>\n",
       "    </tr>\n",
       "  </tbody>\n",
       "</table>\n",
       "</div>"
      ],
      "text/plain": [
       "   S.No                        State                  District  \\\n",
       "0   1.0  ANDAMAN AND NICOBAR ISLANDS  NORTH AND MIDDLE ANDAMAN   \n",
       "1   2.0  ANDAMAN AND NICOBAR ISLANDS            SOUTH ANDAMANS   \n",
       "2   3.0               ANDHRA PRADESH             EAST GODAVARI   \n",
       "3   4.0            ARUNACHAL PRADESH                PAPUM PARE   \n",
       "4   5.0                        ASSAM                 LAKHIMPUR   \n",
       "\n",
       "   % Contribution of Testing by RAT  % Contribution of Testing by RTPCR  \\\n",
       "0                                 0                                 100   \n",
       "1                                14                                  86   \n",
       "2                                81                                  19   \n",
       "3                                33                                  67   \n",
       "4                                50                                  50   \n",
       "\n",
       "   Positivity  \n",
       "0      100.00  \n",
       "1       14.29  \n",
       "2       10.78  \n",
       "3       25.00  \n",
       "4      100.00  "
      ]
     },
     "execution_count": 81,
     "metadata": {},
     "output_type": "execute_result"
    }
   ],
   "source": [
    "covid_sample_data.head()"
   ]
  },
  {
   "cell_type": "markdown",
   "id": "d3c6d9dd",
   "metadata": {},
   "source": [
    "#### If we want to return specific rows of data (including all columns) - *The below is a specific label based indexing process*"
   ]
  },
  {
   "cell_type": "code",
   "execution_count": 82,
   "id": "880044cf",
   "metadata": {},
   "outputs": [
    {
     "data": {
      "text/html": [
       "<div>\n",
       "<style scoped>\n",
       "    .dataframe tbody tr th:only-of-type {\n",
       "        vertical-align: middle;\n",
       "    }\n",
       "\n",
       "    .dataframe tbody tr th {\n",
       "        vertical-align: top;\n",
       "    }\n",
       "\n",
       "    .dataframe thead th {\n",
       "        text-align: right;\n",
       "    }\n",
       "</style>\n",
       "<table border=\"1\" class=\"dataframe\">\n",
       "  <thead>\n",
       "    <tr style=\"text-align: right;\">\n",
       "      <th></th>\n",
       "      <th>S.No</th>\n",
       "      <th>State</th>\n",
       "      <th>District</th>\n",
       "      <th>% Contribution of Testing by RAT</th>\n",
       "      <th>% Contribution of Testing by RTPCR</th>\n",
       "      <th>Positivity</th>\n",
       "    </tr>\n",
       "  </thead>\n",
       "  <tbody>\n",
       "    <tr>\n",
       "      <th>0</th>\n",
       "      <td>1.0</td>\n",
       "      <td>ANDAMAN AND NICOBAR ISLANDS</td>\n",
       "      <td>NORTH AND MIDDLE ANDAMAN</td>\n",
       "      <td>0</td>\n",
       "      <td>100</td>\n",
       "      <td>100.00</td>\n",
       "    </tr>\n",
       "    <tr>\n",
       "      <th>1</th>\n",
       "      <td>2.0</td>\n",
       "      <td>ANDAMAN AND NICOBAR ISLANDS</td>\n",
       "      <td>SOUTH ANDAMANS</td>\n",
       "      <td>14</td>\n",
       "      <td>86</td>\n",
       "      <td>14.29</td>\n",
       "    </tr>\n",
       "  </tbody>\n",
       "</table>\n",
       "</div>"
      ],
      "text/plain": [
       "   S.No                        State                  District  \\\n",
       "0   1.0  ANDAMAN AND NICOBAR ISLANDS  NORTH AND MIDDLE ANDAMAN   \n",
       "1   2.0  ANDAMAN AND NICOBAR ISLANDS            SOUTH ANDAMANS   \n",
       "\n",
       "   % Contribution of Testing by RAT  % Contribution of Testing by RTPCR  \\\n",
       "0                                 0                                 100   \n",
       "1                                14                                  86   \n",
       "\n",
       "   Positivity  \n",
       "0      100.00  \n",
       "1       14.29  "
      ]
     },
     "execution_count": 82,
     "metadata": {},
     "output_type": "execute_result"
    }
   ],
   "source": [
    "covid_sample_data.loc[0:1]"
   ]
  },
  {
   "cell_type": "code",
   "execution_count": 83,
   "id": "0ed72fc2",
   "metadata": {},
   "outputs": [
    {
     "data": {
      "text/html": [
       "<div>\n",
       "<style scoped>\n",
       "    .dataframe tbody tr th:only-of-type {\n",
       "        vertical-align: middle;\n",
       "    }\n",
       "\n",
       "    .dataframe tbody tr th {\n",
       "        vertical-align: top;\n",
       "    }\n",
       "\n",
       "    .dataframe thead th {\n",
       "        text-align: right;\n",
       "    }\n",
       "</style>\n",
       "<table border=\"1\" class=\"dataframe\">\n",
       "  <thead>\n",
       "    <tr style=\"text-align: right;\">\n",
       "      <th></th>\n",
       "      <th>S.No</th>\n",
       "      <th>State</th>\n",
       "      <th>District</th>\n",
       "      <th>% Contribution of Testing by RAT</th>\n",
       "      <th>% Contribution of Testing by RTPCR</th>\n",
       "      <th>Positivity</th>\n",
       "    </tr>\n",
       "  </thead>\n",
       "  <tbody>\n",
       "    <tr>\n",
       "      <th>0</th>\n",
       "      <td>1.0</td>\n",
       "      <td>ANDAMAN AND NICOBAR ISLANDS</td>\n",
       "      <td>NORTH AND MIDDLE ANDAMAN</td>\n",
       "      <td>0</td>\n",
       "      <td>100</td>\n",
       "      <td>100.0</td>\n",
       "    </tr>\n",
       "  </tbody>\n",
       "</table>\n",
       "</div>"
      ],
      "text/plain": [
       "   S.No                        State                  District  \\\n",
       "0   1.0  ANDAMAN AND NICOBAR ISLANDS  NORTH AND MIDDLE ANDAMAN   \n",
       "\n",
       "   % Contribution of Testing by RAT  % Contribution of Testing by RTPCR  \\\n",
       "0                                 0                                 100   \n",
       "\n",
       "   Positivity  \n",
       "0       100.0  "
      ]
     },
     "execution_count": 83,
     "metadata": {},
     "output_type": "execute_result"
    }
   ],
   "source": [
    "covid_sample_data.iloc[0:1]"
   ]
  },
  {
   "cell_type": "markdown",
   "id": "cb7c4174",
   "metadata": {},
   "source": [
    "#### The difference between loc and iloc is that loc includes the both the starting and ending points. For example covid_sample_data.loc[0:1] will return both 0th label and 1st label, but with iloc it'll only return the 0th label."
   ]
  },
  {
   "cell_type": "code",
   "execution_count": 84,
   "id": "fa6c1e29",
   "metadata": {},
   "outputs": [
    {
     "data": {
      "text/html": [
       "<div>\n",
       "<style scoped>\n",
       "    .dataframe tbody tr th:only-of-type {\n",
       "        vertical-align: middle;\n",
       "    }\n",
       "\n",
       "    .dataframe tbody tr th {\n",
       "        vertical-align: top;\n",
       "    }\n",
       "\n",
       "    .dataframe thead th {\n",
       "        text-align: right;\n",
       "    }\n",
       "</style>\n",
       "<table border=\"1\" class=\"dataframe\">\n",
       "  <thead>\n",
       "    <tr style=\"text-align: right;\">\n",
       "      <th></th>\n",
       "      <th>S.No</th>\n",
       "      <th>State</th>\n",
       "      <th>District</th>\n",
       "      <th>% Contribution of Testing by RAT</th>\n",
       "      <th>% Contribution of Testing by RTPCR</th>\n",
       "      <th>Positivity</th>\n",
       "    </tr>\n",
       "  </thead>\n",
       "  <tbody>\n",
       "    <tr>\n",
       "      <th>0</th>\n",
       "      <td>1.0</td>\n",
       "      <td>ANDAMAN AND NICOBAR ISLANDS</td>\n",
       "      <td>NORTH AND MIDDLE ANDAMAN</td>\n",
       "      <td>0</td>\n",
       "      <td>100</td>\n",
       "      <td>100.00</td>\n",
       "    </tr>\n",
       "    <tr>\n",
       "      <th>1</th>\n",
       "      <td>2.0</td>\n",
       "      <td>ANDAMAN AND NICOBAR ISLANDS</td>\n",
       "      <td>SOUTH ANDAMANS</td>\n",
       "      <td>14</td>\n",
       "      <td>86</td>\n",
       "      <td>14.29</td>\n",
       "    </tr>\n",
       "    <tr>\n",
       "      <th>2</th>\n",
       "      <td>3.0</td>\n",
       "      <td>ANDHRA PRADESH</td>\n",
       "      <td>EAST GODAVARI</td>\n",
       "      <td>81</td>\n",
       "      <td>19</td>\n",
       "      <td>10.78</td>\n",
       "    </tr>\n",
       "    <tr>\n",
       "      <th>3</th>\n",
       "      <td>4.0</td>\n",
       "      <td>ARUNACHAL PRADESH</td>\n",
       "      <td>PAPUM PARE</td>\n",
       "      <td>33</td>\n",
       "      <td>67</td>\n",
       "      <td>25.00</td>\n",
       "    </tr>\n",
       "    <tr>\n",
       "      <th>4</th>\n",
       "      <td>5.0</td>\n",
       "      <td>ASSAM</td>\n",
       "      <td>LAKHIMPUR</td>\n",
       "      <td>50</td>\n",
       "      <td>50</td>\n",
       "      <td>100.00</td>\n",
       "    </tr>\n",
       "    <tr>\n",
       "      <th>...</th>\n",
       "      <td>...</td>\n",
       "      <td>...</td>\n",
       "      <td>...</td>\n",
       "      <td>...</td>\n",
       "      <td>...</td>\n",
       "      <td>...</td>\n",
       "    </tr>\n",
       "    <tr>\n",
       "      <th>141</th>\n",
       "      <td>142.0</td>\n",
       "      <td>UTTARAKHAND</td>\n",
       "      <td>PAURI GARHWAL</td>\n",
       "      <td>72</td>\n",
       "      <td>28</td>\n",
       "      <td>11.49</td>\n",
       "    </tr>\n",
       "    <tr>\n",
       "      <th>142</th>\n",
       "      <td>143.0</td>\n",
       "      <td>UTTARAKHAND</td>\n",
       "      <td>ALMORA</td>\n",
       "      <td>55</td>\n",
       "      <td>45</td>\n",
       "      <td>10.95</td>\n",
       "    </tr>\n",
       "    <tr>\n",
       "      <th>143</th>\n",
       "      <td>144.0</td>\n",
       "      <td>WEST BENGAL</td>\n",
       "      <td>KOLKATA</td>\n",
       "      <td>9</td>\n",
       "      <td>91</td>\n",
       "      <td>13.15</td>\n",
       "    </tr>\n",
       "    <tr>\n",
       "      <th>144</th>\n",
       "      <td>145.0</td>\n",
       "      <td>WEST BENGAL</td>\n",
       "      <td>KALIMPONG</td>\n",
       "      <td>25</td>\n",
       "      <td>75</td>\n",
       "      <td>12.50</td>\n",
       "    </tr>\n",
       "    <tr>\n",
       "      <th>145</th>\n",
       "      <td>146.0</td>\n",
       "      <td>WEST BENGAL</td>\n",
       "      <td>DARJEELING</td>\n",
       "      <td>37</td>\n",
       "      <td>63</td>\n",
       "      <td>10.13</td>\n",
       "    </tr>\n",
       "  </tbody>\n",
       "</table>\n",
       "<p>146 rows × 6 columns</p>\n",
       "</div>"
      ],
      "text/plain": [
       "      S.No                        State                  District  \\\n",
       "0      1.0  ANDAMAN AND NICOBAR ISLANDS  NORTH AND MIDDLE ANDAMAN   \n",
       "1      2.0  ANDAMAN AND NICOBAR ISLANDS            SOUTH ANDAMANS   \n",
       "2      3.0               ANDHRA PRADESH             EAST GODAVARI   \n",
       "3      4.0            ARUNACHAL PRADESH                PAPUM PARE   \n",
       "4      5.0                        ASSAM                 LAKHIMPUR   \n",
       "..     ...                          ...                       ...   \n",
       "141  142.0                  UTTARAKHAND             PAURI GARHWAL   \n",
       "142  143.0                  UTTARAKHAND                    ALMORA   \n",
       "143  144.0                  WEST BENGAL                   KOLKATA   \n",
       "144  145.0                  WEST BENGAL                 KALIMPONG   \n",
       "145  146.0                  WEST BENGAL                DARJEELING   \n",
       "\n",
       "     % Contribution of Testing by RAT  % Contribution of Testing by RTPCR  \\\n",
       "0                                   0                                 100   \n",
       "1                                  14                                  86   \n",
       "2                                  81                                  19   \n",
       "3                                  33                                  67   \n",
       "4                                  50                                  50   \n",
       "..                                ...                                 ...   \n",
       "141                                72                                  28   \n",
       "142                                55                                  45   \n",
       "143                                 9                                  91   \n",
       "144                                25                                  75   \n",
       "145                                37                                  63   \n",
       "\n",
       "     Positivity  \n",
       "0        100.00  \n",
       "1         14.29  \n",
       "2         10.78  \n",
       "3         25.00  \n",
       "4        100.00  \n",
       "..          ...  \n",
       "141       11.49  \n",
       "142       10.95  \n",
       "143       13.15  \n",
       "144       12.50  \n",
       "145       10.13  \n",
       "\n",
       "[146 rows x 6 columns]"
      ]
     },
     "execution_count": 84,
     "metadata": {},
     "output_type": "execute_result"
    }
   ],
   "source": [
    "covid_sample_data.iloc[0:len(covid_sample_data)-1]"
   ]
  },
  {
   "cell_type": "code",
   "execution_count": 85,
   "id": "ddeb9219",
   "metadata": {},
   "outputs": [
    {
     "data": {
      "text/html": [
       "<div>\n",
       "<style scoped>\n",
       "    .dataframe tbody tr th:only-of-type {\n",
       "        vertical-align: middle;\n",
       "    }\n",
       "\n",
       "    .dataframe tbody tr th {\n",
       "        vertical-align: top;\n",
       "    }\n",
       "\n",
       "    .dataframe thead th {\n",
       "        text-align: right;\n",
       "    }\n",
       "</style>\n",
       "<table border=\"1\" class=\"dataframe\">\n",
       "  <thead>\n",
       "    <tr style=\"text-align: right;\">\n",
       "      <th></th>\n",
       "      <th>S.No</th>\n",
       "      <th>State</th>\n",
       "      <th>District</th>\n",
       "      <th>% Contribution of Testing by RAT</th>\n",
       "      <th>% Contribution of Testing by RTPCR</th>\n",
       "      <th>Positivity</th>\n",
       "    </tr>\n",
       "  </thead>\n",
       "  <tbody>\n",
       "    <tr>\n",
       "      <th>0</th>\n",
       "      <td>1.0</td>\n",
       "      <td>ANDAMAN AND NICOBAR ISLANDS</td>\n",
       "      <td>NORTH AND MIDDLE ANDAMAN</td>\n",
       "      <td>0</td>\n",
       "      <td>100</td>\n",
       "      <td>100.00</td>\n",
       "    </tr>\n",
       "    <tr>\n",
       "      <th>1</th>\n",
       "      <td>2.0</td>\n",
       "      <td>ANDAMAN AND NICOBAR ISLANDS</td>\n",
       "      <td>SOUTH ANDAMANS</td>\n",
       "      <td>14</td>\n",
       "      <td>86</td>\n",
       "      <td>14.29</td>\n",
       "    </tr>\n",
       "    <tr>\n",
       "      <th>2</th>\n",
       "      <td>3.0</td>\n",
       "      <td>ANDHRA PRADESH</td>\n",
       "      <td>EAST GODAVARI</td>\n",
       "      <td>81</td>\n",
       "      <td>19</td>\n",
       "      <td>10.78</td>\n",
       "    </tr>\n",
       "    <tr>\n",
       "      <th>3</th>\n",
       "      <td>4.0</td>\n",
       "      <td>ARUNACHAL PRADESH</td>\n",
       "      <td>PAPUM PARE</td>\n",
       "      <td>33</td>\n",
       "      <td>67</td>\n",
       "      <td>25.00</td>\n",
       "    </tr>\n",
       "    <tr>\n",
       "      <th>4</th>\n",
       "      <td>5.0</td>\n",
       "      <td>ASSAM</td>\n",
       "      <td>LAKHIMPUR</td>\n",
       "      <td>50</td>\n",
       "      <td>50</td>\n",
       "      <td>100.00</td>\n",
       "    </tr>\n",
       "    <tr>\n",
       "      <th>5</th>\n",
       "      <td>6.0</td>\n",
       "      <td>ASSAM</td>\n",
       "      <td>UDALGURI</td>\n",
       "      <td>50</td>\n",
       "      <td>50</td>\n",
       "      <td>50.00</td>\n",
       "    </tr>\n",
       "    <tr>\n",
       "      <th>6</th>\n",
       "      <td>7.0</td>\n",
       "      <td>ASSAM</td>\n",
       "      <td>GOALPARA</td>\n",
       "      <td>83</td>\n",
       "      <td>17</td>\n",
       "      <td>16.67</td>\n",
       "    </tr>\n",
       "    <tr>\n",
       "      <th>7</th>\n",
       "      <td>8.0</td>\n",
       "      <td>ASSAM</td>\n",
       "      <td>DARRANG</td>\n",
       "      <td>100</td>\n",
       "      <td>0</td>\n",
       "      <td>11.43</td>\n",
       "    </tr>\n",
       "    <tr>\n",
       "      <th>8</th>\n",
       "      <td>9.0</td>\n",
       "      <td>CHANDIGARH</td>\n",
       "      <td>CHANDIGARH</td>\n",
       "      <td>24</td>\n",
       "      <td>76</td>\n",
       "      <td>11.31</td>\n",
       "    </tr>\n",
       "    <tr>\n",
       "      <th>9</th>\n",
       "      <td>10.0</td>\n",
       "      <td>CHHATTISGARH</td>\n",
       "      <td>BEMETARA</td>\n",
       "      <td>98</td>\n",
       "      <td>2</td>\n",
       "      <td>26.76</td>\n",
       "    </tr>\n",
       "    <tr>\n",
       "      <th>10</th>\n",
       "      <td>11.0</td>\n",
       "      <td>CHHATTISGARH</td>\n",
       "      <td>GAURELLA PENDRA MARWAHI</td>\n",
       "      <td>38</td>\n",
       "      <td>62</td>\n",
       "      <td>19.34</td>\n",
       "    </tr>\n",
       "    <tr>\n",
       "      <th>11</th>\n",
       "      <td>12.0</td>\n",
       "      <td>CHHATTISGARH</td>\n",
       "      <td>SURGUJA</td>\n",
       "      <td>80</td>\n",
       "      <td>20</td>\n",
       "      <td>16.72</td>\n",
       "    </tr>\n",
       "    <tr>\n",
       "      <th>12</th>\n",
       "      <td>13.0</td>\n",
       "      <td>CHHATTISGARH</td>\n",
       "      <td>DURG</td>\n",
       "      <td>68</td>\n",
       "      <td>32</td>\n",
       "      <td>16.23</td>\n",
       "    </tr>\n",
       "    <tr>\n",
       "      <th>13</th>\n",
       "      <td>14.0</td>\n",
       "      <td>CHHATTISGARH</td>\n",
       "      <td>SURAJPUR</td>\n",
       "      <td>96</td>\n",
       "      <td>4</td>\n",
       "      <td>13.21</td>\n",
       "    </tr>\n",
       "    <tr>\n",
       "      <th>14</th>\n",
       "      <td>15.0</td>\n",
       "      <td>CHHATTISGARH</td>\n",
       "      <td>KANKER</td>\n",
       "      <td>97</td>\n",
       "      <td>3</td>\n",
       "      <td>12.70</td>\n",
       "    </tr>\n",
       "    <tr>\n",
       "      <th>15</th>\n",
       "      <td>16.0</td>\n",
       "      <td>CHHATTISGARH</td>\n",
       "      <td>RAJNANDGAON</td>\n",
       "      <td>97</td>\n",
       "      <td>3</td>\n",
       "      <td>12.33</td>\n",
       "    </tr>\n",
       "  </tbody>\n",
       "</table>\n",
       "</div>"
      ],
      "text/plain": [
       "    S.No                        State                  District  \\\n",
       "0    1.0  ANDAMAN AND NICOBAR ISLANDS  NORTH AND MIDDLE ANDAMAN   \n",
       "1    2.0  ANDAMAN AND NICOBAR ISLANDS            SOUTH ANDAMANS   \n",
       "2    3.0               ANDHRA PRADESH             EAST GODAVARI   \n",
       "3    4.0            ARUNACHAL PRADESH                PAPUM PARE   \n",
       "4    5.0                        ASSAM                 LAKHIMPUR   \n",
       "5    6.0                        ASSAM                  UDALGURI   \n",
       "6    7.0                        ASSAM                  GOALPARA   \n",
       "7    8.0                        ASSAM                   DARRANG   \n",
       "8    9.0                   CHANDIGARH                CHANDIGARH   \n",
       "9   10.0                 CHHATTISGARH                  BEMETARA   \n",
       "10  11.0                 CHHATTISGARH   GAURELLA PENDRA MARWAHI   \n",
       "11  12.0                 CHHATTISGARH                   SURGUJA   \n",
       "12  13.0                 CHHATTISGARH                      DURG   \n",
       "13  14.0                 CHHATTISGARH                  SURAJPUR   \n",
       "14  15.0                 CHHATTISGARH                    KANKER   \n",
       "15  16.0                 CHHATTISGARH               RAJNANDGAON   \n",
       "\n",
       "    % Contribution of Testing by RAT  % Contribution of Testing by RTPCR  \\\n",
       "0                                  0                                 100   \n",
       "1                                 14                                  86   \n",
       "2                                 81                                  19   \n",
       "3                                 33                                  67   \n",
       "4                                 50                                  50   \n",
       "5                                 50                                  50   \n",
       "6                                 83                                  17   \n",
       "7                                100                                   0   \n",
       "8                                 24                                  76   \n",
       "9                                 98                                   2   \n",
       "10                                38                                  62   \n",
       "11                                80                                  20   \n",
       "12                                68                                  32   \n",
       "13                                96                                   4   \n",
       "14                                97                                   3   \n",
       "15                                97                                   3   \n",
       "\n",
       "    Positivity  \n",
       "0       100.00  \n",
       "1        14.29  \n",
       "2        10.78  \n",
       "3        25.00  \n",
       "4       100.00  \n",
       "5        50.00  \n",
       "6        16.67  \n",
       "7        11.43  \n",
       "8        11.31  \n",
       "9        26.76  \n",
       "10       19.34  \n",
       "11       16.72  \n",
       "12       16.23  \n",
       "13       13.21  \n",
       "14       12.70  \n",
       "15       12.33  "
      ]
     },
     "execution_count": 85,
     "metadata": {},
     "output_type": "execute_result"
    }
   ],
   "source": [
    "covid_sample_data.iloc[0:16]"
   ]
  },
  {
   "cell_type": "code",
   "execution_count": 86,
   "id": "526155d0",
   "metadata": {},
   "outputs": [
    {
     "data": {
      "text/html": [
       "<div>\n",
       "<style scoped>\n",
       "    .dataframe tbody tr th:only-of-type {\n",
       "        vertical-align: middle;\n",
       "    }\n",
       "\n",
       "    .dataframe tbody tr th {\n",
       "        vertical-align: top;\n",
       "    }\n",
       "\n",
       "    .dataframe thead th {\n",
       "        text-align: right;\n",
       "    }\n",
       "</style>\n",
       "<table border=\"1\" class=\"dataframe\">\n",
       "  <thead>\n",
       "    <tr style=\"text-align: right;\">\n",
       "      <th></th>\n",
       "      <th>S.No</th>\n",
       "      <th>State</th>\n",
       "      <th>District</th>\n",
       "      <th>% Contribution of Testing by RAT</th>\n",
       "      <th>% Contribution of Testing by RTPCR</th>\n",
       "      <th>Positivity</th>\n",
       "    </tr>\n",
       "  </thead>\n",
       "  <tbody>\n",
       "    <tr>\n",
       "      <th>0</th>\n",
       "      <td>1.0</td>\n",
       "      <td>ANDAMAN AND NICOBAR ISLANDS</td>\n",
       "      <td>NORTH AND MIDDLE ANDAMAN</td>\n",
       "      <td>0</td>\n",
       "      <td>100</td>\n",
       "      <td>100.00</td>\n",
       "    </tr>\n",
       "    <tr>\n",
       "      <th>4</th>\n",
       "      <td>5.0</td>\n",
       "      <td>ASSAM</td>\n",
       "      <td>LAKHIMPUR</td>\n",
       "      <td>50</td>\n",
       "      <td>50</td>\n",
       "      <td>100.00</td>\n",
       "    </tr>\n",
       "    <tr>\n",
       "      <th>5</th>\n",
       "      <td>6.0</td>\n",
       "      <td>ASSAM</td>\n",
       "      <td>UDALGURI</td>\n",
       "      <td>50</td>\n",
       "      <td>50</td>\n",
       "      <td>50.00</td>\n",
       "    </tr>\n",
       "    <tr>\n",
       "      <th>9</th>\n",
       "      <td>10.0</td>\n",
       "      <td>CHHATTISGARH</td>\n",
       "      <td>BEMETARA</td>\n",
       "      <td>98</td>\n",
       "      <td>2</td>\n",
       "      <td>26.76</td>\n",
       "    </tr>\n",
       "    <tr>\n",
       "      <th>20</th>\n",
       "      <td>21.0</td>\n",
       "      <td>DELHI</td>\n",
       "      <td>EAST</td>\n",
       "      <td>22</td>\n",
       "      <td>78</td>\n",
       "      <td>37.08</td>\n",
       "    </tr>\n",
       "    <tr>\n",
       "      <th>21</th>\n",
       "      <td>22.0</td>\n",
       "      <td>DELHI</td>\n",
       "      <td>NORTH WEST</td>\n",
       "      <td>26</td>\n",
       "      <td>74</td>\n",
       "      <td>32.48</td>\n",
       "    </tr>\n",
       "    <tr>\n",
       "      <th>22</th>\n",
       "      <td>23.0</td>\n",
       "      <td>DELHI</td>\n",
       "      <td>CENTRAL</td>\n",
       "      <td>21</td>\n",
       "      <td>79</td>\n",
       "      <td>31.93</td>\n",
       "    </tr>\n",
       "    <tr>\n",
       "      <th>23</th>\n",
       "      <td>24.0</td>\n",
       "      <td>DELHI</td>\n",
       "      <td>SOUTH</td>\n",
       "      <td>18</td>\n",
       "      <td>82</td>\n",
       "      <td>31.82</td>\n",
       "    </tr>\n",
       "    <tr>\n",
       "      <th>24</th>\n",
       "      <td>25.0</td>\n",
       "      <td>DELHI</td>\n",
       "      <td>WEST</td>\n",
       "      <td>35</td>\n",
       "      <td>65</td>\n",
       "      <td>28.89</td>\n",
       "    </tr>\n",
       "    <tr>\n",
       "      <th>25</th>\n",
       "      <td>26.0</td>\n",
       "      <td>DELHI</td>\n",
       "      <td>SOUTH EAST</td>\n",
       "      <td>46</td>\n",
       "      <td>54</td>\n",
       "      <td>28.13</td>\n",
       "    </tr>\n",
       "    <tr>\n",
       "      <th>26</th>\n",
       "      <td>27.0</td>\n",
       "      <td>DELHI</td>\n",
       "      <td>NEW DELHI</td>\n",
       "      <td>12</td>\n",
       "      <td>88</td>\n",
       "      <td>27.43</td>\n",
       "    </tr>\n",
       "    <tr>\n",
       "      <th>27</th>\n",
       "      <td>28.0</td>\n",
       "      <td>DELHI</td>\n",
       "      <td>NORTH</td>\n",
       "      <td>48</td>\n",
       "      <td>52</td>\n",
       "      <td>25.36</td>\n",
       "    </tr>\n",
       "    <tr>\n",
       "      <th>34</th>\n",
       "      <td>35.0</td>\n",
       "      <td>HARYANA</td>\n",
       "      <td>YAMUNANAGAR</td>\n",
       "      <td>3</td>\n",
       "      <td>97</td>\n",
       "      <td>45.64</td>\n",
       "    </tr>\n",
       "    <tr>\n",
       "      <th>44</th>\n",
       "      <td>45.0</td>\n",
       "      <td>HIMACHAL PRADESH</td>\n",
       "      <td>SIRMAUR</td>\n",
       "      <td>45</td>\n",
       "      <td>55</td>\n",
       "      <td>26.18</td>\n",
       "    </tr>\n",
       "    <tr>\n",
       "      <th>45</th>\n",
       "      <td>46.0</td>\n",
       "      <td>HIMACHAL PRADESH</td>\n",
       "      <td>UNA</td>\n",
       "      <td>33</td>\n",
       "      <td>67</td>\n",
       "      <td>25.17</td>\n",
       "    </tr>\n",
       "    <tr>\n",
       "      <th>52</th>\n",
       "      <td>53.0</td>\n",
       "      <td>JAMMU AND KASHMIR</td>\n",
       "      <td>ANANTNAG</td>\n",
       "      <td>14</td>\n",
       "      <td>86</td>\n",
       "      <td>32.00</td>\n",
       "    </tr>\n",
       "    <tr>\n",
       "      <th>57</th>\n",
       "      <td>58.0</td>\n",
       "      <td>JHARKHAND</td>\n",
       "      <td>SARAIKELA KHARSAWAN</td>\n",
       "      <td>83</td>\n",
       "      <td>17</td>\n",
       "      <td>50.00</td>\n",
       "    </tr>\n",
       "    <tr>\n",
       "      <th>58</th>\n",
       "      <td>59.0</td>\n",
       "      <td>JHARKHAND</td>\n",
       "      <td>LOHARDAGA</td>\n",
       "      <td>100</td>\n",
       "      <td>0</td>\n",
       "      <td>35.00</td>\n",
       "    </tr>\n",
       "    <tr>\n",
       "      <th>61</th>\n",
       "      <td>62.0</td>\n",
       "      <td>KERALA</td>\n",
       "      <td>ERNAKULAM</td>\n",
       "      <td>58</td>\n",
       "      <td>42</td>\n",
       "      <td>38.73</td>\n",
       "    </tr>\n",
       "    <tr>\n",
       "      <th>62</th>\n",
       "      <td>63.0</td>\n",
       "      <td>KERALA</td>\n",
       "      <td>KOLLAM</td>\n",
       "      <td>75</td>\n",
       "      <td>25</td>\n",
       "      <td>33.79</td>\n",
       "    </tr>\n",
       "    <tr>\n",
       "      <th>63</th>\n",
       "      <td>64.0</td>\n",
       "      <td>KERALA</td>\n",
       "      <td>IDUKKI</td>\n",
       "      <td>67</td>\n",
       "      <td>33</td>\n",
       "      <td>33.70</td>\n",
       "    </tr>\n",
       "    <tr>\n",
       "      <th>64</th>\n",
       "      <td>65.0</td>\n",
       "      <td>KERALA</td>\n",
       "      <td>KOTTAYAM</td>\n",
       "      <td>71</td>\n",
       "      <td>29</td>\n",
       "      <td>32.56</td>\n",
       "    </tr>\n",
       "    <tr>\n",
       "      <th>65</th>\n",
       "      <td>66.0</td>\n",
       "      <td>KERALA</td>\n",
       "      <td>WAYANAD</td>\n",
       "      <td>56</td>\n",
       "      <td>44</td>\n",
       "      <td>32.20</td>\n",
       "    </tr>\n",
       "    <tr>\n",
       "      <th>66</th>\n",
       "      <td>67.0</td>\n",
       "      <td>KERALA</td>\n",
       "      <td>PATHANAMTHITTA</td>\n",
       "      <td>63</td>\n",
       "      <td>37</td>\n",
       "      <td>31.61</td>\n",
       "    </tr>\n",
       "    <tr>\n",
       "      <th>67</th>\n",
       "      <td>68.0</td>\n",
       "      <td>KERALA</td>\n",
       "      <td>KOZHIKODE</td>\n",
       "      <td>43</td>\n",
       "      <td>57</td>\n",
       "      <td>28.50</td>\n",
       "    </tr>\n",
       "    <tr>\n",
       "      <th>68</th>\n",
       "      <td>69.0</td>\n",
       "      <td>KERALA</td>\n",
       "      <td>THRISSUR</td>\n",
       "      <td>55</td>\n",
       "      <td>45</td>\n",
       "      <td>28.40</td>\n",
       "    </tr>\n",
       "    <tr>\n",
       "      <th>69</th>\n",
       "      <td>70.0</td>\n",
       "      <td>KERALA</td>\n",
       "      <td>PALAKKAD</td>\n",
       "      <td>65</td>\n",
       "      <td>35</td>\n",
       "      <td>25.84</td>\n",
       "    </tr>\n",
       "    <tr>\n",
       "      <th>76</th>\n",
       "      <td>77.0</td>\n",
       "      <td>MADHYA PRADESH</td>\n",
       "      <td>ALIRAJPUR</td>\n",
       "      <td>0</td>\n",
       "      <td>100</td>\n",
       "      <td>33.33</td>\n",
       "    </tr>\n",
       "    <tr>\n",
       "      <th>77</th>\n",
       "      <td>78.0</td>\n",
       "      <td>MADHYA PRADESH</td>\n",
       "      <td>MANDLA</td>\n",
       "      <td>14</td>\n",
       "      <td>86</td>\n",
       "      <td>28.57</td>\n",
       "    </tr>\n",
       "    <tr>\n",
       "      <th>78</th>\n",
       "      <td>79.0</td>\n",
       "      <td>MADHYA PRADESH</td>\n",
       "      <td>SHEOPUR</td>\n",
       "      <td>0</td>\n",
       "      <td>100</td>\n",
       "      <td>28.57</td>\n",
       "    </tr>\n",
       "    <tr>\n",
       "      <th>79</th>\n",
       "      <td>80.0</td>\n",
       "      <td>MADHYA PRADESH</td>\n",
       "      <td>BALAGHAT</td>\n",
       "      <td>27</td>\n",
       "      <td>73</td>\n",
       "      <td>27.27</td>\n",
       "    </tr>\n",
       "    <tr>\n",
       "      <th>100</th>\n",
       "      <td>101.0</td>\n",
       "      <td>MEGHALAYA</td>\n",
       "      <td>EAST JAINTIA HILLS</td>\n",
       "      <td>100</td>\n",
       "      <td>0</td>\n",
       "      <td>66.67</td>\n",
       "    </tr>\n",
       "    <tr>\n",
       "      <th>101</th>\n",
       "      <td>102.0</td>\n",
       "      <td>MIZORAM</td>\n",
       "      <td>AIZAWL</td>\n",
       "      <td>79</td>\n",
       "      <td>21</td>\n",
       "      <td>35.71</td>\n",
       "    </tr>\n",
       "    <tr>\n",
       "      <th>136</th>\n",
       "      <td>137.0</td>\n",
       "      <td>UTTARAKHAND</td>\n",
       "      <td>PITHORAGARH</td>\n",
       "      <td>63</td>\n",
       "      <td>37</td>\n",
       "      <td>43.33</td>\n",
       "    </tr>\n",
       "  </tbody>\n",
       "</table>\n",
       "</div>"
      ],
      "text/plain": [
       "      S.No                        State                  District  \\\n",
       "0      1.0  ANDAMAN AND NICOBAR ISLANDS  NORTH AND MIDDLE ANDAMAN   \n",
       "4      5.0                        ASSAM                 LAKHIMPUR   \n",
       "5      6.0                        ASSAM                  UDALGURI   \n",
       "9     10.0                 CHHATTISGARH                  BEMETARA   \n",
       "20    21.0                        DELHI                      EAST   \n",
       "21    22.0                        DELHI                NORTH WEST   \n",
       "22    23.0                        DELHI                   CENTRAL   \n",
       "23    24.0                        DELHI                     SOUTH   \n",
       "24    25.0                        DELHI                      WEST   \n",
       "25    26.0                        DELHI                SOUTH EAST   \n",
       "26    27.0                        DELHI                 NEW DELHI   \n",
       "27    28.0                        DELHI                     NORTH   \n",
       "34    35.0                      HARYANA               YAMUNANAGAR   \n",
       "44    45.0             HIMACHAL PRADESH                   SIRMAUR   \n",
       "45    46.0             HIMACHAL PRADESH                       UNA   \n",
       "52    53.0            JAMMU AND KASHMIR                  ANANTNAG   \n",
       "57    58.0                    JHARKHAND       SARAIKELA KHARSAWAN   \n",
       "58    59.0                    JHARKHAND                 LOHARDAGA   \n",
       "61    62.0                       KERALA                 ERNAKULAM   \n",
       "62    63.0                       KERALA                    KOLLAM   \n",
       "63    64.0                       KERALA                    IDUKKI   \n",
       "64    65.0                       KERALA                  KOTTAYAM   \n",
       "65    66.0                       KERALA                   WAYANAD   \n",
       "66    67.0                       KERALA            PATHANAMTHITTA   \n",
       "67    68.0                       KERALA                 KOZHIKODE   \n",
       "68    69.0                       KERALA                  THRISSUR   \n",
       "69    70.0                       KERALA                  PALAKKAD   \n",
       "76    77.0               MADHYA PRADESH                 ALIRAJPUR   \n",
       "77    78.0               MADHYA PRADESH                    MANDLA   \n",
       "78    79.0               MADHYA PRADESH                   SHEOPUR   \n",
       "79    80.0               MADHYA PRADESH                  BALAGHAT   \n",
       "100  101.0                    MEGHALAYA        EAST JAINTIA HILLS   \n",
       "101  102.0                      MIZORAM                    AIZAWL   \n",
       "136  137.0                  UTTARAKHAND               PITHORAGARH   \n",
       "\n",
       "     % Contribution of Testing by RAT  % Contribution of Testing by RTPCR  \\\n",
       "0                                   0                                 100   \n",
       "4                                  50                                  50   \n",
       "5                                  50                                  50   \n",
       "9                                  98                                   2   \n",
       "20                                 22                                  78   \n",
       "21                                 26                                  74   \n",
       "22                                 21                                  79   \n",
       "23                                 18                                  82   \n",
       "24                                 35                                  65   \n",
       "25                                 46                                  54   \n",
       "26                                 12                                  88   \n",
       "27                                 48                                  52   \n",
       "34                                  3                                  97   \n",
       "44                                 45                                  55   \n",
       "45                                 33                                  67   \n",
       "52                                 14                                  86   \n",
       "57                                 83                                  17   \n",
       "58                                100                                   0   \n",
       "61                                 58                                  42   \n",
       "62                                 75                                  25   \n",
       "63                                 67                                  33   \n",
       "64                                 71                                  29   \n",
       "65                                 56                                  44   \n",
       "66                                 63                                  37   \n",
       "67                                 43                                  57   \n",
       "68                                 55                                  45   \n",
       "69                                 65                                  35   \n",
       "76                                  0                                 100   \n",
       "77                                 14                                  86   \n",
       "78                                  0                                 100   \n",
       "79                                 27                                  73   \n",
       "100                               100                                   0   \n",
       "101                                79                                  21   \n",
       "136                                63                                  37   \n",
       "\n",
       "     Positivity  \n",
       "0        100.00  \n",
       "4        100.00  \n",
       "5         50.00  \n",
       "9         26.76  \n",
       "20        37.08  \n",
       "21        32.48  \n",
       "22        31.93  \n",
       "23        31.82  \n",
       "24        28.89  \n",
       "25        28.13  \n",
       "26        27.43  \n",
       "27        25.36  \n",
       "34        45.64  \n",
       "44        26.18  \n",
       "45        25.17  \n",
       "52        32.00  \n",
       "57        50.00  \n",
       "58        35.00  \n",
       "61        38.73  \n",
       "62        33.79  \n",
       "63        33.70  \n",
       "64        32.56  \n",
       "65        32.20  \n",
       "66        31.61  \n",
       "67        28.50  \n",
       "68        28.40  \n",
       "69        25.84  \n",
       "76        33.33  \n",
       "77        28.57  \n",
       "78        28.57  \n",
       "79        27.27  \n",
       "100       66.67  \n",
       "101       35.71  \n",
       "136       43.33  "
      ]
     },
     "execution_count": 86,
     "metadata": {},
     "output_type": "execute_result"
    }
   ],
   "source": [
    "covid_sample_data[covid_sample_data[\"Positivity\"]>25.00]"
   ]
  },
  {
   "cell_type": "code",
   "execution_count": 87,
   "id": "a00f6793",
   "metadata": {},
   "outputs": [
    {
     "data": {
      "text/plain": [
       "S.No                     3.0\n",
       "State         ANDHRA PRADESH\n",
       "District       EAST GODAVARI\n",
       "Positivity             10.78\n",
       "Name: 2, dtype: object"
      ]
     },
     "execution_count": 87,
     "metadata": {},
     "output_type": "execute_result"
    }
   ],
   "source": [
    "covid_sample_data.iloc[2, [0, 1, 2, 5]]"
   ]
  },
  {
   "cell_type": "code",
   "execution_count": 94,
   "id": "98ad9f89",
   "metadata": {},
   "outputs": [
    {
     "data": {
      "text/plain": [
       "2         ANDHRA PRADESH\n",
       "6                  ASSAM\n",
       "7                  ASSAM\n",
       "9           CHHATTISGARH\n",
       "11          CHHATTISGARH\n",
       "12          CHHATTISGARH\n",
       "13          CHHATTISGARH\n",
       "14          CHHATTISGARH\n",
       "15          CHHATTISGARH\n",
       "16          CHHATTISGARH\n",
       "17          CHHATTISGARH\n",
       "18          CHHATTISGARH\n",
       "19          CHHATTISGARH\n",
       "30                 DELHI\n",
       "40               HARYANA\n",
       "46      HIMACHAL PRADESH\n",
       "47      HIMACHAL PRADESH\n",
       "48      HIMACHAL PRADESH\n",
       "49      HIMACHAL PRADESH\n",
       "50      HIMACHAL PRADESH\n",
       "51      HIMACHAL PRADESH\n",
       "53     JAMMU AND KASHMIR\n",
       "54     JAMMU AND KASHMIR\n",
       "55     JAMMU AND KASHMIR\n",
       "56     JAMMU AND KASHMIR\n",
       "57             JHARKHAND\n",
       "58             JHARKHAND\n",
       "60             JHARKHAND\n",
       "61                KERALA\n",
       "62                KERALA\n",
       "63                KERALA\n",
       "64                KERALA\n",
       "65                KERALA\n",
       "66                KERALA\n",
       "68                KERALA\n",
       "69                KERALA\n",
       "70                KERALA\n",
       "71                KERALA\n",
       "81        MADHYA PRADESH\n",
       "94           MAHARASHTRA\n",
       "98               MANIPUR\n",
       "99               MANIPUR\n",
       "100            MEGHALAYA\n",
       "101              MIZORAM\n",
       "102             NAGALAND\n",
       "103               ODISHA\n",
       "104               ODISHA\n",
       "106           PUDUCHERRY\n",
       "107           PUDUCHERRY\n",
       "109               PUNJAB\n",
       "114            RAJASTHAN\n",
       "118            RAJASTHAN\n",
       "136          UTTARAKHAND\n",
       "138          UTTARAKHAND\n",
       "139          UTTARAKHAND\n",
       "141          UTTARAKHAND\n",
       "142          UTTARAKHAND\n",
       "146          Grand Total\n",
       "Name: State, dtype: object"
      ]
     },
     "execution_count": 94,
     "metadata": {},
     "output_type": "execute_result"
    }
   ],
   "source": [
    "covid_sample_data.loc[covid_sample_data[\"% Contribution of Testing by RAT\"]>50, \"State\"]"
   ]
  },
  {
   "cell_type": "code",
   "execution_count": 95,
   "id": "b005feb7",
   "metadata": {},
   "outputs": [
    {
     "data": {
      "text/html": [
       "<div>\n",
       "<style scoped>\n",
       "    .dataframe tbody tr th:only-of-type {\n",
       "        vertical-align: middle;\n",
       "    }\n",
       "\n",
       "    .dataframe tbody tr th {\n",
       "        vertical-align: top;\n",
       "    }\n",
       "\n",
       "    .dataframe thead th {\n",
       "        text-align: right;\n",
       "    }\n",
       "</style>\n",
       "<table border=\"1\" class=\"dataframe\">\n",
       "  <thead>\n",
       "    <tr style=\"text-align: right;\">\n",
       "      <th></th>\n",
       "      <th>S.No</th>\n",
       "      <th>State</th>\n",
       "      <th>District</th>\n",
       "      <th>% Contribution of Testing by RAT</th>\n",
       "      <th>% Contribution of Testing by RTPCR</th>\n",
       "      <th>Positivity</th>\n",
       "    </tr>\n",
       "  </thead>\n",
       "  <tbody>\n",
       "    <tr>\n",
       "      <th>0</th>\n",
       "      <td>1.0</td>\n",
       "      <td>ANDAMAN AND NICOBAR ISLANDS</td>\n",
       "      <td>NORTH AND MIDDLE ANDAMAN</td>\n",
       "      <td>0</td>\n",
       "      <td>100</td>\n",
       "      <td>100.00</td>\n",
       "    </tr>\n",
       "    <tr>\n",
       "      <th>1</th>\n",
       "      <td>2.0</td>\n",
       "      <td>ANDAMAN AND NICOBAR ISLANDS</td>\n",
       "      <td>SOUTH ANDAMANS</td>\n",
       "      <td>14</td>\n",
       "      <td>86</td>\n",
       "      <td>14.29</td>\n",
       "    </tr>\n",
       "    <tr>\n",
       "      <th>2</th>\n",
       "      <td>3.0</td>\n",
       "      <td>ANDHRA PRADESH</td>\n",
       "      <td>EAST GODAVARI</td>\n",
       "      <td>81</td>\n",
       "      <td>19</td>\n",
       "      <td>10.78</td>\n",
       "    </tr>\n",
       "    <tr>\n",
       "      <th>3</th>\n",
       "      <td>4.0</td>\n",
       "      <td>ARUNACHAL PRADESH</td>\n",
       "      <td>PAPUM PARE</td>\n",
       "      <td>33</td>\n",
       "      <td>67</td>\n",
       "      <td>25.00</td>\n",
       "    </tr>\n",
       "    <tr>\n",
       "      <th>4</th>\n",
       "      <td>5.0</td>\n",
       "      <td>ASSAM</td>\n",
       "      <td>LAKHIMPUR</td>\n",
       "      <td>50</td>\n",
       "      <td>50</td>\n",
       "      <td>100.00</td>\n",
       "    </tr>\n",
       "  </tbody>\n",
       "</table>\n",
       "</div>"
      ],
      "text/plain": [
       "   S.No                        State                  District  \\\n",
       "0   1.0  ANDAMAN AND NICOBAR ISLANDS  NORTH AND MIDDLE ANDAMAN   \n",
       "1   2.0  ANDAMAN AND NICOBAR ISLANDS            SOUTH ANDAMANS   \n",
       "2   3.0               ANDHRA PRADESH             EAST GODAVARI   \n",
       "3   4.0            ARUNACHAL PRADESH                PAPUM PARE   \n",
       "4   5.0                        ASSAM                 LAKHIMPUR   \n",
       "\n",
       "   % Contribution of Testing by RAT  % Contribution of Testing by RTPCR  \\\n",
       "0                                 0                                 100   \n",
       "1                                14                                  86   \n",
       "2                                81                                  19   \n",
       "3                                33                                  67   \n",
       "4                                50                                  50   \n",
       "\n",
       "   Positivity  \n",
       "0      100.00  \n",
       "1       14.29  \n",
       "2       10.78  \n",
       "3       25.00  \n",
       "4      100.00  "
      ]
     },
     "execution_count": 95,
     "metadata": {},
     "output_type": "execute_result"
    }
   ],
   "source": [
    "covid_sample_data.head()"
   ]
  },
  {
   "cell_type": "markdown",
   "id": "84046b1e",
   "metadata": {},
   "source": [
    "### Function Application and Mapping"
   ]
  },
  {
   "cell_type": "code",
   "execution_count": 98,
   "id": "9175345e",
   "metadata": {},
   "outputs": [],
   "source": [
    "frame = pd.DataFrame(np.random.standard_normal((4, 3)), columns=list(\"bde\"), index=[\"Utah\", \"Ohio\", \"Texas\", \"Oregon\"])"
   ]
  },
  {
   "cell_type": "code",
   "execution_count": 99,
   "id": "6957609d",
   "metadata": {},
   "outputs": [
    {
     "data": {
      "text/html": [
       "<div>\n",
       "<style scoped>\n",
       "    .dataframe tbody tr th:only-of-type {\n",
       "        vertical-align: middle;\n",
       "    }\n",
       "\n",
       "    .dataframe tbody tr th {\n",
       "        vertical-align: top;\n",
       "    }\n",
       "\n",
       "    .dataframe thead th {\n",
       "        text-align: right;\n",
       "    }\n",
       "</style>\n",
       "<table border=\"1\" class=\"dataframe\">\n",
       "  <thead>\n",
       "    <tr style=\"text-align: right;\">\n",
       "      <th></th>\n",
       "      <th>b</th>\n",
       "      <th>d</th>\n",
       "      <th>e</th>\n",
       "    </tr>\n",
       "  </thead>\n",
       "  <tbody>\n",
       "    <tr>\n",
       "      <th>Utah</th>\n",
       "      <td>0.661796</td>\n",
       "      <td>-0.642346</td>\n",
       "      <td>-0.204372</td>\n",
       "    </tr>\n",
       "    <tr>\n",
       "      <th>Ohio</th>\n",
       "      <td>0.246438</td>\n",
       "      <td>-0.228880</td>\n",
       "      <td>0.490916</td>\n",
       "    </tr>\n",
       "    <tr>\n",
       "      <th>Texas</th>\n",
       "      <td>-0.729909</td>\n",
       "      <td>0.173539</td>\n",
       "      <td>0.389911</td>\n",
       "    </tr>\n",
       "    <tr>\n",
       "      <th>Oregon</th>\n",
       "      <td>-1.075247</td>\n",
       "      <td>1.201703</td>\n",
       "      <td>-0.495663</td>\n",
       "    </tr>\n",
       "  </tbody>\n",
       "</table>\n",
       "</div>"
      ],
      "text/plain": [
       "               b         d         e\n",
       "Utah    0.661796 -0.642346 -0.204372\n",
       "Ohio    0.246438 -0.228880  0.490916\n",
       "Texas  -0.729909  0.173539  0.389911\n",
       "Oregon -1.075247  1.201703 -0.495663"
      ]
     },
     "execution_count": 99,
     "metadata": {},
     "output_type": "execute_result"
    }
   ],
   "source": [
    "frame"
   ]
  },
  {
   "cell_type": "code",
   "execution_count": 100,
   "id": "f07aa02b",
   "metadata": {},
   "outputs": [
    {
     "data": {
      "text/html": [
       "<div>\n",
       "<style scoped>\n",
       "    .dataframe tbody tr th:only-of-type {\n",
       "        vertical-align: middle;\n",
       "    }\n",
       "\n",
       "    .dataframe tbody tr th {\n",
       "        vertical-align: top;\n",
       "    }\n",
       "\n",
       "    .dataframe thead th {\n",
       "        text-align: right;\n",
       "    }\n",
       "</style>\n",
       "<table border=\"1\" class=\"dataframe\">\n",
       "  <thead>\n",
       "    <tr style=\"text-align: right;\">\n",
       "      <th></th>\n",
       "      <th>b</th>\n",
       "      <th>d</th>\n",
       "      <th>e</th>\n",
       "    </tr>\n",
       "  </thead>\n",
       "  <tbody>\n",
       "    <tr>\n",
       "      <th>Utah</th>\n",
       "      <td>0.661796</td>\n",
       "      <td>0.642346</td>\n",
       "      <td>0.204372</td>\n",
       "    </tr>\n",
       "    <tr>\n",
       "      <th>Ohio</th>\n",
       "      <td>0.246438</td>\n",
       "      <td>0.228880</td>\n",
       "      <td>0.490916</td>\n",
       "    </tr>\n",
       "    <tr>\n",
       "      <th>Texas</th>\n",
       "      <td>0.729909</td>\n",
       "      <td>0.173539</td>\n",
       "      <td>0.389911</td>\n",
       "    </tr>\n",
       "    <tr>\n",
       "      <th>Oregon</th>\n",
       "      <td>1.075247</td>\n",
       "      <td>1.201703</td>\n",
       "      <td>0.495663</td>\n",
       "    </tr>\n",
       "  </tbody>\n",
       "</table>\n",
       "</div>"
      ],
      "text/plain": [
       "               b         d         e\n",
       "Utah    0.661796  0.642346  0.204372\n",
       "Ohio    0.246438  0.228880  0.490916\n",
       "Texas   0.729909  0.173539  0.389911\n",
       "Oregon  1.075247  1.201703  0.495663"
      ]
     },
     "execution_count": 100,
     "metadata": {},
     "output_type": "execute_result"
    }
   ],
   "source": [
    "np.abs(frame)"
   ]
  },
  {
   "cell_type": "code",
   "execution_count": 101,
   "id": "06f33794",
   "metadata": {},
   "outputs": [],
   "source": [
    "def f1(x):\n",
    "    return max(x)"
   ]
  },
  {
   "cell_type": "code",
   "execution_count": 106,
   "id": "c63626d6",
   "metadata": {},
   "outputs": [
    {
     "data": {
      "text/plain": [
       "Utah      0.661796\n",
       "Ohio      0.490916\n",
       "Texas     0.389911\n",
       "Oregon    1.201703\n",
       "dtype: float64"
      ]
     },
     "execution_count": 106,
     "metadata": {},
     "output_type": "execute_result"
    }
   ],
   "source": [
    "frame.apply(f1, axis='columns') #here axis = 'columns' means to apply the function across columns"
   ]
  },
  {
   "cell_type": "markdown",
   "id": "48e8588d",
   "metadata": {},
   "source": [
    "### Sorting and Ranking"
   ]
  },
  {
   "cell_type": "code",
   "execution_count": 107,
   "id": "96f1d88f",
   "metadata": {},
   "outputs": [
    {
     "data": {
      "text/html": [
       "<div>\n",
       "<style scoped>\n",
       "    .dataframe tbody tr th:only-of-type {\n",
       "        vertical-align: middle;\n",
       "    }\n",
       "\n",
       "    .dataframe tbody tr th {\n",
       "        vertical-align: top;\n",
       "    }\n",
       "\n",
       "    .dataframe thead th {\n",
       "        text-align: right;\n",
       "    }\n",
       "</style>\n",
       "<table border=\"1\" class=\"dataframe\">\n",
       "  <thead>\n",
       "    <tr style=\"text-align: right;\">\n",
       "      <th></th>\n",
       "      <th>S.No</th>\n",
       "      <th>State</th>\n",
       "      <th>District</th>\n",
       "      <th>% Contribution of Testing by RAT</th>\n",
       "      <th>% Contribution of Testing by RTPCR</th>\n",
       "      <th>Positivity</th>\n",
       "    </tr>\n",
       "  </thead>\n",
       "  <tbody>\n",
       "    <tr>\n",
       "      <th>0</th>\n",
       "      <td>1.0</td>\n",
       "      <td>ANDAMAN AND NICOBAR ISLANDS</td>\n",
       "      <td>NORTH AND MIDDLE ANDAMAN</td>\n",
       "      <td>0</td>\n",
       "      <td>100</td>\n",
       "      <td>100.00</td>\n",
       "    </tr>\n",
       "    <tr>\n",
       "      <th>1</th>\n",
       "      <td>2.0</td>\n",
       "      <td>ANDAMAN AND NICOBAR ISLANDS</td>\n",
       "      <td>SOUTH ANDAMANS</td>\n",
       "      <td>14</td>\n",
       "      <td>86</td>\n",
       "      <td>14.29</td>\n",
       "    </tr>\n",
       "    <tr>\n",
       "      <th>2</th>\n",
       "      <td>3.0</td>\n",
       "      <td>ANDHRA PRADESH</td>\n",
       "      <td>EAST GODAVARI</td>\n",
       "      <td>81</td>\n",
       "      <td>19</td>\n",
       "      <td>10.78</td>\n",
       "    </tr>\n",
       "    <tr>\n",
       "      <th>3</th>\n",
       "      <td>4.0</td>\n",
       "      <td>ARUNACHAL PRADESH</td>\n",
       "      <td>PAPUM PARE</td>\n",
       "      <td>33</td>\n",
       "      <td>67</td>\n",
       "      <td>25.00</td>\n",
       "    </tr>\n",
       "    <tr>\n",
       "      <th>4</th>\n",
       "      <td>5.0</td>\n",
       "      <td>ASSAM</td>\n",
       "      <td>LAKHIMPUR</td>\n",
       "      <td>50</td>\n",
       "      <td>50</td>\n",
       "      <td>100.00</td>\n",
       "    </tr>\n",
       "  </tbody>\n",
       "</table>\n",
       "</div>"
      ],
      "text/plain": [
       "   S.No                        State                  District  \\\n",
       "0   1.0  ANDAMAN AND NICOBAR ISLANDS  NORTH AND MIDDLE ANDAMAN   \n",
       "1   2.0  ANDAMAN AND NICOBAR ISLANDS            SOUTH ANDAMANS   \n",
       "2   3.0               ANDHRA PRADESH             EAST GODAVARI   \n",
       "3   4.0            ARUNACHAL PRADESH                PAPUM PARE   \n",
       "4   5.0                        ASSAM                 LAKHIMPUR   \n",
       "\n",
       "   % Contribution of Testing by RAT  % Contribution of Testing by RTPCR  \\\n",
       "0                                 0                                 100   \n",
       "1                                14                                  86   \n",
       "2                                81                                  19   \n",
       "3                                33                                  67   \n",
       "4                                50                                  50   \n",
       "\n",
       "   Positivity  \n",
       "0      100.00  \n",
       "1       14.29  \n",
       "2       10.78  \n",
       "3       25.00  \n",
       "4      100.00  "
      ]
     },
     "execution_count": 107,
     "metadata": {},
     "output_type": "execute_result"
    }
   ],
   "source": [
    "covid_sample_data.head()"
   ]
  },
  {
   "cell_type": "code",
   "execution_count": 109,
   "id": "fbbe28e7",
   "metadata": {},
   "outputs": [],
   "source": [
    "covid_sample_data_1 = covid_sample_data.reindex(index=covid_sample_data[\"S.No\"])"
   ]
  },
  {
   "cell_type": "code",
   "execution_count": 111,
   "id": "0c7fe909",
   "metadata": {},
   "outputs": [],
   "source": [
    "covid_sample_data_1 = covid_sample_data_1.drop(\"S.No\", axis=1)"
   ]
  },
  {
   "cell_type": "code",
   "execution_count": 112,
   "id": "1d43f4d8",
   "metadata": {},
   "outputs": [
    {
     "data": {
      "text/html": [
       "<div>\n",
       "<style scoped>\n",
       "    .dataframe tbody tr th:only-of-type {\n",
       "        vertical-align: middle;\n",
       "    }\n",
       "\n",
       "    .dataframe tbody tr th {\n",
       "        vertical-align: top;\n",
       "    }\n",
       "\n",
       "    .dataframe thead th {\n",
       "        text-align: right;\n",
       "    }\n",
       "</style>\n",
       "<table border=\"1\" class=\"dataframe\">\n",
       "  <thead>\n",
       "    <tr style=\"text-align: right;\">\n",
       "      <th></th>\n",
       "      <th>State</th>\n",
       "      <th>District</th>\n",
       "      <th>% Contribution of Testing by RAT</th>\n",
       "      <th>% Contribution of Testing by RTPCR</th>\n",
       "      <th>Positivity</th>\n",
       "    </tr>\n",
       "    <tr>\n",
       "      <th>S.No</th>\n",
       "      <th></th>\n",
       "      <th></th>\n",
       "      <th></th>\n",
       "      <th></th>\n",
       "      <th></th>\n",
       "    </tr>\n",
       "  </thead>\n",
       "  <tbody>\n",
       "    <tr>\n",
       "      <th>1.0</th>\n",
       "      <td>ANDAMAN AND NICOBAR ISLANDS</td>\n",
       "      <td>SOUTH ANDAMANS</td>\n",
       "      <td>14.0</td>\n",
       "      <td>86.0</td>\n",
       "      <td>14.29</td>\n",
       "    </tr>\n",
       "    <tr>\n",
       "      <th>2.0</th>\n",
       "      <td>ANDHRA PRADESH</td>\n",
       "      <td>EAST GODAVARI</td>\n",
       "      <td>81.0</td>\n",
       "      <td>19.0</td>\n",
       "      <td>10.78</td>\n",
       "    </tr>\n",
       "    <tr>\n",
       "      <th>3.0</th>\n",
       "      <td>ARUNACHAL PRADESH</td>\n",
       "      <td>PAPUM PARE</td>\n",
       "      <td>33.0</td>\n",
       "      <td>67.0</td>\n",
       "      <td>25.00</td>\n",
       "    </tr>\n",
       "    <tr>\n",
       "      <th>4.0</th>\n",
       "      <td>ASSAM</td>\n",
       "      <td>LAKHIMPUR</td>\n",
       "      <td>50.0</td>\n",
       "      <td>50.0</td>\n",
       "      <td>100.00</td>\n",
       "    </tr>\n",
       "    <tr>\n",
       "      <th>5.0</th>\n",
       "      <td>ASSAM</td>\n",
       "      <td>UDALGURI</td>\n",
       "      <td>50.0</td>\n",
       "      <td>50.0</td>\n",
       "      <td>50.00</td>\n",
       "    </tr>\n",
       "  </tbody>\n",
       "</table>\n",
       "</div>"
      ],
      "text/plain": [
       "                            State        District  \\\n",
       "S.No                                                \n",
       "1.0   ANDAMAN AND NICOBAR ISLANDS  SOUTH ANDAMANS   \n",
       "2.0                ANDHRA PRADESH   EAST GODAVARI   \n",
       "3.0             ARUNACHAL PRADESH      PAPUM PARE   \n",
       "4.0                         ASSAM       LAKHIMPUR   \n",
       "5.0                         ASSAM        UDALGURI   \n",
       "\n",
       "      % Contribution of Testing by RAT  % Contribution of Testing by RTPCR  \\\n",
       "S.No                                                                         \n",
       "1.0                               14.0                                86.0   \n",
       "2.0                               81.0                                19.0   \n",
       "3.0                               33.0                                67.0   \n",
       "4.0                               50.0                                50.0   \n",
       "5.0                               50.0                                50.0   \n",
       "\n",
       "      Positivity  \n",
       "S.No              \n",
       "1.0        14.29  \n",
       "2.0        10.78  \n",
       "3.0        25.00  \n",
       "4.0       100.00  \n",
       "5.0        50.00  "
      ]
     },
     "execution_count": 112,
     "metadata": {},
     "output_type": "execute_result"
    }
   ],
   "source": [
    "covid_sample_data_1.head()"
   ]
  },
  {
   "cell_type": "code",
   "execution_count": 113,
   "id": "7c8dd50c",
   "metadata": {},
   "outputs": [
    {
     "data": {
      "text/html": [
       "<div>\n",
       "<style scoped>\n",
       "    .dataframe tbody tr th:only-of-type {\n",
       "        vertical-align: middle;\n",
       "    }\n",
       "\n",
       "    .dataframe tbody tr th {\n",
       "        vertical-align: top;\n",
       "    }\n",
       "\n",
       "    .dataframe thead th {\n",
       "        text-align: right;\n",
       "    }\n",
       "</style>\n",
       "<table border=\"1\" class=\"dataframe\">\n",
       "  <thead>\n",
       "    <tr style=\"text-align: right;\">\n",
       "      <th></th>\n",
       "      <th>State</th>\n",
       "      <th>District</th>\n",
       "      <th>% Contribution of Testing by RAT</th>\n",
       "      <th>% Contribution of Testing by RTPCR</th>\n",
       "      <th>Positivity</th>\n",
       "    </tr>\n",
       "    <tr>\n",
       "      <th>S.No</th>\n",
       "      <th></th>\n",
       "      <th></th>\n",
       "      <th></th>\n",
       "      <th></th>\n",
       "      <th></th>\n",
       "    </tr>\n",
       "  </thead>\n",
       "  <tbody>\n",
       "    <tr>\n",
       "      <th>1.0</th>\n",
       "      <td>ANDAMAN AND NICOBAR ISLANDS</td>\n",
       "      <td>SOUTH ANDAMANS</td>\n",
       "      <td>14.0</td>\n",
       "      <td>86.0</td>\n",
       "      <td>14.29</td>\n",
       "    </tr>\n",
       "    <tr>\n",
       "      <th>2.0</th>\n",
       "      <td>ANDHRA PRADESH</td>\n",
       "      <td>EAST GODAVARI</td>\n",
       "      <td>81.0</td>\n",
       "      <td>19.0</td>\n",
       "      <td>10.78</td>\n",
       "    </tr>\n",
       "    <tr>\n",
       "      <th>3.0</th>\n",
       "      <td>ARUNACHAL PRADESH</td>\n",
       "      <td>PAPUM PARE</td>\n",
       "      <td>33.0</td>\n",
       "      <td>67.0</td>\n",
       "      <td>25.00</td>\n",
       "    </tr>\n",
       "    <tr>\n",
       "      <th>4.0</th>\n",
       "      <td>ASSAM</td>\n",
       "      <td>LAKHIMPUR</td>\n",
       "      <td>50.0</td>\n",
       "      <td>50.0</td>\n",
       "      <td>100.00</td>\n",
       "    </tr>\n",
       "    <tr>\n",
       "      <th>5.0</th>\n",
       "      <td>ASSAM</td>\n",
       "      <td>UDALGURI</td>\n",
       "      <td>50.0</td>\n",
       "      <td>50.0</td>\n",
       "      <td>50.00</td>\n",
       "    </tr>\n",
       "    <tr>\n",
       "      <th>...</th>\n",
       "      <td>...</td>\n",
       "      <td>...</td>\n",
       "      <td>...</td>\n",
       "      <td>...</td>\n",
       "      <td>...</td>\n",
       "    </tr>\n",
       "    <tr>\n",
       "      <th>143.0</th>\n",
       "      <td>WEST BENGAL</td>\n",
       "      <td>KOLKATA</td>\n",
       "      <td>9.0</td>\n",
       "      <td>91.0</td>\n",
       "      <td>13.15</td>\n",
       "    </tr>\n",
       "    <tr>\n",
       "      <th>144.0</th>\n",
       "      <td>WEST BENGAL</td>\n",
       "      <td>KALIMPONG</td>\n",
       "      <td>25.0</td>\n",
       "      <td>75.0</td>\n",
       "      <td>12.50</td>\n",
       "    </tr>\n",
       "    <tr>\n",
       "      <th>145.0</th>\n",
       "      <td>WEST BENGAL</td>\n",
       "      <td>DARJEELING</td>\n",
       "      <td>37.0</td>\n",
       "      <td>63.0</td>\n",
       "      <td>10.13</td>\n",
       "    </tr>\n",
       "    <tr>\n",
       "      <th>146.0</th>\n",
       "      <td>Grand Total</td>\n",
       "      <td>NaN</td>\n",
       "      <td>51.0</td>\n",
       "      <td>49.0</td>\n",
       "      <td>5.19</td>\n",
       "    </tr>\n",
       "    <tr>\n",
       "      <th>NaN</th>\n",
       "      <td>NaN</td>\n",
       "      <td>NaN</td>\n",
       "      <td>NaN</td>\n",
       "      <td>NaN</td>\n",
       "      <td>NaN</td>\n",
       "    </tr>\n",
       "  </tbody>\n",
       "</table>\n",
       "<p>147 rows × 5 columns</p>\n",
       "</div>"
      ],
      "text/plain": [
       "                             State        District  \\\n",
       "S.No                                                 \n",
       "1.0    ANDAMAN AND NICOBAR ISLANDS  SOUTH ANDAMANS   \n",
       "2.0                 ANDHRA PRADESH   EAST GODAVARI   \n",
       "3.0              ARUNACHAL PRADESH      PAPUM PARE   \n",
       "4.0                          ASSAM       LAKHIMPUR   \n",
       "5.0                          ASSAM        UDALGURI   \n",
       "...                            ...             ...   \n",
       "143.0                  WEST BENGAL         KOLKATA   \n",
       "144.0                  WEST BENGAL       KALIMPONG   \n",
       "145.0                  WEST BENGAL      DARJEELING   \n",
       "146.0                  Grand Total             NaN   \n",
       "NaN                            NaN             NaN   \n",
       "\n",
       "       % Contribution of Testing by RAT  % Contribution of Testing by RTPCR  \\\n",
       "S.No                                                                          \n",
       "1.0                                14.0                                86.0   \n",
       "2.0                                81.0                                19.0   \n",
       "3.0                                33.0                                67.0   \n",
       "4.0                                50.0                                50.0   \n",
       "5.0                                50.0                                50.0   \n",
       "...                                 ...                                 ...   \n",
       "143.0                               9.0                                91.0   \n",
       "144.0                              25.0                                75.0   \n",
       "145.0                              37.0                                63.0   \n",
       "146.0                              51.0                                49.0   \n",
       "NaN                                 NaN                                 NaN   \n",
       "\n",
       "       Positivity  \n",
       "S.No               \n",
       "1.0         14.29  \n",
       "2.0         10.78  \n",
       "3.0         25.00  \n",
       "4.0        100.00  \n",
       "5.0         50.00  \n",
       "...           ...  \n",
       "143.0       13.15  \n",
       "144.0       12.50  \n",
       "145.0       10.13  \n",
       "146.0        5.19  \n",
       "NaN           NaN  \n",
       "\n",
       "[147 rows x 5 columns]"
      ]
     },
     "execution_count": 113,
     "metadata": {},
     "output_type": "execute_result"
    }
   ],
   "source": [
    "covid_sample_data_1.sort_index()"
   ]
  },
  {
   "cell_type": "code",
   "execution_count": 116,
   "id": "f2d83090",
   "metadata": {},
   "outputs": [],
   "source": [
    "covid_sample_data_1 = covid_sample_data_1.dropna(axis=0)"
   ]
  },
  {
   "cell_type": "code",
   "execution_count": 132,
   "id": "ebbe89a9",
   "metadata": {},
   "outputs": [],
   "source": [
    "covid_sample_data_1 = covid_sample_data_1.sort_index(axis=1, ascending=False)"
   ]
  },
  {
   "cell_type": "code",
   "execution_count": 134,
   "id": "641c9cdd",
   "metadata": {},
   "outputs": [
    {
     "data": {
      "text/html": [
       "<div>\n",
       "<style scoped>\n",
       "    .dataframe tbody tr th:only-of-type {\n",
       "        vertical-align: middle;\n",
       "    }\n",
       "\n",
       "    .dataframe tbody tr th {\n",
       "        vertical-align: top;\n",
       "    }\n",
       "\n",
       "    .dataframe thead th {\n",
       "        text-align: right;\n",
       "    }\n",
       "</style>\n",
       "<table border=\"1\" class=\"dataframe\">\n",
       "  <thead>\n",
       "    <tr style=\"text-align: right;\">\n",
       "      <th></th>\n",
       "      <th>State</th>\n",
       "      <th>Positivity</th>\n",
       "      <th>District</th>\n",
       "      <th>% Contribution of Testing by RTPCR</th>\n",
       "      <th>% Contribution of Testing by RAT</th>\n",
       "    </tr>\n",
       "    <tr>\n",
       "      <th>S.No</th>\n",
       "      <th></th>\n",
       "      <th></th>\n",
       "      <th></th>\n",
       "      <th></th>\n",
       "      <th></th>\n",
       "    </tr>\n",
       "  </thead>\n",
       "  <tbody>\n",
       "    <tr>\n",
       "      <th>1.0</th>\n",
       "      <td>ANDAMAN AND NICOBAR ISLANDS</td>\n",
       "      <td>14.29</td>\n",
       "      <td>SOUTH ANDAMANS</td>\n",
       "      <td>86.0</td>\n",
       "      <td>14.0</td>\n",
       "    </tr>\n",
       "    <tr>\n",
       "      <th>2.0</th>\n",
       "      <td>ANDHRA PRADESH</td>\n",
       "      <td>10.78</td>\n",
       "      <td>EAST GODAVARI</td>\n",
       "      <td>19.0</td>\n",
       "      <td>81.0</td>\n",
       "    </tr>\n",
       "    <tr>\n",
       "      <th>3.0</th>\n",
       "      <td>ARUNACHAL PRADESH</td>\n",
       "      <td>25.00</td>\n",
       "      <td>PAPUM PARE</td>\n",
       "      <td>67.0</td>\n",
       "      <td>33.0</td>\n",
       "    </tr>\n",
       "    <tr>\n",
       "      <th>4.0</th>\n",
       "      <td>ASSAM</td>\n",
       "      <td>100.00</td>\n",
       "      <td>LAKHIMPUR</td>\n",
       "      <td>50.0</td>\n",
       "      <td>50.0</td>\n",
       "    </tr>\n",
       "    <tr>\n",
       "      <th>5.0</th>\n",
       "      <td>ASSAM</td>\n",
       "      <td>50.00</td>\n",
       "      <td>UDALGURI</td>\n",
       "      <td>50.0</td>\n",
       "      <td>50.0</td>\n",
       "    </tr>\n",
       "    <tr>\n",
       "      <th>6.0</th>\n",
       "      <td>ASSAM</td>\n",
       "      <td>16.67</td>\n",
       "      <td>GOALPARA</td>\n",
       "      <td>17.0</td>\n",
       "      <td>83.0</td>\n",
       "    </tr>\n",
       "    <tr>\n",
       "      <th>7.0</th>\n",
       "      <td>ASSAM</td>\n",
       "      <td>11.43</td>\n",
       "      <td>DARRANG</td>\n",
       "      <td>0.0</td>\n",
       "      <td>100.0</td>\n",
       "    </tr>\n",
       "    <tr>\n",
       "      <th>8.0</th>\n",
       "      <td>CHANDIGARH</td>\n",
       "      <td>11.31</td>\n",
       "      <td>CHANDIGARH</td>\n",
       "      <td>76.0</td>\n",
       "      <td>24.0</td>\n",
       "    </tr>\n",
       "    <tr>\n",
       "      <th>9.0</th>\n",
       "      <td>CHHATTISGARH</td>\n",
       "      <td>26.76</td>\n",
       "      <td>BEMETARA</td>\n",
       "      <td>2.0</td>\n",
       "      <td>98.0</td>\n",
       "    </tr>\n",
       "    <tr>\n",
       "      <th>10.0</th>\n",
       "      <td>CHHATTISGARH</td>\n",
       "      <td>19.34</td>\n",
       "      <td>GAURELLA PENDRA MARWAHI</td>\n",
       "      <td>62.0</td>\n",
       "      <td>38.0</td>\n",
       "    </tr>\n",
       "    <tr>\n",
       "      <th>11.0</th>\n",
       "      <td>CHHATTISGARH</td>\n",
       "      <td>16.72</td>\n",
       "      <td>SURGUJA</td>\n",
       "      <td>20.0</td>\n",
       "      <td>80.0</td>\n",
       "    </tr>\n",
       "    <tr>\n",
       "      <th>12.0</th>\n",
       "      <td>CHHATTISGARH</td>\n",
       "      <td>16.23</td>\n",
       "      <td>DURG</td>\n",
       "      <td>32.0</td>\n",
       "      <td>68.0</td>\n",
       "    </tr>\n",
       "    <tr>\n",
       "      <th>13.0</th>\n",
       "      <td>CHHATTISGARH</td>\n",
       "      <td>13.21</td>\n",
       "      <td>SURAJPUR</td>\n",
       "      <td>4.0</td>\n",
       "      <td>96.0</td>\n",
       "    </tr>\n",
       "    <tr>\n",
       "      <th>14.0</th>\n",
       "      <td>CHHATTISGARH</td>\n",
       "      <td>12.70</td>\n",
       "      <td>KANKER</td>\n",
       "      <td>3.0</td>\n",
       "      <td>97.0</td>\n",
       "    </tr>\n",
       "    <tr>\n",
       "      <th>15.0</th>\n",
       "      <td>CHHATTISGARH</td>\n",
       "      <td>12.33</td>\n",
       "      <td>RAJNANDGAON</td>\n",
       "      <td>3.0</td>\n",
       "      <td>97.0</td>\n",
       "    </tr>\n",
       "    <tr>\n",
       "      <th>16.0</th>\n",
       "      <td>CHHATTISGARH</td>\n",
       "      <td>10.96</td>\n",
       "      <td>BIJAPUR</td>\n",
       "      <td>0.0</td>\n",
       "      <td>100.0</td>\n",
       "    </tr>\n",
       "    <tr>\n",
       "      <th>17.0</th>\n",
       "      <td>CHHATTISGARH</td>\n",
       "      <td>10.62</td>\n",
       "      <td>GARIYABAND</td>\n",
       "      <td>1.0</td>\n",
       "      <td>99.0</td>\n",
       "    </tr>\n",
       "    <tr>\n",
       "      <th>18.0</th>\n",
       "      <td>CHHATTISGARH</td>\n",
       "      <td>10.55</td>\n",
       "      <td>MAHASAMUND</td>\n",
       "      <td>4.0</td>\n",
       "      <td>96.0</td>\n",
       "    </tr>\n",
       "    <tr>\n",
       "      <th>19.0</th>\n",
       "      <td>CHHATTISGARH</td>\n",
       "      <td>10.24</td>\n",
       "      <td>DANTEWADA</td>\n",
       "      <td>7.0</td>\n",
       "      <td>93.0</td>\n",
       "    </tr>\n",
       "    <tr>\n",
       "      <th>20.0</th>\n",
       "      <td>DELHI</td>\n",
       "      <td>37.08</td>\n",
       "      <td>EAST</td>\n",
       "      <td>78.0</td>\n",
       "      <td>22.0</td>\n",
       "    </tr>\n",
       "    <tr>\n",
       "      <th>21.0</th>\n",
       "      <td>DELHI</td>\n",
       "      <td>32.48</td>\n",
       "      <td>NORTH WEST</td>\n",
       "      <td>74.0</td>\n",
       "      <td>26.0</td>\n",
       "    </tr>\n",
       "    <tr>\n",
       "      <th>22.0</th>\n",
       "      <td>DELHI</td>\n",
       "      <td>31.93</td>\n",
       "      <td>CENTRAL</td>\n",
       "      <td>79.0</td>\n",
       "      <td>21.0</td>\n",
       "    </tr>\n",
       "    <tr>\n",
       "      <th>23.0</th>\n",
       "      <td>DELHI</td>\n",
       "      <td>31.82</td>\n",
       "      <td>SOUTH</td>\n",
       "      <td>82.0</td>\n",
       "      <td>18.0</td>\n",
       "    </tr>\n",
       "    <tr>\n",
       "      <th>24.0</th>\n",
       "      <td>DELHI</td>\n",
       "      <td>28.89</td>\n",
       "      <td>WEST</td>\n",
       "      <td>65.0</td>\n",
       "      <td>35.0</td>\n",
       "    </tr>\n",
       "    <tr>\n",
       "      <th>25.0</th>\n",
       "      <td>DELHI</td>\n",
       "      <td>28.13</td>\n",
       "      <td>SOUTH EAST</td>\n",
       "      <td>54.0</td>\n",
       "      <td>46.0</td>\n",
       "    </tr>\n",
       "    <tr>\n",
       "      <th>26.0</th>\n",
       "      <td>DELHI</td>\n",
       "      <td>27.43</td>\n",
       "      <td>NEW DELHI</td>\n",
       "      <td>88.0</td>\n",
       "      <td>12.0</td>\n",
       "    </tr>\n",
       "    <tr>\n",
       "      <th>27.0</th>\n",
       "      <td>DELHI</td>\n",
       "      <td>25.36</td>\n",
       "      <td>NORTH</td>\n",
       "      <td>52.0</td>\n",
       "      <td>48.0</td>\n",
       "    </tr>\n",
       "    <tr>\n",
       "      <th>28.0</th>\n",
       "      <td>DELHI</td>\n",
       "      <td>20.44</td>\n",
       "      <td>SHAHDARA</td>\n",
       "      <td>57.0</td>\n",
       "      <td>43.0</td>\n",
       "    </tr>\n",
       "    <tr>\n",
       "      <th>29.0</th>\n",
       "      <td>DELHI</td>\n",
       "      <td>18.53</td>\n",
       "      <td>SOUTH WEST</td>\n",
       "      <td>64.0</td>\n",
       "      <td>36.0</td>\n",
       "    </tr>\n",
       "    <tr>\n",
       "      <th>30.0</th>\n",
       "      <td>DELHI</td>\n",
       "      <td>16.19</td>\n",
       "      <td>NORTH EAST</td>\n",
       "      <td>43.0</td>\n",
       "      <td>57.0</td>\n",
       "    </tr>\n",
       "    <tr>\n",
       "      <th>31.0</th>\n",
       "      <td>GOA</td>\n",
       "      <td>19.67</td>\n",
       "      <td>SOUTH GOA</td>\n",
       "      <td>67.0</td>\n",
       "      <td>33.0</td>\n",
       "    </tr>\n",
       "    <tr>\n",
       "      <th>32.0</th>\n",
       "      <td>GOA</td>\n",
       "      <td>13.49</td>\n",
       "      <td>NORTH GOA</td>\n",
       "      <td>71.0</td>\n",
       "      <td>29.0</td>\n",
       "    </tr>\n",
       "    <tr>\n",
       "      <th>33.0</th>\n",
       "      <td>GUJARAT</td>\n",
       "      <td>10.97</td>\n",
       "      <td>AHMADABAD</td>\n",
       "      <td>76.0</td>\n",
       "      <td>24.0</td>\n",
       "    </tr>\n",
       "    <tr>\n",
       "      <th>34.0</th>\n",
       "      <td>HARYANA</td>\n",
       "      <td>45.64</td>\n",
       "      <td>YAMUNANAGAR</td>\n",
       "      <td>97.0</td>\n",
       "      <td>3.0</td>\n",
       "    </tr>\n",
       "    <tr>\n",
       "      <th>35.0</th>\n",
       "      <td>HARYANA</td>\n",
       "      <td>24.92</td>\n",
       "      <td>GURUGRAM</td>\n",
       "      <td>75.0</td>\n",
       "      <td>25.0</td>\n",
       "    </tr>\n",
       "    <tr>\n",
       "      <th>36.0</th>\n",
       "      <td>HARYANA</td>\n",
       "      <td>24.08</td>\n",
       "      <td>SONIPAT</td>\n",
       "      <td>94.0</td>\n",
       "      <td>6.0</td>\n",
       "    </tr>\n",
       "    <tr>\n",
       "      <th>37.0</th>\n",
       "      <td>HARYANA</td>\n",
       "      <td>22.27</td>\n",
       "      <td>REWARI</td>\n",
       "      <td>59.0</td>\n",
       "      <td>41.0</td>\n",
       "    </tr>\n",
       "    <tr>\n",
       "      <th>38.0</th>\n",
       "      <td>HARYANA</td>\n",
       "      <td>21.16</td>\n",
       "      <td>ROHTAK</td>\n",
       "      <td>86.0</td>\n",
       "      <td>14.0</td>\n",
       "    </tr>\n",
       "    <tr>\n",
       "      <th>39.0</th>\n",
       "      <td>HARYANA</td>\n",
       "      <td>20.61</td>\n",
       "      <td>FARIDABAD</td>\n",
       "      <td>60.0</td>\n",
       "      <td>40.0</td>\n",
       "    </tr>\n",
       "    <tr>\n",
       "      <th>40.0</th>\n",
       "      <td>HARYANA</td>\n",
       "      <td>20.06</td>\n",
       "      <td>HISAR</td>\n",
       "      <td>39.0</td>\n",
       "      <td>61.0</td>\n",
       "    </tr>\n",
       "    <tr>\n",
       "      <th>41.0</th>\n",
       "      <td>HARYANA</td>\n",
       "      <td>19.16</td>\n",
       "      <td>PANCHKULA</td>\n",
       "      <td>94.0</td>\n",
       "      <td>6.0</td>\n",
       "    </tr>\n",
       "    <tr>\n",
       "      <th>42.0</th>\n",
       "      <td>HARYANA</td>\n",
       "      <td>12.45</td>\n",
       "      <td>JIND</td>\n",
       "      <td>95.0</td>\n",
       "      <td>5.0</td>\n",
       "    </tr>\n",
       "    <tr>\n",
       "      <th>43.0</th>\n",
       "      <td>HARYANA</td>\n",
       "      <td>11.70</td>\n",
       "      <td>CHARKI DADRI</td>\n",
       "      <td>99.0</td>\n",
       "      <td>1.0</td>\n",
       "    </tr>\n",
       "    <tr>\n",
       "      <th>44.0</th>\n",
       "      <td>HIMACHAL PRADESH</td>\n",
       "      <td>26.18</td>\n",
       "      <td>SIRMAUR</td>\n",
       "      <td>55.0</td>\n",
       "      <td>45.0</td>\n",
       "    </tr>\n",
       "    <tr>\n",
       "      <th>45.0</th>\n",
       "      <td>HIMACHAL PRADESH</td>\n",
       "      <td>25.17</td>\n",
       "      <td>UNA</td>\n",
       "      <td>67.0</td>\n",
       "      <td>33.0</td>\n",
       "    </tr>\n",
       "    <tr>\n",
       "      <th>46.0</th>\n",
       "      <td>HIMACHAL PRADESH</td>\n",
       "      <td>20.61</td>\n",
       "      <td>HAMIRPUR</td>\n",
       "      <td>15.0</td>\n",
       "      <td>85.0</td>\n",
       "    </tr>\n",
       "    <tr>\n",
       "      <th>47.0</th>\n",
       "      <td>HIMACHAL PRADESH</td>\n",
       "      <td>18.90</td>\n",
       "      <td>BILASPUR</td>\n",
       "      <td>15.0</td>\n",
       "      <td>85.0</td>\n",
       "    </tr>\n",
       "    <tr>\n",
       "      <th>48.0</th>\n",
       "      <td>HIMACHAL PRADESH</td>\n",
       "      <td>15.63</td>\n",
       "      <td>KANGRA</td>\n",
       "      <td>18.0</td>\n",
       "      <td>82.0</td>\n",
       "    </tr>\n",
       "    <tr>\n",
       "      <th>49.0</th>\n",
       "      <td>HIMACHAL PRADESH</td>\n",
       "      <td>11.86</td>\n",
       "      <td>LAHUL AND SPITI</td>\n",
       "      <td>0.0</td>\n",
       "      <td>100.0</td>\n",
       "    </tr>\n",
       "    <tr>\n",
       "      <th>50.0</th>\n",
       "      <td>HIMACHAL PRADESH</td>\n",
       "      <td>11.51</td>\n",
       "      <td>KINNAUR</td>\n",
       "      <td>0.0</td>\n",
       "      <td>100.0</td>\n",
       "    </tr>\n",
       "  </tbody>\n",
       "</table>\n",
       "</div>"
      ],
      "text/plain": [
       "                            State  Positivity                 District  \\\n",
       "S.No                                                                     \n",
       "1.0   ANDAMAN AND NICOBAR ISLANDS       14.29           SOUTH ANDAMANS   \n",
       "2.0                ANDHRA PRADESH       10.78            EAST GODAVARI   \n",
       "3.0             ARUNACHAL PRADESH       25.00               PAPUM PARE   \n",
       "4.0                         ASSAM      100.00                LAKHIMPUR   \n",
       "5.0                         ASSAM       50.00                 UDALGURI   \n",
       "6.0                         ASSAM       16.67                 GOALPARA   \n",
       "7.0                         ASSAM       11.43                  DARRANG   \n",
       "8.0                    CHANDIGARH       11.31               CHANDIGARH   \n",
       "9.0                  CHHATTISGARH       26.76                 BEMETARA   \n",
       "10.0                 CHHATTISGARH       19.34  GAURELLA PENDRA MARWAHI   \n",
       "11.0                 CHHATTISGARH       16.72                  SURGUJA   \n",
       "12.0                 CHHATTISGARH       16.23                     DURG   \n",
       "13.0                 CHHATTISGARH       13.21                 SURAJPUR   \n",
       "14.0                 CHHATTISGARH       12.70                   KANKER   \n",
       "15.0                 CHHATTISGARH       12.33              RAJNANDGAON   \n",
       "16.0                 CHHATTISGARH       10.96                  BIJAPUR   \n",
       "17.0                 CHHATTISGARH       10.62               GARIYABAND   \n",
       "18.0                 CHHATTISGARH       10.55               MAHASAMUND   \n",
       "19.0                 CHHATTISGARH       10.24                DANTEWADA   \n",
       "20.0                        DELHI       37.08                     EAST   \n",
       "21.0                        DELHI       32.48               NORTH WEST   \n",
       "22.0                        DELHI       31.93                  CENTRAL   \n",
       "23.0                        DELHI       31.82                    SOUTH   \n",
       "24.0                        DELHI       28.89                     WEST   \n",
       "25.0                        DELHI       28.13               SOUTH EAST   \n",
       "26.0                        DELHI       27.43                NEW DELHI   \n",
       "27.0                        DELHI       25.36                    NORTH   \n",
       "28.0                        DELHI       20.44                 SHAHDARA   \n",
       "29.0                        DELHI       18.53               SOUTH WEST   \n",
       "30.0                        DELHI       16.19               NORTH EAST   \n",
       "31.0                          GOA       19.67                SOUTH GOA   \n",
       "32.0                          GOA       13.49                NORTH GOA   \n",
       "33.0                      GUJARAT       10.97                AHMADABAD   \n",
       "34.0                      HARYANA       45.64              YAMUNANAGAR   \n",
       "35.0                      HARYANA       24.92                 GURUGRAM   \n",
       "36.0                      HARYANA       24.08                  SONIPAT   \n",
       "37.0                      HARYANA       22.27                   REWARI   \n",
       "38.0                      HARYANA       21.16                   ROHTAK   \n",
       "39.0                      HARYANA       20.61                FARIDABAD   \n",
       "40.0                      HARYANA       20.06                    HISAR   \n",
       "41.0                      HARYANA       19.16                PANCHKULA   \n",
       "42.0                      HARYANA       12.45                     JIND   \n",
       "43.0                      HARYANA       11.70             CHARKI DADRI   \n",
       "44.0             HIMACHAL PRADESH       26.18                  SIRMAUR   \n",
       "45.0             HIMACHAL PRADESH       25.17                      UNA   \n",
       "46.0             HIMACHAL PRADESH       20.61                 HAMIRPUR   \n",
       "47.0             HIMACHAL PRADESH       18.90                 BILASPUR   \n",
       "48.0             HIMACHAL PRADESH       15.63                   KANGRA   \n",
       "49.0             HIMACHAL PRADESH       11.86          LAHUL AND SPITI   \n",
       "50.0             HIMACHAL PRADESH       11.51                  KINNAUR   \n",
       "\n",
       "      % Contribution of Testing by RTPCR  % Contribution of Testing by RAT  \n",
       "S.No                                                                        \n",
       "1.0                                 86.0                              14.0  \n",
       "2.0                                 19.0                              81.0  \n",
       "3.0                                 67.0                              33.0  \n",
       "4.0                                 50.0                              50.0  \n",
       "5.0                                 50.0                              50.0  \n",
       "6.0                                 17.0                              83.0  \n",
       "7.0                                  0.0                             100.0  \n",
       "8.0                                 76.0                              24.0  \n",
       "9.0                                  2.0                              98.0  \n",
       "10.0                                62.0                              38.0  \n",
       "11.0                                20.0                              80.0  \n",
       "12.0                                32.0                              68.0  \n",
       "13.0                                 4.0                              96.0  \n",
       "14.0                                 3.0                              97.0  \n",
       "15.0                                 3.0                              97.0  \n",
       "16.0                                 0.0                             100.0  \n",
       "17.0                                 1.0                              99.0  \n",
       "18.0                                 4.0                              96.0  \n",
       "19.0                                 7.0                              93.0  \n",
       "20.0                                78.0                              22.0  \n",
       "21.0                                74.0                              26.0  \n",
       "22.0                                79.0                              21.0  \n",
       "23.0                                82.0                              18.0  \n",
       "24.0                                65.0                              35.0  \n",
       "25.0                                54.0                              46.0  \n",
       "26.0                                88.0                              12.0  \n",
       "27.0                                52.0                              48.0  \n",
       "28.0                                57.0                              43.0  \n",
       "29.0                                64.0                              36.0  \n",
       "30.0                                43.0                              57.0  \n",
       "31.0                                67.0                              33.0  \n",
       "32.0                                71.0                              29.0  \n",
       "33.0                                76.0                              24.0  \n",
       "34.0                                97.0                               3.0  \n",
       "35.0                                75.0                              25.0  \n",
       "36.0                                94.0                               6.0  \n",
       "37.0                                59.0                              41.0  \n",
       "38.0                                86.0                              14.0  \n",
       "39.0                                60.0                              40.0  \n",
       "40.0                                39.0                              61.0  \n",
       "41.0                                94.0                               6.0  \n",
       "42.0                                95.0                               5.0  \n",
       "43.0                                99.0                               1.0  \n",
       "44.0                                55.0                              45.0  \n",
       "45.0                                67.0                              33.0  \n",
       "46.0                                15.0                              85.0  \n",
       "47.0                                15.0                              85.0  \n",
       "48.0                                18.0                              82.0  \n",
       "49.0                                 0.0                             100.0  \n",
       "50.0                                 0.0                             100.0  "
      ]
     },
     "execution_count": 134,
     "metadata": {},
     "output_type": "execute_result"
    }
   ],
   "source": [
    "covid_sample_data_1[0:50]"
   ]
  },
  {
   "cell_type": "code",
   "execution_count": 135,
   "id": "0989ad70",
   "metadata": {},
   "outputs": [
    {
     "data": {
      "text/plain": [
       "True"
      ]
     },
     "execution_count": 135,
     "metadata": {},
     "output_type": "execute_result"
    }
   ],
   "source": [
    "covid_sample_data_1.index.is_unique"
   ]
  },
  {
   "cell_type": "code",
   "execution_count": 136,
   "id": "4ce94688",
   "metadata": {},
   "outputs": [
    {
     "data": {
      "text/plain": [
       "State                                 ANDAMAN AND NICOBAR ISLANDSANDHRA PRADESHARUNA...\n",
       "Positivity                                                                      2931.58\n",
       "District                              SOUTH ANDAMANSEAST GODAVARIPAPUM PARELAKHIMPUR...\n",
       "% Contribution of Testing by RTPCR                                               8040.0\n",
       "% Contribution of Testing by RAT                                                 6460.0\n",
       "dtype: object"
      ]
     },
     "execution_count": 136,
     "metadata": {},
     "output_type": "execute_result"
    }
   ],
   "source": [
    "covid_sample_data_1.sum()"
   ]
  },
  {
   "cell_type": "code",
   "execution_count": 140,
   "id": "2d83106a",
   "metadata": {},
   "outputs": [
    {
     "data": {
      "text/plain": [
       "<bound method DataFrame.idxmax of                              State  Positivity        District  \\\n",
       "S.No                                                             \n",
       "1.0    ANDAMAN AND NICOBAR ISLANDS       14.29  SOUTH ANDAMANS   \n",
       "2.0                 ANDHRA PRADESH       10.78   EAST GODAVARI   \n",
       "3.0              ARUNACHAL PRADESH       25.00      PAPUM PARE   \n",
       "4.0                          ASSAM      100.00       LAKHIMPUR   \n",
       "5.0                          ASSAM       50.00        UDALGURI   \n",
       "...                            ...         ...             ...   \n",
       "141.0                  UTTARAKHAND       11.49   PAURI GARHWAL   \n",
       "142.0                  UTTARAKHAND       10.95          ALMORA   \n",
       "143.0                  WEST BENGAL       13.15         KOLKATA   \n",
       "144.0                  WEST BENGAL       12.50       KALIMPONG   \n",
       "145.0                  WEST BENGAL       10.13      DARJEELING   \n",
       "\n",
       "       % Contribution of Testing by RTPCR  % Contribution of Testing by RAT  \n",
       "S.No                                                                         \n",
       "1.0                                  86.0                              14.0  \n",
       "2.0                                  19.0                              81.0  \n",
       "3.0                                  67.0                              33.0  \n",
       "4.0                                  50.0                              50.0  \n",
       "5.0                                  50.0                              50.0  \n",
       "...                                   ...                               ...  \n",
       "141.0                                28.0                              72.0  \n",
       "142.0                                45.0                              55.0  \n",
       "143.0                                91.0                               9.0  \n",
       "144.0                                75.0                              25.0  \n",
       "145.0                                63.0                              37.0  \n",
       "\n",
       "[145 rows x 5 columns]>"
      ]
     },
     "execution_count": 140,
     "metadata": {},
     "output_type": "execute_result"
    }
   ],
   "source": [
    "covid_sample_data_1.idxmax"
   ]
  },
  {
   "cell_type": "code",
   "execution_count": 141,
   "id": "c5c5e111",
   "metadata": {},
   "outputs": [
    {
     "data": {
      "text/html": [
       "<div>\n",
       "<style scoped>\n",
       "    .dataframe tbody tr th:only-of-type {\n",
       "        vertical-align: middle;\n",
       "    }\n",
       "\n",
       "    .dataframe tbody tr th {\n",
       "        vertical-align: top;\n",
       "    }\n",
       "\n",
       "    .dataframe thead th {\n",
       "        text-align: right;\n",
       "    }\n",
       "</style>\n",
       "<table border=\"1\" class=\"dataframe\">\n",
       "  <thead>\n",
       "    <tr style=\"text-align: right;\">\n",
       "      <th></th>\n",
       "      <th>Positivity</th>\n",
       "      <th>% Contribution of Testing by RTPCR</th>\n",
       "      <th>% Contribution of Testing by RAT</th>\n",
       "    </tr>\n",
       "  </thead>\n",
       "  <tbody>\n",
       "    <tr>\n",
       "      <th>count</th>\n",
       "      <td>145.000000</td>\n",
       "      <td>145.000000</td>\n",
       "      <td>145.000000</td>\n",
       "    </tr>\n",
       "    <tr>\n",
       "      <th>mean</th>\n",
       "      <td>20.217793</td>\n",
       "      <td>55.448276</td>\n",
       "      <td>44.551724</td>\n",
       "    </tr>\n",
       "    <tr>\n",
       "      <th>std</th>\n",
       "      <td>11.667242</td>\n",
       "      <td>32.037290</td>\n",
       "      <td>32.037290</td>\n",
       "    </tr>\n",
       "    <tr>\n",
       "      <th>min</th>\n",
       "      <td>10.000000</td>\n",
       "      <td>0.000000</td>\n",
       "      <td>0.000000</td>\n",
       "    </tr>\n",
       "    <tr>\n",
       "      <th>25%</th>\n",
       "      <td>11.800000</td>\n",
       "      <td>32.000000</td>\n",
       "      <td>18.000000</td>\n",
       "    </tr>\n",
       "    <tr>\n",
       "      <th>50%</th>\n",
       "      <td>16.670000</td>\n",
       "      <td>57.000000</td>\n",
       "      <td>43.000000</td>\n",
       "    </tr>\n",
       "    <tr>\n",
       "      <th>75%</th>\n",
       "      <td>25.000000</td>\n",
       "      <td>82.000000</td>\n",
       "      <td>68.000000</td>\n",
       "    </tr>\n",
       "    <tr>\n",
       "      <th>max</th>\n",
       "      <td>100.000000</td>\n",
       "      <td>100.000000</td>\n",
       "      <td>100.000000</td>\n",
       "    </tr>\n",
       "  </tbody>\n",
       "</table>\n",
       "</div>"
      ],
      "text/plain": [
       "       Positivity  % Contribution of Testing by RTPCR  \\\n",
       "count  145.000000                          145.000000   \n",
       "mean    20.217793                           55.448276   \n",
       "std     11.667242                           32.037290   \n",
       "min     10.000000                            0.000000   \n",
       "25%     11.800000                           32.000000   \n",
       "50%     16.670000                           57.000000   \n",
       "75%     25.000000                           82.000000   \n",
       "max    100.000000                          100.000000   \n",
       "\n",
       "       % Contribution of Testing by RAT  \n",
       "count                        145.000000  \n",
       "mean                          44.551724  \n",
       "std                           32.037290  \n",
       "min                            0.000000  \n",
       "25%                           18.000000  \n",
       "50%                           43.000000  \n",
       "75%                           68.000000  \n",
       "max                          100.000000  "
      ]
     },
     "execution_count": 141,
     "metadata": {},
     "output_type": "execute_result"
    }
   ],
   "source": [
    "covid_sample_data_1.describe()"
   ]
  },
  {
   "cell_type": "code",
   "execution_count": 142,
   "id": "cd2559d3",
   "metadata": {},
   "outputs": [
    {
     "data": {
      "text/html": [
       "<div>\n",
       "<style scoped>\n",
       "    .dataframe tbody tr th:only-of-type {\n",
       "        vertical-align: middle;\n",
       "    }\n",
       "\n",
       "    .dataframe tbody tr th {\n",
       "        vertical-align: top;\n",
       "    }\n",
       "\n",
       "    .dataframe thead th {\n",
       "        text-align: right;\n",
       "    }\n",
       "</style>\n",
       "<table border=\"1\" class=\"dataframe\">\n",
       "  <thead>\n",
       "    <tr style=\"text-align: right;\">\n",
       "      <th></th>\n",
       "      <th>Positivity</th>\n",
       "      <th>% Contribution of Testing by RTPCR</th>\n",
       "      <th>% Contribution of Testing by RAT</th>\n",
       "    </tr>\n",
       "  </thead>\n",
       "  <tbody>\n",
       "    <tr>\n",
       "      <th>Positivity</th>\n",
       "      <td>1.000000</td>\n",
       "      <td>-0.030696</td>\n",
       "      <td>0.030696</td>\n",
       "    </tr>\n",
       "    <tr>\n",
       "      <th>% Contribution of Testing by RTPCR</th>\n",
       "      <td>-0.030696</td>\n",
       "      <td>1.000000</td>\n",
       "      <td>-1.000000</td>\n",
       "    </tr>\n",
       "    <tr>\n",
       "      <th>% Contribution of Testing by RAT</th>\n",
       "      <td>0.030696</td>\n",
       "      <td>-1.000000</td>\n",
       "      <td>1.000000</td>\n",
       "    </tr>\n",
       "  </tbody>\n",
       "</table>\n",
       "</div>"
      ],
      "text/plain": [
       "                                    Positivity  \\\n",
       "Positivity                            1.000000   \n",
       "% Contribution of Testing by RTPCR   -0.030696   \n",
       "% Contribution of Testing by RAT      0.030696   \n",
       "\n",
       "                                    % Contribution of Testing by RTPCR  \\\n",
       "Positivity                                                   -0.030696   \n",
       "% Contribution of Testing by RTPCR                            1.000000   \n",
       "% Contribution of Testing by RAT                             -1.000000   \n",
       "\n",
       "                                    % Contribution of Testing by RAT  \n",
       "Positivity                                                  0.030696  \n",
       "% Contribution of Testing by RTPCR                         -1.000000  \n",
       "% Contribution of Testing by RAT                            1.000000  "
      ]
     },
     "execution_count": 142,
     "metadata": {},
     "output_type": "execute_result"
    }
   ],
   "source": [
    "covid_sample_data_1.corr()"
   ]
  },
  {
   "cell_type": "code",
   "execution_count": 143,
   "id": "805d4878",
   "metadata": {},
   "outputs": [
    {
     "data": {
      "text/html": [
       "<div>\n",
       "<style scoped>\n",
       "    .dataframe tbody tr th:only-of-type {\n",
       "        vertical-align: middle;\n",
       "    }\n",
       "\n",
       "    .dataframe tbody tr th {\n",
       "        vertical-align: top;\n",
       "    }\n",
       "\n",
       "    .dataframe thead th {\n",
       "        text-align: right;\n",
       "    }\n",
       "</style>\n",
       "<table border=\"1\" class=\"dataframe\">\n",
       "  <thead>\n",
       "    <tr style=\"text-align: right;\">\n",
       "      <th></th>\n",
       "      <th>Positivity</th>\n",
       "      <th>% Contribution of Testing by RTPCR</th>\n",
       "      <th>% Contribution of Testing by RAT</th>\n",
       "    </tr>\n",
       "  </thead>\n",
       "  <tbody>\n",
       "    <tr>\n",
       "      <th>Positivity</th>\n",
       "      <td>136.124528</td>\n",
       "      <td>-11.473795</td>\n",
       "      <td>11.473795</td>\n",
       "    </tr>\n",
       "    <tr>\n",
       "      <th>% Contribution of Testing by RTPCR</th>\n",
       "      <td>-11.473795</td>\n",
       "      <td>1026.387931</td>\n",
       "      <td>-1026.387931</td>\n",
       "    </tr>\n",
       "    <tr>\n",
       "      <th>% Contribution of Testing by RAT</th>\n",
       "      <td>11.473795</td>\n",
       "      <td>-1026.387931</td>\n",
       "      <td>1026.387931</td>\n",
       "    </tr>\n",
       "  </tbody>\n",
       "</table>\n",
       "</div>"
      ],
      "text/plain": [
       "                                    Positivity  \\\n",
       "Positivity                          136.124528   \n",
       "% Contribution of Testing by RTPCR  -11.473795   \n",
       "% Contribution of Testing by RAT     11.473795   \n",
       "\n",
       "                                    % Contribution of Testing by RTPCR  \\\n",
       "Positivity                                                  -11.473795   \n",
       "% Contribution of Testing by RTPCR                         1026.387931   \n",
       "% Contribution of Testing by RAT                          -1026.387931   \n",
       "\n",
       "                                    % Contribution of Testing by RAT  \n",
       "Positivity                                                 11.473795  \n",
       "% Contribution of Testing by RTPCR                      -1026.387931  \n",
       "% Contribution of Testing by RAT                         1026.387931  "
      ]
     },
     "execution_count": 143,
     "metadata": {},
     "output_type": "execute_result"
    }
   ],
   "source": [
    "covid_sample_data_1.cov()"
   ]
  },
  {
   "cell_type": "code",
   "execution_count": null,
   "id": "770b8563",
   "metadata": {},
   "outputs": [],
   "source": []
  }
 ],
 "metadata": {
  "kernelspec": {
   "display_name": "Python 3 (ipykernel)",
   "language": "python",
   "name": "python3"
  },
  "language_info": {
   "codemirror_mode": {
    "name": "ipython",
    "version": 3
   },
   "file_extension": ".py",
   "mimetype": "text/x-python",
   "name": "python",
   "nbconvert_exporter": "python",
   "pygments_lexer": "ipython3",
   "version": "3.9.7"
  }
 },
 "nbformat": 4,
 "nbformat_minor": 5
}
