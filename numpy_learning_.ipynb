{
 "cells": [
  {
   "cell_type": "markdown",
   "id": "f3444669",
   "metadata": {},
   "source": [
    "### Numpy Practice"
   ]
  },
  {
   "cell_type": "markdown",
   "id": "1f9f1852",
   "metadata": {},
   "source": [
    "#### the array object is numpy is called ndarray"
   ]
  },
  {
   "cell_type": "code",
   "execution_count": 1,
   "id": "c3640a35",
   "metadata": {},
   "outputs": [],
   "source": [
    "import numpy as np"
   ]
  },
  {
   "cell_type": "code",
   "execution_count": 2,
   "id": "5e6856e1",
   "metadata": {},
   "outputs": [
    {
     "data": {
      "text/plain": [
       "array([   842,    932, 687432,  93274,     10])"
      ]
     },
     "execution_count": 2,
     "metadata": {},
     "output_type": "execute_result"
    }
   ],
   "source": [
    "sample_array = np.array([842, 932, 687432, 93274, 10])\n",
    "sample_array"
   ]
  },
  {
   "cell_type": "code",
   "execution_count": 3,
   "id": "4c7b8d4f",
   "metadata": {},
   "outputs": [
    {
     "data": {
      "text/plain": [
       "[842, 932, 687432, 93274, 10]"
      ]
     },
     "execution_count": 3,
     "metadata": {},
     "output_type": "execute_result"
    }
   ],
   "source": [
    "sample_array_list = [842, 932, 687432, 93274, 10]\n",
    "sample_array_list"
   ]
  },
  {
   "cell_type": "code",
   "execution_count": 4,
   "id": "12bd7656",
   "metadata": {},
   "outputs": [
    {
     "name": "stdout",
     "output_type": "stream",
     "text": [
      "Matches\n"
     ]
    }
   ],
   "source": [
    "for i in range(len(sample_array)):\n",
    "    if sample_array[i] == sample_array_list[i]:\n",
    "        pass\n",
    "    else:\n",
    "        print(\"not same\")\n",
    "print(\"Matches\")"
   ]
  },
  {
   "cell_type": "code",
   "execution_count": 5,
   "id": "57095fb5",
   "metadata": {},
   "outputs": [
    {
     "name": "stdout",
     "output_type": "stream",
     "text": [
      "second_order_tensor [[1 2 3]\n",
      " [4 5 6]]\n",
      "number of dimensions 2\n",
      "third_order_tensor [[[ 10  20  30]\n",
      "  [ 40  50  60]]\n",
      "\n",
      " [[ 70  80  90]\n",
      "  [100 110 120]]]\n",
      "number of dimensions 3\n"
     ]
    }
   ],
   "source": [
    "second_order_tensor = np.array([[1,2,3], [4,5,6]])\n",
    "third_order_tensor = np.array([[[10,20,30], [40,50,60]], [[70,80,90], [100,110,120]]])\n",
    "print(\"second_order_tensor\", second_order_tensor)\n",
    "print(\"number of dimensions\", (second_order_tensor.ndim))\n",
    "print(\"third_order_tensor\", third_order_tensor)\n",
    "print(\"number of dimensions\", (third_order_tensor.ndim))"
   ]
  },
  {
   "cell_type": "code",
   "execution_count": 6,
   "id": "1749ee34",
   "metadata": {},
   "outputs": [
    {
     "name": "stdout",
     "output_type": "stream",
     "text": [
      "[b'1' b'2' b'3' b'4']\n",
      "|S1\n"
     ]
    }
   ],
   "source": [
    "arr = np.array([1,2,3,4], dtype = 'S')\n",
    "print(arr)\n",
    "print(arr.dtype)"
   ]
  },
  {
   "cell_type": "markdown",
   "id": "5351fe26",
   "metadata": {},
   "source": [
    "#### ndarray is a generic multidimensional container for homogeneous data - i.e. all elements must be the same type"
   ]
  },
  {
   "cell_type": "code",
   "execution_count": 7,
   "id": "e791f5dc",
   "metadata": {},
   "outputs": [
    {
     "data": {
      "text/plain": [
       "array([ 0,  1,  2,  3,  4,  5,  6,  7,  8,  9, 10, 11, 12, 13, 14])"
      ]
     },
     "execution_count": 7,
     "metadata": {},
     "output_type": "execute_result"
    }
   ],
   "source": [
    "np.arange(15)"
   ]
  },
  {
   "cell_type": "code",
   "execution_count": 8,
   "id": "21e7c98b",
   "metadata": {},
   "outputs": [],
   "source": [
    "sample_float_array = sample_array.astype(np.float64)"
   ]
  },
  {
   "cell_type": "code",
   "execution_count": 9,
   "id": "43a62373",
   "metadata": {},
   "outputs": [
    {
     "data": {
      "text/plain": [
       "array([8.42000e+02, 9.32000e+02, 6.87432e+05, 9.32740e+04, 1.00000e+01])"
      ]
     },
     "execution_count": 9,
     "metadata": {},
     "output_type": "execute_result"
    }
   ],
   "source": [
    "sample_float_array"
   ]
  },
  {
   "cell_type": "code",
   "execution_count": 10,
   "id": "8a25bd50",
   "metadata": {},
   "outputs": [
    {
     "data": {
      "text/plain": [
       "dtype('float64')"
      ]
     },
     "execution_count": 10,
     "metadata": {},
     "output_type": "execute_result"
    }
   ],
   "source": [
    "sample_float_array_1 = np.array([20.67, 30.89, 27.7665])\n",
    "sample_float_array_1.dtype"
   ]
  },
  {
   "cell_type": "code",
   "execution_count": 11,
   "id": "0769b75a",
   "metadata": {},
   "outputs": [
    {
     "data": {
      "text/plain": [
       "array([20, 30, 27], dtype=int32)"
      ]
     },
     "execution_count": 11,
     "metadata": {},
     "output_type": "execute_result"
    }
   ],
   "source": [
    "sample_integer_array = sample_float_array_1.astype(np.int32)\n",
    "sample_integer_array"
   ]
  },
  {
   "cell_type": "code",
   "execution_count": 12,
   "id": "b5355fe5",
   "metadata": {},
   "outputs": [],
   "source": [
    "example_array = np.arange(10)"
   ]
  },
  {
   "cell_type": "code",
   "execution_count": 13,
   "id": "04a425a9",
   "metadata": {},
   "outputs": [
    {
     "data": {
      "text/plain": [
       "array([0, 1, 2, 3, 4, 5, 6, 7, 8, 9])"
      ]
     },
     "execution_count": 13,
     "metadata": {},
     "output_type": "execute_result"
    }
   ],
   "source": [
    "example_array"
   ]
  },
  {
   "cell_type": "code",
   "execution_count": 14,
   "id": "cb2e6921",
   "metadata": {},
   "outputs": [
    {
     "data": {
      "text/plain": [
       "array([5, 6, 7])"
      ]
     },
     "execution_count": 14,
     "metadata": {},
     "output_type": "execute_result"
    }
   ],
   "source": [
    "example_array[5:8]"
   ]
  },
  {
   "cell_type": "code",
   "execution_count": 15,
   "id": "d2271ba0",
   "metadata": {},
   "outputs": [
    {
     "data": {
      "text/plain": [
       "array([5, 6, 7])"
      ]
     },
     "execution_count": 15,
     "metadata": {},
     "output_type": "execute_result"
    }
   ],
   "source": [
    "sliced_array_example = example_array[5:8]\n",
    "sliced_array_example"
   ]
  },
  {
   "cell_type": "code",
   "execution_count": 16,
   "id": "f5028612",
   "metadata": {},
   "outputs": [],
   "source": [
    "sliced_array_example[1] = 12345"
   ]
  },
  {
   "cell_type": "code",
   "execution_count": 17,
   "id": "44360c67",
   "metadata": {},
   "outputs": [
    {
     "data": {
      "text/plain": [
       "array([    5, 12345,     7])"
      ]
     },
     "execution_count": 17,
     "metadata": {},
     "output_type": "execute_result"
    }
   ],
   "source": [
    "sliced_array_example"
   ]
  },
  {
   "cell_type": "code",
   "execution_count": 18,
   "id": "5cc664c2",
   "metadata": {},
   "outputs": [
    {
     "data": {
      "text/plain": [
       "array([    0,     1,     2,     3,     4,     5, 12345,     7,     8,\n",
       "           9])"
      ]
     },
     "execution_count": 18,
     "metadata": {},
     "output_type": "execute_result"
    }
   ],
   "source": [
    "example_array #When I change values in the sliced_array_example, the mutations are reflected in the original array example_array"
   ]
  },
  {
   "cell_type": "markdown",
   "id": "5238546b",
   "metadata": {},
   "source": [
    "##### As a distinction from the built in array lists, Numpy array(ndarray) slices are \"views on the original array\". This means that the data is not copied, and any modification to the view will be reflected in the source array"
   ]
  },
  {
   "cell_type": "markdown",
   "id": "652d0a99",
   "metadata": {},
   "source": [
    "##### If you want to copy of a slice of an ndarray instead of a view, you will need to explicitly copy the array - for example, example_array[5:8].copy()"
   ]
  },
  {
   "cell_type": "code",
   "execution_count": 19,
   "id": "3284d768",
   "metadata": {},
   "outputs": [],
   "source": [
    "another_sliced_array = example_array[5:8].copy()"
   ]
  },
  {
   "cell_type": "code",
   "execution_count": 20,
   "id": "f051fd63",
   "metadata": {},
   "outputs": [
    {
     "data": {
      "text/plain": [
       "array([    5, 12345,     7])"
      ]
     },
     "execution_count": 20,
     "metadata": {},
     "output_type": "execute_result"
    }
   ],
   "source": [
    "another_sliced_array"
   ]
  },
  {
   "cell_type": "code",
   "execution_count": 21,
   "id": "e29e66d0",
   "metadata": {},
   "outputs": [],
   "source": [
    "another_sliced_array[1] = 6"
   ]
  },
  {
   "cell_type": "code",
   "execution_count": 22,
   "id": "11cdaf8a",
   "metadata": {},
   "outputs": [
    {
     "name": "stdout",
     "output_type": "stream",
     "text": [
      "Copy of the sliced array [5 6 7]\n",
      "View of the sliced array [    5 12345     7]\n",
      "Original array [    0     1     2     3     4     5 12345     7     8     9]\n"
     ]
    }
   ],
   "source": [
    "print(\"Copy of the sliced array\",another_sliced_array)\n",
    "print(\"View of the sliced array\", sliced_array_example)\n",
    "print(\"Original array\", example_array)"
   ]
  },
  {
   "cell_type": "code",
   "execution_count": 23,
   "id": "55b0062d",
   "metadata": {},
   "outputs": [
    {
     "data": {
      "text/plain": [
       "array([[[ 10,  20,  30],\n",
       "        [ 40,  50,  60]],\n",
       "\n",
       "       [[ 70,  80,  90],\n",
       "        [100, 110, 120]]])"
      ]
     },
     "execution_count": 23,
     "metadata": {},
     "output_type": "execute_result"
    }
   ],
   "source": [
    "third_order_tensor"
   ]
  },
  {
   "cell_type": "code",
   "execution_count": 24,
   "id": "9146a8d4",
   "metadata": {},
   "outputs": [
    {
     "data": {
      "text/plain": [
       "array([[10, 20, 30],\n",
       "       [40, 50, 60]])"
      ]
     },
     "execution_count": 24,
     "metadata": {},
     "output_type": "execute_result"
    }
   ],
   "source": [
    "third_order_tensor[0]"
   ]
  },
  {
   "cell_type": "code",
   "execution_count": 25,
   "id": "062d1300",
   "metadata": {},
   "outputs": [
    {
     "data": {
      "text/plain": [
       "array([40, 50, 60])"
      ]
     },
     "execution_count": 25,
     "metadata": {},
     "output_type": "execute_result"
    }
   ],
   "source": [
    "third_order_tensor[0, 1]"
   ]
  },
  {
   "cell_type": "code",
   "execution_count": 26,
   "id": "afa298ef",
   "metadata": {},
   "outputs": [
    {
     "data": {
      "text/plain": [
       "50"
      ]
     },
     "execution_count": 26,
     "metadata": {},
     "output_type": "execute_result"
    }
   ],
   "source": [
    "third_order_tensor[0, 1, 1]"
   ]
  },
  {
   "cell_type": "markdown",
   "id": "dc99b1ba",
   "metadata": {},
   "source": [
    "#### The above multi-dimensional indexing syntax will not work with Python objects such as Lists of Lists"
   ]
  },
  {
   "cell_type": "code",
   "execution_count": 27,
   "id": "23467e77",
   "metadata": {},
   "outputs": [
    {
     "data": {
      "text/plain": [
       "array([[1, 2, 3],\n",
       "       [4, 5, 6]])"
      ]
     },
     "execution_count": 27,
     "metadata": {},
     "output_type": "execute_result"
    }
   ],
   "source": [
    "second_order_tensor"
   ]
  },
  {
   "cell_type": "code",
   "execution_count": 28,
   "id": "0f2150a2",
   "metadata": {},
   "outputs": [
    {
     "data": {
      "text/plain": [
       "array([[2, 3],\n",
       "       [5, 6]])"
      ]
     },
     "execution_count": 28,
     "metadata": {},
     "output_type": "execute_result"
    }
   ],
   "source": [
    "second_order_tensor[:, 1:]"
   ]
  },
  {
   "cell_type": "code",
   "execution_count": 29,
   "id": "cf99bc86",
   "metadata": {},
   "outputs": [],
   "source": [
    "slice_of_second_row = second_order_tensor[1, :2]"
   ]
  },
  {
   "cell_type": "code",
   "execution_count": 30,
   "id": "7ae6691a",
   "metadata": {},
   "outputs": [
    {
     "data": {
      "text/plain": [
       "(2,)"
      ]
     },
     "execution_count": 30,
     "metadata": {},
     "output_type": "execute_result"
    }
   ],
   "source": [
    "slice_of_second_row.shape"
   ]
  },
  {
   "cell_type": "markdown",
   "id": "4c2e051b",
   "metadata": {},
   "source": [
    "#### Boolean indexing"
   ]
  },
  {
   "cell_type": "code",
   "execution_count": 31,
   "id": "442f4dce",
   "metadata": {},
   "outputs": [],
   "source": [
    "names = np.array([\"Bob\", \"Joe\", \"Will\", \"Bob\", \"Will\", \"Joe\", \"Joe\"])"
   ]
  },
  {
   "cell_type": "code",
   "execution_count": 32,
   "id": "4e1d22cb",
   "metadata": {},
   "outputs": [],
   "source": [
    "data = np.array([[4, 7], [0, 2], [-5, 6], [0, 0], [1, 2], [-12, -4], [3, 4]])"
   ]
  },
  {
   "cell_type": "code",
   "execution_count": 33,
   "id": "4cc49bff",
   "metadata": {},
   "outputs": [
    {
     "data": {
      "text/plain": [
       "array([[  4,   7],\n",
       "       [  0,   2],\n",
       "       [ -5,   6],\n",
       "       [  0,   0],\n",
       "       [  1,   2],\n",
       "       [-12,  -4],\n",
       "       [  3,   4]])"
      ]
     },
     "execution_count": 33,
     "metadata": {},
     "output_type": "execute_result"
    }
   ],
   "source": [
    "data"
   ]
  },
  {
   "cell_type": "code",
   "execution_count": 34,
   "id": "53515130",
   "metadata": {},
   "outputs": [
    {
     "data": {
      "text/plain": [
       "array([ True, False, False,  True, False, False, False])"
      ]
     },
     "execution_count": 34,
     "metadata": {},
     "output_type": "execute_result"
    }
   ],
   "source": [
    "names == \"Bob\""
   ]
  },
  {
   "cell_type": "code",
   "execution_count": 35,
   "id": "9f572de1",
   "metadata": {},
   "outputs": [
    {
     "data": {
      "text/plain": [
       "array([[4, 7],\n",
       "       [0, 0]])"
      ]
     },
     "execution_count": 35,
     "metadata": {},
     "output_type": "execute_result"
    }
   ],
   "source": [
    "data[names == \"Bob\"]"
   ]
  },
  {
   "cell_type": "code",
   "execution_count": 36,
   "id": "ae5674cc",
   "metadata": {},
   "outputs": [
    {
     "data": {
      "text/plain": [
       "array([False,  True,  True, False,  True,  True,  True])"
      ]
     },
     "execution_count": 36,
     "metadata": {},
     "output_type": "execute_result"
    }
   ],
   "source": [
    "names != \"Bob\""
   ]
  },
  {
   "cell_type": "code",
   "execution_count": 37,
   "id": "d2b15383",
   "metadata": {},
   "outputs": [
    {
     "data": {
      "text/plain": [
       "array([[  0,   2],\n",
       "       [ -5,   6],\n",
       "       [  1,   2],\n",
       "       [-12,  -4],\n",
       "       [  3,   4]])"
      ]
     },
     "execution_count": 37,
     "metadata": {},
     "output_type": "execute_result"
    }
   ],
   "source": [
    "data[(names != \"Bob\")]"
   ]
  },
  {
   "cell_type": "code",
   "execution_count": 38,
   "id": "0cb147b2",
   "metadata": {},
   "outputs": [],
   "source": [
    "sample_matrix = np.arange(32).reshape((8, 4))"
   ]
  },
  {
   "cell_type": "code",
   "execution_count": 39,
   "id": "a381ab92",
   "metadata": {},
   "outputs": [
    {
     "data": {
      "text/plain": [
       "array([[ 0,  1,  2,  3],\n",
       "       [ 4,  5,  6,  7],\n",
       "       [ 8,  9, 10, 11],\n",
       "       [12, 13, 14, 15],\n",
       "       [16, 17, 18, 19],\n",
       "       [20, 21, 22, 23],\n",
       "       [24, 25, 26, 27],\n",
       "       [28, 29, 30, 31]])"
      ]
     },
     "execution_count": 39,
     "metadata": {},
     "output_type": "execute_result"
    }
   ],
   "source": [
    "sample_matrix"
   ]
  },
  {
   "cell_type": "code",
   "execution_count": 40,
   "id": "53b24c74",
   "metadata": {},
   "outputs": [
    {
     "data": {
      "text/plain": [
       "array([6, 6, 6, 6])"
      ]
     },
     "execution_count": 40,
     "metadata": {},
     "output_type": "execute_result"
    }
   ],
   "source": [
    "sample_matrix[[1, 1, 1, 1], [2, 2, 2, 2]]"
   ]
  },
  {
   "cell_type": "code",
   "execution_count": 41,
   "id": "2de3b7cf",
   "metadata": {},
   "outputs": [
    {
     "data": {
      "text/plain": [
       "array([[4, 5, 6, 7],\n",
       "       [4, 5, 6, 7],\n",
       "       [4, 5, 6, 7],\n",
       "       [4, 5, 6, 7]])"
      ]
     },
     "execution_count": 41,
     "metadata": {},
     "output_type": "execute_result"
    }
   ],
   "source": [
    "sample_matrix[[1, 1, 1, 1]]"
   ]
  },
  {
   "cell_type": "code",
   "execution_count": 42,
   "id": "2886cfc6",
   "metadata": {},
   "outputs": [
    {
     "data": {
      "text/plain": [
       "array([ 4, 23, 29, 10])"
      ]
     },
     "execution_count": 42,
     "metadata": {},
     "output_type": "execute_result"
    }
   ],
   "source": [
    "sample_matrix[[1, 5, 7, 2], [0, 3, 1, 2]]# this returns the i X j elements i.e. 0th index element in the 1st index row, 3rd index element in the 5th index row and so on"
   ]
  },
  {
   "cell_type": "code",
   "execution_count": 43,
   "id": "4c11b975",
   "metadata": {},
   "outputs": [
    {
     "data": {
      "text/plain": [
       "array([[ 4,  7,  5,  6],\n",
       "       [20, 23, 21, 22],\n",
       "       [28, 31, 29, 30],\n",
       "       [ 8, 11,  9, 10]])"
      ]
     },
     "execution_count": 43,
     "metadata": {},
     "output_type": "execute_result"
    }
   ],
   "source": [
    "sample_matrix[[1, 5, 7, 2]][:, [0, 3, 1, 2]]# this returns 0th element for 1st, 5th, 7th and 2nd row in the first column, 3rd index element for the respective rows, followed by 1st index element for the respective rows and so on"
   ]
  },
  {
   "cell_type": "code",
   "execution_count": 44,
   "id": "1b369aae",
   "metadata": {},
   "outputs": [],
   "source": [
    "compute_sample_matrix = np.array([[0, 1, 0], [1, 2, -2], [6, 3, 2], [-1, 0, -1], [1, 0, 1]])"
   ]
  },
  {
   "cell_type": "code",
   "execution_count": 45,
   "id": "c9556886",
   "metadata": {},
   "outputs": [
    {
     "data": {
      "text/plain": [
       "array([[ 0,  1,  0],\n",
       "       [ 1,  2, -2],\n",
       "       [ 6,  3,  2],\n",
       "       [-1,  0, -1],\n",
       "       [ 1,  0,  1]])"
      ]
     },
     "execution_count": 45,
     "metadata": {},
     "output_type": "execute_result"
    }
   ],
   "source": [
    "compute_sample_matrix"
   ]
  },
  {
   "cell_type": "code",
   "execution_count": 46,
   "id": "db9fa006",
   "metadata": {},
   "outputs": [
    {
     "data": {
      "text/plain": [
       "array([[ 0,  1,  6, -1,  1],\n",
       "       [ 1,  2,  3,  0,  0],\n",
       "       [ 0, -2,  2, -1,  1]])"
      ]
     },
     "execution_count": 46,
     "metadata": {},
     "output_type": "execute_result"
    }
   ],
   "source": [
    "compute_sample_matrix.T"
   ]
  },
  {
   "cell_type": "code",
   "execution_count": 47,
   "id": "fbc63740",
   "metadata": {},
   "outputs": [
    {
     "data": {
      "text/plain": [
       "array([[39, 20, 12],\n",
       "       [20, 14,  2],\n",
       "       [12,  2, 10]])"
      ]
     },
     "execution_count": 47,
     "metadata": {},
     "output_type": "execute_result"
    }
   ],
   "source": [
    "np.dot(compute_sample_matrix.T, compute_sample_matrix)"
   ]
  },
  {
   "cell_type": "code",
   "execution_count": 48,
   "id": "a20e2b4a",
   "metadata": {},
   "outputs": [],
   "source": [
    "samples = np.random.standard_normal(size=(4, 4))"
   ]
  },
  {
   "cell_type": "code",
   "execution_count": 49,
   "id": "d8386fa8",
   "metadata": {},
   "outputs": [
    {
     "data": {
      "text/plain": [
       "array([[-0.41132892, -0.92783084, -1.33973658,  0.11588323],\n",
       "       [ 1.03476662,  0.7628718 , -1.47022276, -0.00531465],\n",
       "       [-0.83388696, -0.78805074, -0.26912007, -0.68143512],\n",
       "       [-0.95055867,  1.63536842, -0.46521661,  1.39404273]])"
      ]
     },
     "execution_count": 49,
     "metadata": {},
     "output_type": "execute_result"
    }
   ],
   "source": [
    "samples"
   ]
  },
  {
   "cell_type": "code",
   "execution_count": 50,
   "id": "05f1f3ec",
   "metadata": {},
   "outputs": [],
   "source": [
    "another_sample_array = np.arange(20)"
   ]
  },
  {
   "cell_type": "code",
   "execution_count": 52,
   "id": "c7d22f18",
   "metadata": {},
   "outputs": [
    {
     "data": {
      "text/plain": [
       "array([ 0,  1,  2,  3,  4,  5,  6,  7,  8,  9, 10, 11, 12, 13, 14, 15, 16,\n",
       "       17, 18, 19])"
      ]
     },
     "execution_count": 52,
     "metadata": {},
     "output_type": "execute_result"
    }
   ],
   "source": [
    "another_sample_array"
   ]
  },
  {
   "cell_type": "code",
   "execution_count": 54,
   "id": "b03bbba2",
   "metadata": {},
   "outputs": [
    {
     "data": {
      "text/plain": [
       "array([0.        , 1.        , 1.41421356, 1.73205081, 2.        ,\n",
       "       2.23606798, 2.44948974, 2.64575131, 2.82842712, 3.        ,\n",
       "       3.16227766, 3.31662479, 3.46410162, 3.60555128, 3.74165739,\n",
       "       3.87298335, 4.        , 4.12310563, 4.24264069, 4.35889894])"
      ]
     },
     "execution_count": 54,
     "metadata": {},
     "output_type": "execute_result"
    }
   ],
   "source": [
    "np.sqrt(another_sample_array)"
   ]
  },
  {
   "cell_type": "code",
   "execution_count": 55,
   "id": "0b5a0212",
   "metadata": {},
   "outputs": [
    {
     "data": {
      "text/plain": [
       "array([1.00000000e+00, 2.71828183e+00, 7.38905610e+00, 2.00855369e+01,\n",
       "       5.45981500e+01, 1.48413159e+02, 4.03428793e+02, 1.09663316e+03,\n",
       "       2.98095799e+03, 8.10308393e+03, 2.20264658e+04, 5.98741417e+04,\n",
       "       1.62754791e+05, 4.42413392e+05, 1.20260428e+06, 3.26901737e+06,\n",
       "       8.88611052e+06, 2.41549528e+07, 6.56599691e+07, 1.78482301e+08])"
      ]
     },
     "execution_count": 55,
     "metadata": {},
     "output_type": "execute_result"
    }
   ],
   "source": [
    "np.exp(another_sample_array)"
   ]
  },
  {
   "cell_type": "code",
   "execution_count": 56,
   "id": "2ed4ddfe",
   "metadata": {},
   "outputs": [],
   "source": [
    "xarr = np.array([1.1, 1.2, 1.3, 1.4, 1.5])"
   ]
  },
  {
   "cell_type": "code",
   "execution_count": 57,
   "id": "7f5a0cea",
   "metadata": {},
   "outputs": [],
   "source": [
    "yarr = np.array([2.1, 2.2, 2.3, 2.4, 2.5])"
   ]
  },
  {
   "cell_type": "code",
   "execution_count": 58,
   "id": "047f0ad9",
   "metadata": {},
   "outputs": [],
   "source": [
    "cond = np.array([True, False, True, True, False])"
   ]
  },
  {
   "cell_type": "code",
   "execution_count": 59,
   "id": "d80da45a",
   "metadata": {},
   "outputs": [],
   "source": [
    "result = [(x if c else y) for x, y, c in zip(xarr, yarr, cond)] ## Very very slow"
   ]
  },
  {
   "cell_type": "code",
   "execution_count": 60,
   "id": "448fdedf",
   "metadata": {},
   "outputs": [
    {
     "data": {
      "text/plain": [
       "[1.1, 2.2, 1.3, 1.4, 2.5]"
      ]
     },
     "execution_count": 60,
     "metadata": {},
     "output_type": "execute_result"
    }
   ],
   "source": [
    "result"
   ]
  },
  {
   "cell_type": "code",
   "execution_count": 61,
   "id": "9c47f120",
   "metadata": {},
   "outputs": [],
   "source": [
    "result_now = np.where(cond, xarr, yarr)"
   ]
  },
  {
   "cell_type": "code",
   "execution_count": 62,
   "id": "a1efc6cd",
   "metadata": {},
   "outputs": [
    {
     "data": {
      "text/plain": [
       "array([1.1, 2.2, 1.3, 1.4, 2.5])"
      ]
     },
     "execution_count": 62,
     "metadata": {},
     "output_type": "execute_result"
    }
   ],
   "source": [
    "result_now"
   ]
  },
  {
   "cell_type": "markdown",
   "id": "b68e8e09",
   "metadata": {},
   "source": [
    "#### A typical use of where in data analysis is to produce a new array values based on another array."
   ]
  },
  {
   "cell_type": "markdown",
   "id": "86b6f132",
   "metadata": {},
   "source": [
    "#### Suppose you had a matrix of randomly generated data and you wanted to replace all positive values with 2 and all negative values with -2, this possible to do with numpy.where"
   ]
  },
  {
   "cell_type": "code",
   "execution_count": 64,
   "id": "2d3eb480",
   "metadata": {},
   "outputs": [],
   "source": [
    "rng = np.random.default_rng(seed=12345)"
   ]
  },
  {
   "cell_type": "code",
   "execution_count": 65,
   "id": "7386efa4",
   "metadata": {},
   "outputs": [],
   "source": [
    "yet_another_random_array = rng.standard_normal((4, 4))"
   ]
  },
  {
   "cell_type": "code",
   "execution_count": 66,
   "id": "d1c24848",
   "metadata": {},
   "outputs": [
    {
     "data": {
      "text/plain": [
       "array([[-1.42382504,  1.26372846, -0.87066174, -0.25917323],\n",
       "       [-0.07534331, -0.74088465, -1.3677927 ,  0.6488928 ],\n",
       "       [ 0.36105811, -1.95286306,  2.34740965,  0.96849691],\n",
       "       [-0.75938718,  0.90219827, -0.46695317, -0.06068952]])"
      ]
     },
     "execution_count": 66,
     "metadata": {},
     "output_type": "execute_result"
    }
   ],
   "source": [
    "yet_another_random_array"
   ]
  },
  {
   "cell_type": "code",
   "execution_count": 69,
   "id": "12af3e8f",
   "metadata": {},
   "outputs": [
    {
     "data": {
      "text/plain": [
       "array([[-1,  0, -1, -1],\n",
       "       [-1, -1, -1,  0],\n",
       "       [ 0, -1,  0,  0],\n",
       "       [-1,  0, -1, -1]])"
      ]
     },
     "execution_count": 69,
     "metadata": {},
     "output_type": "execute_result"
    }
   ],
   "source": [
    "np.where(yet_another_random_array > 0, 0, -1)"
   ]
  },
  {
   "cell_type": "code",
   "execution_count": null,
   "id": "b8f8fbf3",
   "metadata": {},
   "outputs": [],
   "source": []
  }
 ],
 "metadata": {
  "kernelspec": {
   "display_name": "Python 3 (ipykernel)",
   "language": "python",
   "name": "python3"
  },
  "language_info": {
   "codemirror_mode": {
    "name": "ipython",
    "version": 3
   },
   "file_extension": ".py",
   "mimetype": "text/x-python",
   "name": "python",
   "nbconvert_exporter": "python",
   "pygments_lexer": "ipython3",
   "version": "3.9.7"
  }
 },
 "nbformat": 4,
 "nbformat_minor": 5
}
